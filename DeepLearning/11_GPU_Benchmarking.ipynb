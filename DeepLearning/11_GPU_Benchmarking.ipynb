{
 "cells": [
  {
   "cell_type": "code",
   "execution_count": 1,
   "metadata": {},
   "outputs": [],
   "source": [
    "import os\n",
    "import tensorflow as tf\n",
    "import numpy as np\n",
    "from tensorflow import keras\n",
    "from tensorflow.keras.models import Sequential\n",
    "from tensorflow.keras import layers as ly"
   ]
  },
  {
   "cell_type": "code",
   "execution_count": 2,
   "metadata": {},
   "outputs": [
    {
     "data": {
      "text/plain": [
       "[PhysicalDevice(name='/physical_device:CPU:0', device_type='CPU'),\n",
       " PhysicalDevice(name='/physical_device:XLA_CPU:0', device_type='XLA_CPU'),\n",
       " PhysicalDevice(name='/physical_device:GPU:0', device_type='GPU'),\n",
       " PhysicalDevice(name='/physical_device:XLA_GPU:0', device_type='XLA_GPU')]"
      ]
     },
     "execution_count": 2,
     "metadata": {},
     "output_type": "execute_result"
    }
   ],
   "source": [
    "tf.config.experimental.list_physical_devices()"
   ]
  },
  {
   "cell_type": "code",
   "execution_count": 3,
   "metadata": {},
   "outputs": [
    {
     "data": {
      "text/plain": [
       "'2.3.0'"
      ]
     },
     "execution_count": 3,
     "metadata": {},
     "output_type": "execute_result"
    }
   ],
   "source": [
    "tf.__version__"
   ]
  },
  {
   "cell_type": "code",
   "execution_count": 4,
   "metadata": {},
   "outputs": [
    {
     "data": {
      "text/plain": [
       "True"
      ]
     },
     "execution_count": 4,
     "metadata": {},
     "output_type": "execute_result"
    }
   ],
   "source": [
    "tf.test.is_built_with_cuda()"
   ]
  },
  {
   "cell_type": "code",
   "execution_count": 5,
   "metadata": {},
   "outputs": [
    {
     "name": "stdout",
     "output_type": "stream",
     "text": [
      "Downloading data from https://www.cs.toronto.edu/~kriz/cifar-10-python.tar.gz\n",
      "170500096/170498071 [==============================] - 37s 0us/step\n"
     ]
    }
   ],
   "source": [
    "(X_train, y_train), (X_test, y_test) = tf.keras.datasets.cifar10.load_data()"
   ]
  },
  {
   "cell_type": "code",
   "execution_count": 6,
   "metadata": {},
   "outputs": [
    {
     "data": {
      "text/plain": [
       "(50000, 32, 32, 3)"
      ]
     },
     "execution_count": 6,
     "metadata": {},
     "output_type": "execute_result"
    }
   ],
   "source": [
    "X_train.shape"
   ]
  },
  {
   "cell_type": "code",
   "execution_count": 7,
   "metadata": {},
   "outputs": [
    {
     "data": {
      "text/plain": [
       "(50000, 1)"
      ]
     },
     "execution_count": 7,
     "metadata": {},
     "output_type": "execute_result"
    }
   ],
   "source": [
    "y_train.shape"
   ]
  },
  {
   "cell_type": "code",
   "execution_count": 10,
   "metadata": {},
   "outputs": [],
   "source": [
    "classes = [\n",
    "    \"airplane\",\n",
    "    \"automobile\",\n",
    "    \"bird\",\n",
    "    \"cat\",\n",
    "    \"deer\",\n",
    "    \"dog\",\n",
    "    \"frog\",\n",
    "    \"horse\",\n",
    "    \"ship\",\n",
    "    \"truck\"\n",
    "]"
   ]
  },
  {
   "cell_type": "code",
   "execution_count": 11,
   "metadata": {},
   "outputs": [
    {
     "data": {
      "text/plain": [
       "'deer'"
      ]
     },
     "execution_count": 11,
     "metadata": {},
     "output_type": "execute_result"
    }
   ],
   "source": [
    "classes[y_train[3][0]]"
   ]
  },
  {
   "cell_type": "code",
   "execution_count": 13,
   "metadata": {},
   "outputs": [
    {
     "data": {
      "text/plain": [
       "array([[6],\n",
       "       [9],\n",
       "       [9]], dtype=uint8)"
      ]
     },
     "execution_count": 13,
     "metadata": {},
     "output_type": "execute_result"
    }
   ],
   "source": [
    "y_train[:3]"
   ]
  },
  {
   "cell_type": "markdown",
   "metadata": {},
   "source": [
    "### Scale images"
   ]
  },
  {
   "cell_type": "code",
   "execution_count": 15,
   "metadata": {},
   "outputs": [],
   "source": [
    "X_train_scaled = X_train / 255\n",
    "X_test_scaled = X_test / 255"
   ]
  },
  {
   "cell_type": "code",
   "execution_count": 17,
   "metadata": {},
   "outputs": [],
   "source": [
    "y_train_categorical = keras.utils.to_categorical(\n",
    "    y_train, num_classes=len(classes), dtype=\"float32\"\n",
    ")\n",
    "\n",
    "y_test_categorical = keras.utils.to_categorical(\n",
    "    y_test, num_classes=len(classes), dtype=\"float32\"\n",
    ")"
   ]
  },
  {
   "cell_type": "code",
   "execution_count": 19,
   "metadata": {},
   "outputs": [
    {
     "data": {
      "text/plain": [
       "array([[0., 0., 0., 1., 0., 0., 0., 0., 0., 0.],\n",
       "       [0., 0., 0., 0., 0., 0., 0., 0., 1., 0.],\n",
       "       [0., 0., 0., 0., 0., 0., 0., 0., 1., 0.],\n",
       "       [1., 0., 0., 0., 0., 0., 0., 0., 0., 0.],\n",
       "       [0., 0., 0., 0., 0., 0., 1., 0., 0., 0.]], dtype=float32)"
      ]
     },
     "execution_count": 19,
     "metadata": {},
     "output_type": "execute_result"
    }
   ],
   "source": [
    "y_test_categorical[:5]"
   ]
  },
  {
   "cell_type": "markdown",
   "metadata": {},
   "source": [
    "### Model building and training"
   ]
  },
  {
   "cell_type": "code",
   "execution_count": 21,
   "metadata": {},
   "outputs": [],
   "source": [
    "def get_model():\n",
    "    model = Sequential([\n",
    "        ly.Flatten(input_shape=(32, 32, 3)),\n",
    "        ly.Dense(3000, activation=\"relu\"),\n",
    "        ly.Dense(1000, activation=\"relu\"),\n",
    "        ly.Dense(10, activation=\"sigmoid\"),\n",
    "    ])\n",
    "    \n",
    "    model.compile(optimizer=\"SGD\",\n",
    "                 loss=\"categorical_crossentropy\",\n",
    "                 metrics=[\"accuracy\"])\n",
    "    return model"
   ]
  },
  {
   "cell_type": "code",
   "execution_count": 27,
   "metadata": {},
   "outputs": [],
   "source": [
    "train_tf_dataset = tf.data.Dataset.from_tensor_slices(\n",
    "    (X_train_scaled, y_train_categorical))\n",
    "test_tf_dataset = tf.data.Dataset.from_tensor_slices(\n",
    "    (X_test_scaled, y_test_categorical))"
   ]
  },
  {
   "cell_type": "code",
   "execution_count": 28,
   "metadata": {},
   "outputs": [
    {
     "name": "stdout",
     "output_type": "stream",
     "text": [
      "INFO:tensorflow:Using MirroredStrategy with devices ('/job:localhost/replica:0/task:0/device:GPU:0',)\n"
     ]
    }
   ],
   "source": [
    "strategy = tf.distribute.MirroredStrategy()"
   ]
  },
  {
   "cell_type": "code",
   "execution_count": 29,
   "metadata": {},
   "outputs": [
    {
     "data": {
      "text/plain": [
       "1"
      ]
     },
     "execution_count": 29,
     "metadata": {},
     "output_type": "execute_result"
    }
   ],
   "source": [
    "strategy.num_replicas_in_sync"
   ]
  },
  {
   "cell_type": "code",
   "execution_count": 30,
   "metadata": {},
   "outputs": [],
   "source": [
    "BATCH_SIZE_PER_REPLICA = 250\n",
    "BATCH_SIZE = BATCH_SIZE_PER_REPLICA * strategy.num_replicas_in_sync"
   ]
  },
  {
   "cell_type": "code",
   "execution_count": 32,
   "metadata": {},
   "outputs": [],
   "source": [
    "train_dataset = train_tf_dataset.batch(BATCH_SIZE).prefetch(tf.data.experimental.AUTOTUNE)\n",
    "test_dataset = test_tf_dataset.batch(BATCH_SIZE)"
   ]
  },
  {
   "cell_type": "code",
   "execution_count": 36,
   "metadata": {},
   "outputs": [
    {
     "name": "stdout",
     "output_type": "stream",
     "text": [
      "Epoch 1/50\n",
      "200/200 [==============================] - 4s 20ms/step - loss: 2.0498 - accuracy: 0.2759\n",
      "Epoch 2/50\n",
      "200/200 [==============================] - 4s 18ms/step - loss: 1.8568 - accuracy: 0.3446\n",
      "Epoch 3/50\n",
      "200/200 [==============================] - 4s 18ms/step - loss: 1.7933 - accuracy: 0.3691 0s - loss: 1.7952 \n",
      "Epoch 4/50\n",
      "200/200 [==============================] - 4s 18ms/step - loss: 1.7497 - accuracy: 0.3866\n",
      "Epoch 5/50\n",
      "200/200 [==============================] - 3s 17ms/step - loss: 1.7148 - accuracy: 0.3994\n",
      "Epoch 6/50\n",
      "200/200 [==============================] - 4s 18ms/step - loss: 1.6854 - accuracy: 0.4111\n",
      "Epoch 7/50\n",
      "200/200 [==============================] - 4s 18ms/step - loss: 1.6596 - accuracy: 0.4211\n",
      "Epoch 8/50\n",
      "200/200 [==============================] - 4s 18ms/step - loss: 1.6365 - accuracy: 0.4306\n",
      "Epoch 9/50\n",
      "200/200 [==============================] - 4s 18ms/step - loss: 1.6156 - accuracy: 0.4369\n",
      "Epoch 10/50\n",
      "200/200 [==============================] - 4s 18ms/step - loss: 1.5966 - accuracy: 0.4443\n",
      "Epoch 11/50\n",
      "200/200 [==============================] - 4s 19ms/step - loss: 1.5791 - accuracy: 0.4507\n",
      "Epoch 12/50\n",
      "200/200 [==============================] - 4s 19ms/step - loss: 1.5630 - accuracy: 0.4564\n",
      "Epoch 13/50\n",
      "200/200 [==============================] - 4s 19ms/step - loss: 1.5480 - accuracy: 0.4618\n",
      "Epoch 14/50\n",
      "200/200 [==============================] - 4s 18ms/step - loss: 1.5340 - accuracy: 0.4674\n",
      "Epoch 15/50\n",
      "200/200 [==============================] - 4s 19ms/step - loss: 1.5207 - accuracy: 0.4724\n",
      "Epoch 16/50\n",
      "200/200 [==============================] - 4s 18ms/step - loss: 1.5081 - accuracy: 0.4763\n",
      "Epoch 17/50\n",
      "200/200 [==============================] - 4s 18ms/step - loss: 1.4959 - accuracy: 0.4805\n",
      "Epoch 18/50\n",
      "200/200 [==============================] - 4s 19ms/step - loss: 1.4843 - accuracy: 0.4853\n",
      "Epoch 19/50\n",
      "200/200 [==============================] - 4s 18ms/step - loss: 1.4731 - accuracy: 0.4893\n",
      "Epoch 20/50\n",
      "200/200 [==============================] - ETA: 0s - loss: 1.4618 - accuracy: 0.49 - 4s 19ms/step - loss: 1.4620 - accuracy: 0.4931\n",
      "Epoch 21/50\n",
      "200/200 [==============================] - 4s 19ms/step - loss: 1.4513 - accuracy: 0.4965\n",
      "Epoch 22/50\n",
      "200/200 [==============================] - 4s 19ms/step - loss: 1.4410 - accuracy: 0.5001\n",
      "Epoch 23/50\n",
      "200/200 [==============================] - 4s 19ms/step - loss: 1.4309 - accuracy: 0.5035\n",
      "Epoch 24/50\n",
      "200/200 [==============================] - 4s 20ms/step - loss: 1.4210 - accuracy: 0.5069 0s - loss: 1.4205 - accuracy: 0.\n",
      "Epoch 25/50\n",
      "200/200 [==============================] - 4s 20ms/step - loss: 1.4113 - accuracy: 0.5103\n",
      "Epoch 26/50\n",
      "200/200 [==============================] - 4s 20ms/step - loss: 1.4018 - accuracy: 0.5131\n",
      "Epoch 27/50\n",
      "200/200 [==============================] - 4s 20ms/step - loss: 1.3926 - accuracy: 0.5164 0s - loss: 1.3921 - accuracy: 0.\n",
      "Epoch 28/50\n",
      "200/200 [==============================] - 4s 20ms/step - loss: 1.3835 - accuracy: 0.5191\n",
      "Epoch 29/50\n",
      "200/200 [==============================] - 4s 20ms/step - loss: 1.3745 - accuracy: 0.5226\n",
      "Epoch 30/50\n",
      "200/200 [==============================] - 4s 20ms/step - loss: 1.3658 - accuracy: 0.5258 0s - loss: 1.364\n",
      "Epoch 31/50\n",
      "200/200 [==============================] - 4s 20ms/step - loss: 1.3572 - accuracy: 0.5294\n",
      "Epoch 32/50\n",
      "200/200 [==============================] - 4s 20ms/step - loss: 1.3487 - accuracy: 0.5325\n",
      "Epoch 33/50\n",
      "200/200 [==============================] - 4s 20ms/step - loss: 1.3405 - accuracy: 0.5350\n",
      "Epoch 34/50\n",
      "200/200 [==============================] - 4s 20ms/step - loss: 1.3323 - accuracy: 0.5377\n",
      "Epoch 35/50\n",
      "200/200 [==============================] - 4s 20ms/step - loss: 1.3244 - accuracy: 0.5411 0s - loss: 1.3241 - \n",
      "Epoch 36/50\n",
      "200/200 [==============================] - 4s 20ms/step - loss: 1.3165 - accuracy: 0.5436\n",
      "Epoch 37/50\n",
      "200/200 [==============================] - 4s 20ms/step - loss: 1.3088 - accuracy: 0.5460\n",
      "Epoch 38/50\n",
      "200/200 [==============================] - 4s 20ms/step - loss: 1.3010 - accuracy: 0.5488\n",
      "Epoch 39/50\n",
      "200/200 [==============================] - 4s 20ms/step - loss: 1.2936 - accuracy: 0.5510\n",
      "Epoch 40/50\n",
      "200/200 [==============================] - 4s 22ms/step - loss: 1.2860 - accuracy: 0.5541 0s - loss:\n",
      "Epoch 41/50\n",
      "200/200 [==============================] - 4s 20ms/step - loss: 1.2787 - accuracy: 0.5565\n",
      "Epoch 42/50\n",
      "200/200 [==============================] - 4s 20ms/step - loss: 1.2716 - accuracy: 0.5593\n",
      "Epoch 43/50\n",
      "200/200 [==============================] - 4s 20ms/step - loss: 1.2645 - accuracy: 0.5617\n",
      "Epoch 44/50\n",
      "200/200 [==============================] - 4s 19ms/step - loss: 1.2574 - accuracy: 0.5643\n",
      "Epoch 45/50\n",
      "200/200 [==============================] - 4s 19ms/step - loss: 1.2504 - accuracy: 0.5666 0s - los\n",
      "Epoch 46/50\n",
      "200/200 [==============================] - 4s 20ms/step - loss: 1.2436 - accuracy: 0.5691\n",
      "Epoch 47/50\n",
      "200/200 [==============================] - 4s 20ms/step - loss: 1.2368 - accuracy: 0.5716\n",
      "Epoch 48/50\n",
      "200/200 [==============================] - 4s 20ms/step - loss: 1.2299 - accuracy: 0.5744\n",
      "Epoch 49/50\n",
      "200/200 [==============================] - 4s 20ms/step - loss: 1.2232 - accuracy: 0.5770\n",
      "Epoch 50/50\n",
      "200/200 [==============================] - 4s 20ms/step - loss: 1.2164 - accuracy: 0.5793\n",
      "3min 42s ± 0 ns per loop (mean ± std. dev. of 1 run, 1 loop each)\n"
     ]
    }
   ],
   "source": [
    "%%timeit -n1 -r1 \n",
    "with strategy.scope():\n",
    "    gpu_model = get_model()\n",
    "    gpu_model.fit(train_dataset, epochs=50)"
   ]
  },
  {
   "cell_type": "code",
   "execution_count": 37,
   "metadata": {},
   "outputs": [
    {
     "name": "stdout",
     "output_type": "stream",
     "text": [
      "Epoch 1/50\n",
      "200/200 [==============================] - 35s 175ms/step - loss: 2.0424 - accuracy: 0.2734\n",
      "Epoch 2/50\n",
      "200/200 [==============================] - 24s 122ms/step - loss: 1.8543 - accuracy: 0.3437\n",
      "Epoch 3/50\n",
      "200/200 [==============================] - 24s 122ms/step - loss: 1.7886 - accuracy: 0.3698\n",
      "Epoch 4/50\n",
      "200/200 [==============================] - 23s 117ms/step - loss: 1.7432 - accuracy: 0.3875\n",
      "Epoch 5/50\n",
      "200/200 [==============================] - 24s 118ms/step - loss: 1.7070 - accuracy: 0.4026\n",
      "Epoch 6/50\n",
      "200/200 [==============================] - 23s 117ms/step - loss: 1.6764 - accuracy: 0.4151\n",
      "Epoch 7/50\n",
      "200/200 [==============================] - 23s 117ms/step - loss: 1.6500 - accuracy: 0.4240\n",
      "Epoch 8/50\n",
      "200/200 [==============================] - 24s 118ms/step - loss: 1.6266 - accuracy: 0.4317\n",
      "Epoch 9/50\n",
      "200/200 [==============================] - 23s 117ms/step - loss: 1.6056 - accuracy: 0.4391\n",
      "Epoch 10/50\n",
      "200/200 [==============================] - 23s 117ms/step - loss: 1.5866 - accuracy: 0.4457\n",
      "Epoch 11/50\n",
      "200/200 [==============================] - 24s 118ms/step - loss: 1.5693 - accuracy: 0.4525\n",
      "Epoch 12/50\n",
      "200/200 [==============================] - 23s 117ms/step - loss: 1.5533 - accuracy: 0.4583\n",
      "Epoch 13/50\n",
      "200/200 [==============================] - 24s 118ms/step - loss: 1.5383 - accuracy: 0.4643\n",
      "Epoch 14/50\n",
      "200/200 [==============================] - 24s 118ms/step - loss: 1.5244 - accuracy: 0.4687\n",
      "Epoch 15/50\n",
      "200/200 [==============================] - 23s 117ms/step - loss: 1.5111 - accuracy: 0.4736\n",
      "Epoch 16/50\n",
      "200/200 [==============================] - 24s 118ms/step - loss: 1.4987 - accuracy: 0.4779\n",
      "Epoch 17/50\n",
      "200/200 [==============================] - 24s 118ms/step - loss: 1.4867 - accuracy: 0.4821\n",
      "Epoch 18/50\n",
      "200/200 [==============================] - 24s 118ms/step - loss: 1.4751 - accuracy: 0.4865\n",
      "Epoch 19/50\n",
      "200/200 [==============================] - 23s 117ms/step - loss: 1.4640 - accuracy: 0.4901\n",
      "Epoch 20/50\n",
      "200/200 [==============================] - 24s 118ms/step - loss: 1.4531 - accuracy: 0.4944\n",
      "Epoch 21/50\n",
      "200/200 [==============================] - 24s 118ms/step - loss: 1.4426 - accuracy: 0.4981\n",
      "Epoch 22/50\n",
      "200/200 [==============================] - 23s 117ms/step - loss: 1.4323 - accuracy: 0.5017\n",
      "Epoch 23/50\n",
      "200/200 [==============================] - 24s 118ms/step - loss: 1.4221 - accuracy: 0.5050\n",
      "Epoch 24/50\n",
      "200/200 [==============================] - 24s 119ms/step - loss: 1.4123 - accuracy: 0.5082\n",
      "Epoch 25/50\n",
      "200/200 [==============================] - 24s 118ms/step - loss: 1.4029 - accuracy: 0.5120\n",
      "Epoch 26/50\n",
      "200/200 [==============================] - 23s 117ms/step - loss: 1.3935 - accuracy: 0.5160\n",
      "Epoch 27/50\n",
      "200/200 [==============================] - 24s 118ms/step - loss: 1.3843 - accuracy: 0.5195\n",
      "Epoch 28/50\n",
      "200/200 [==============================] - 24s 118ms/step - loss: 1.3753 - accuracy: 0.5227\n",
      "Epoch 29/50\n",
      "200/200 [==============================] - 23s 117ms/step - loss: 1.3664 - accuracy: 0.5252\n",
      "Epoch 30/50\n",
      "200/200 [==============================] - 24s 118ms/step - loss: 1.3578 - accuracy: 0.5282\n",
      "Epoch 31/50\n",
      "200/200 [==============================] - 24s 118ms/step - loss: 1.3493 - accuracy: 0.5315\n",
      "Epoch 32/50\n",
      "200/200 [==============================] - 24s 118ms/step - loss: 1.3410 - accuracy: 0.5346\n",
      "Epoch 33/50\n",
      "200/200 [==============================] - 24s 119ms/step - loss: 1.3326 - accuracy: 0.5369\n",
      "Epoch 34/50\n",
      "200/200 [==============================] - 26s 128ms/step - loss: 1.3246 - accuracy: 0.5401\n",
      "Epoch 35/50\n",
      "200/200 [==============================] - 24s 120ms/step - loss: 1.3166 - accuracy: 0.5435\n",
      "Epoch 36/50\n",
      "200/200 [==============================] - 23s 117ms/step - loss: 1.3086 - accuracy: 0.5463\n",
      "Epoch 37/50\n",
      "200/200 [==============================] - 24s 122ms/step - loss: 1.3009 - accuracy: 0.5488\n",
      "Epoch 38/50\n",
      "200/200 [==============================] - 24s 121ms/step - loss: 1.2932 - accuracy: 0.5510\n",
      "Epoch 39/50\n",
      "200/200 [==============================] - 26s 128ms/step - loss: 1.2858 - accuracy: 0.5531\n",
      "Epoch 40/50\n",
      "200/200 [==============================] - 23s 113ms/step - loss: 1.2784 - accuracy: 0.5560\n",
      "Epoch 41/50\n",
      "200/200 [==============================] - 23s 114ms/step - loss: 1.2710 - accuracy: 0.5583\n",
      "Epoch 42/50\n",
      "200/200 [==============================] - 22s 112ms/step - loss: 1.2638 - accuracy: 0.5614\n",
      "Epoch 43/50\n",
      "200/200 [==============================] - 23s 117ms/step - loss: 1.2565 - accuracy: 0.5641\n",
      "Epoch 44/50\n",
      "200/200 [==============================] - 24s 121ms/step - loss: 1.2495 - accuracy: 0.5662\n",
      "Epoch 45/50\n",
      "200/200 [==============================] - 23s 116ms/step - loss: 1.2425 - accuracy: 0.5691\n",
      "Epoch 46/50\n",
      "200/200 [==============================] - 25s 125ms/step - loss: 1.2357 - accuracy: 0.5714\n",
      "Epoch 47/50\n",
      "200/200 [==============================] - 24s 118ms/step - loss: 1.2289 - accuracy: 0.5742\n",
      "Epoch 48/50\n",
      "200/200 [==============================] - 24s 119ms/step - loss: 1.2220 - accuracy: 0.5766\n",
      "Epoch 49/50\n",
      "200/200 [==============================] - 24s 119ms/step - loss: 1.2152 - accuracy: 0.5791\n",
      "Epoch 50/50\n",
      "200/200 [==============================] - 24s 118ms/step - loss: 1.2087 - accuracy: 0.5813\n",
      "20min 29s ± 0 ns per loop (mean ± std. dev. of 1 run, 1 loop each)\n"
     ]
    }
   ],
   "source": [
    "%%timeit -n1 -r1 \n",
    "with tf.device(\"/CPU\"):\n",
    "    cpu_model = get_model()\n",
    "    cpu_model.fit(train_dataset, epochs=50)"
   ]
  },
  {
   "cell_type": "code",
   "execution_count": null,
   "metadata": {},
   "outputs": [],
   "source": []
  }
 ],
 "metadata": {
  "kernelspec": {
   "display_name": "Python 3",
   "language": "python",
   "name": "python3"
  },
  "language_info": {
   "codemirror_mode": {
    "name": "ipython",
    "version": 3
   },
   "file_extension": ".py",
   "mimetype": "text/x-python",
   "name": "python",
   "nbconvert_exporter": "python",
   "pygments_lexer": "ipython3",
   "version": "3.7.6"
  }
 },
 "nbformat": 4,
 "nbformat_minor": 4
}
