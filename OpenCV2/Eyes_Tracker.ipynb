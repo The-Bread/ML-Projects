{
 "cells": [
  {
   "cell_type": "code",
   "execution_count": 65,
   "metadata": {},
   "outputs": [],
   "source": [
    "import cv2\n",
    "import numpy as np\n",
    "\n",
    "path = \"../OpenCV/cascades/data/\"\n",
    "face_cascade = cv2.CascadeClassifier(path+\"haarcascade_frontalface_default.xml\")\n",
    "eye_cascade = cv2.CascadeClassifier(path+\"haarcascade_eye.xml\")"
   ]
  },
  {
   "cell_type": "code",
   "execution_count": 66,
   "metadata": {},
   "outputs": [],
   "source": [
    "img = cv2.imread(\"images/img.jpeg\")"
   ]
  },
  {
   "cell_type": "code",
   "execution_count": 67,
   "metadata": {},
   "outputs": [],
   "source": [
    "img_gray = cv2.cvtColor(img, cv2.COLOR_BGR2GRAY)\n",
    "faces = face_cascade.detectMultiScale(img_gray, 1.3, 5)"
   ]
  },
  {
   "cell_type": "code",
   "execution_count": 68,
   "metadata": {},
   "outputs": [
    {
     "data": {
      "text/plain": [
       "array([[ 42,  91, 229, 229]], dtype=int32)"
      ]
     },
     "execution_count": 68,
     "metadata": {},
     "output_type": "execute_result"
    }
   ],
   "source": [
    "faces"
   ]
  },
  {
   "cell_type": "code",
   "execution_count": 69,
   "metadata": {},
   "outputs": [],
   "source": [
    "for (x, y, w, h) in faces:\n",
    "    cv2.rectangle(img, (x, y), (x+w, y+h), (255, 0, 255), 2)"
   ]
  },
  {
   "cell_type": "code",
   "execution_count": 70,
   "metadata": {},
   "outputs": [],
   "source": [
    "def show_img(img):\n",
    "    cv2.imshow(\"img\", img)\n",
    "    cv2.waitKey(0)\n",
    "    cv2.destroyAllWindows()"
   ]
  },
  {
   "cell_type": "code",
   "execution_count": 71,
   "metadata": {},
   "outputs": [],
   "source": [
    "face_gray = img_gray[y:y+h, x:x+w]\n",
    "face = img[y:y+h, x:x+w]\n",
    "eyes = eye_cascade.detectMultiScale(face_gray)"
   ]
  },
  {
   "cell_type": "code",
   "execution_count": 72,
   "metadata": {},
   "outputs": [],
   "source": [
    "for (ex, ey, ew, eh) in eyes:\n",
    "    cv2.rectangle(face, (ex, ey), (ex+ew, ey+eh), (0, 255, 255), 2)"
   ]
  },
  {
   "cell_type": "code",
   "execution_count": 73,
   "metadata": {},
   "outputs": [],
   "source": [
    "cv2.imshow(\"img\", img)\n",
    "cv2.waitKey(0)\n",
    "cv2.destroyAllWindows()"
   ]
  },
  {
   "cell_type": "code",
   "execution_count": 96,
   "metadata": {},
   "outputs": [],
   "source": [
    "def detect_eyes(img, classifier):\n",
    "    frame_gay = cv2.cvtColor(img, cv2.COLOR_BGR2GRAY)\n",
    "    eyes = classifier.detectMultiScale(img_gray, 1.3, 5)\n",
    "    width = np.size(img, 1)\n",
    "    height = np.size(img, 0)\n",
    "    left_eye = None\n",
    "    right_eye = None\n",
    "    print(len(eyes))\n",
    "    for (x, y, w, h) in eyes:\n",
    "        if y > height/2:\n",
    "            pass\n",
    "        eye_center = (x + w) / 2\n",
    "        if eye_center < width * 0.5:\n",
    "            left_eye = img[y:y+h, x:x+w]\n",
    "        else:\n",
    "            right_eye = img[y:y+h, x:x+w]\n",
    "    return left_eye, right_eye"
   ]
  },
  {
   "cell_type": "code",
   "execution_count": 97,
   "metadata": {},
   "outputs": [],
   "source": [
    "def detect_faces(img, classifier):\n",
    "    frame_gray = cv2.cvtColor(img, cv2.COLOR_BGR2GRAY)\n",
    "    coords = classifier.detectMultiScale(frame_gray, 1.3, 5)\n",
    "    if len(coords) > 1:\n",
    "        biggest = (0, 0, 0, 0)\n",
    "        for i in coords:\n",
    "            if i[3] > biggest[3]:\n",
    "                biggest = i\n",
    "        biggest = np.array([i], np.int32)\n",
    "    elif len(coords) == 1:\n",
    "        biggest = coords\n",
    "    else:\n",
    "        return None\n",
    "    for (x, y, w, h) in biggest:\n",
    "        frame = img[y:y+h, x:x+w]\n",
    "    return frame"
   ]
  },
  {
   "cell_type": "code",
   "execution_count": 98,
   "metadata": {},
   "outputs": [],
   "source": [
    "detector_params = cv2.SimpleBlobDetector_Params()\n",
    "detector_params.filterByArea = True\n",
    "detector_params.maxArea = 1500\n",
    "detector = cv2.SimpleBlobDetector_create(detector_params)"
   ]
  },
  {
   "cell_type": "code",
   "execution_count": 99,
   "metadata": {},
   "outputs": [],
   "source": [
    "threshold=127\n",
    "_, img = cv2.threshold(img, threshold, 255, cv2.THRESH_BINARY)"
   ]
  },
  {
   "cell_type": "code",
   "execution_count": 100,
   "metadata": {},
   "outputs": [],
   "source": [
    "def cut_eyebrows(img):\n",
    "    height, width = img.shape[:2]\n",
    "    eyebrow_h = int(height / 4)\n",
    "    img = img[eyebrow_h:height, 0:width]\n",
    "    return img"
   ]
  },
  {
   "cell_type": "code",
   "execution_count": 101,
   "metadata": {},
   "outputs": [],
   "source": [
    "def blob_process(img, detector):\n",
    "    frame_gray = cv2.cvtolor(img, cv2.COLO_BGR2GRAY)\n",
    "    _, img = cv2.threshold(fame_gray, 42, 255, cv2.THRESH_BINARY)\n",
    "    keypoints = detector.detect(img)\n",
    "    return keypoints"
   ]
  },
  {
   "cell_type": "code",
   "execution_count": 102,
   "metadata": {},
   "outputs": [
    {
     "name": "stdout",
     "output_type": "stream",
     "text": [
      "3\n"
     ]
    }
   ],
   "source": [
    "face_img = detect_faces(img, face_cascade)\n",
    "eyes_img = detect_eyes(face_img, eye_cascade)"
   ]
  },
  {
   "cell_type": "code",
   "execution_count": 107,
   "metadata": {},
   "outputs": [
    {
     "data": {
      "text/plain": [
       "(array([[[  0,   0, 255],\n",
       "         [  0,   0, 255],\n",
       "         [  0,   0, 255],\n",
       "         ...,\n",
       "         [  0,   0, 255],\n",
       "         [  0,   0, 255],\n",
       "         [  0,   0, 255]],\n",
       " \n",
       "        [[  0,   0, 255],\n",
       "         [  0,   0, 255],\n",
       "         [  0,   0, 255],\n",
       "         ...,\n",
       "         [  0,   0, 255],\n",
       "         [  0,   0, 255],\n",
       "         [  0,   0, 255]],\n",
       " \n",
       "        [[  0,   0, 255],\n",
       "         [  0,   0, 255],\n",
       "         [  0,   0, 255],\n",
       "         ...,\n",
       "         [  0,   0, 255],\n",
       "         [  0,   0, 255],\n",
       "         [  0,   0, 255]],\n",
       " \n",
       "        ...,\n",
       " \n",
       "        [[  0,   0, 255],\n",
       "         [  0,   0, 255],\n",
       "         [  0,   0, 255],\n",
       "         ...,\n",
       "         [  0,   0, 255],\n",
       "         [  0,   0, 255],\n",
       "         [  0,   0, 255]],\n",
       " \n",
       "        [[  0,   0, 255],\n",
       "         [  0,   0, 255],\n",
       "         [  0,   0, 255],\n",
       "         ...,\n",
       "         [  0,   0, 255],\n",
       "         [  0,   0, 255],\n",
       "         [  0,   0, 255]],\n",
       " \n",
       "        [[  0,   0, 255],\n",
       "         [  0,   0, 255],\n",
       "         [  0,   0, 255],\n",
       "         ...,\n",
       "         [  0,   0, 255],\n",
       "         [  0,   0, 255],\n",
       "         [  0,   0, 255]]], dtype=uint8),\n",
       " array([], shape=(0, 123, 3), dtype=uint8))"
      ]
     },
     "execution_count": 107,
     "metadata": {},
     "output_type": "execute_result"
    }
   ],
   "source": [
    "eyes_img"
   ]
  },
  {
   "cell_type": "code",
   "execution_count": 108,
   "metadata": {},
   "outputs": [
    {
     "ename": "NameError",
     "evalue": "name 'eye' is not defined",
     "output_type": "error",
     "traceback": [
      "\u001b[1;31m---------------------------------------------------------------------------\u001b[0m",
      "\u001b[1;31mNameError\u001b[0m                                 Traceback (most recent call last)",
      "\u001b[1;32m<ipython-input-108-b53089f3aa2c>\u001b[0m in \u001b[0;36m<module>\u001b[1;34m\u001b[0m\n\u001b[1;32m----> 1\u001b[1;33m \u001b[0mkeypoints\u001b[0m \u001b[1;33m=\u001b[0m \u001b[0mblob_process\u001b[0m\u001b[1;33m(\u001b[0m\u001b[0meye\u001b[0m\u001b[1;33m,\u001b[0m \u001b[0mdetector\u001b[0m\u001b[1;33m)\u001b[0m\u001b[1;33m\u001b[0m\u001b[1;33m\u001b[0m\u001b[0m\n\u001b[0m\u001b[0;32m      2\u001b[0m cv2.drawKeypoints(eye, keypoints, eye, (0, 0, 255),\n\u001b[0;32m      3\u001b[0m                  cv2.DRAW_MATCHES_FLAGS_DRAW_RICH_KEYPOINTS)\n",
      "\u001b[1;31mNameError\u001b[0m: name 'eye' is not defined"
     ]
    }
   ],
   "source": [
    "keypoints = blob_process(eye, detector)\n",
    "cv2.drawKeypoints(eye, keypoints, eye, (0, 0, 255),\n",
    "                 cv2.DRAW_MATCHES_FLAGS_DRAW_RICH_KEYPOINTS)"
   ]
  },
  {
   "cell_type": "code",
   "execution_count": 111,
   "metadata": {},
   "outputs": [],
   "source": [
    "def blob_process(img, threshold, detector):\n",
    "    frame_gray = cv2.cvtColor(img, cv2.COLOR_BGR2GRAY)\n",
    "    _, img = cv2.threshold(frame_gray, threshold, 255, cv2.THRESH_BINARY)\n",
    "    img = cv2.erode(img, None, iterations=2)\n",
    "    img = cv2.dilate(img, None, iterations=4)\n",
    "    img = cv2.medianBlur(img, 5)\n",
    "    keypoints = detector.detect(img)\n",
    "    return keypoints"
   ]
  },
  {
   "cell_type": "code",
   "execution_count": 110,
   "metadata": {},
   "outputs": [],
   "source": [
    "def nothing(x):\n",
    "    pass"
   ]
  },
  {
   "cell_type": "code",
   "execution_count": 112,
   "metadata": {},
   "outputs": [],
   "source": [
    "def main():\n",
    "    cap = cv2.VideCapture(0)\n",
    "    cv2.namedWindow(\"img\")\n",
    "    cv2.createTrackbar(\"threshold\", \"img\", 0, 255, nothing)\n",
    "    while True:\n",
    "        _, frame = cap.read()\n",
    "        face_frame = detect_faces(frames, face_cascade)\n",
    "        if face_frame is not None:\n",
    "            eyes = detect_eyes(face_frame, eye_cascade)\n",
    "            for eye in eyes:\n",
    "                if eye is not None:\n",
    "                    threshold = cv2.getTrackbarPos(\"threshold\", \"image\")\n",
    "                    eye = cut_eyebrows(eye)\n",
    "                    keypoints = blob_process(eye, threshold, detectors)\n",
    "                    eye = cv2.drawKeypoints(eye, threshold, eye, (0, 0, 255),\n",
    "                                           cv2.DRAW_MATCHES_FLAGS_RICH_KEYPOINTS)\n",
    "                    cv2.imshow(\"image\", frame)\n",
    "                    if cv2.waitKey(1) & 0xFF == ord(\"q\"):\n",
    "                        break\n",
    "                cap.release()\n",
    "                cv2.destroyAllWindows()\n",
    "            "
   ]
  },
  {
   "cell_type": "code",
   "execution_count": 114,
   "metadata": {},
   "outputs": [],
   "source": [
    "# @hidden_cell\n",
    "# Original post:\n",
    "# https://medium.com/@stepanfilonov/tracking-your-eyes-with-python-3952e66194a6"
   ]
  },
  {
   "cell_type": "code",
   "execution_count": null,
   "metadata": {},
   "outputs": [],
   "source": []
  }
 ],
 "metadata": {
  "kernelspec": {
   "display_name": "Python 3",
   "language": "python",
   "name": "python3"
  },
  "language_info": {
   "codemirror_mode": {
    "name": "ipython",
    "version": 3
   },
   "file_extension": ".py",
   "mimetype": "text/x-python",
   "name": "python",
   "nbconvert_exporter": "python",
   "pygments_lexer": "ipython3",
   "version": "3.7.6"
  }
 },
 "nbformat": 4,
 "nbformat_minor": 4
}
