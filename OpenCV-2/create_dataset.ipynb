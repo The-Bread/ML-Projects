{
 "cells": [
  {
   "cell_type": "code",
   "execution_count": 1,
   "metadata": {},
   "outputs": [],
   "source": [
    "import os\n",
    "import cv2\n",
    "import numpy as np\n",
    "import random\n",
    "from imutils import paths"
   ]
  },
  {
   "cell_type": "code",
   "execution_count": 2,
   "metadata": {},
   "outputs": [],
   "source": [
    "random.seed(42)\n",
    "\n",
    "CLASSES = [\"camouflage_clothes\", \"normal_clothes\"]\n",
    "\n",
    "VAL_SPLIT = 0.1\n",
    "TRAIN_SPLIT = 0.75\n",
    "\n",
    "BATCH_SIZE = 32\n",
    "EPOCHS = 20"
   ]
  },
  {
   "cell_type": "code",
   "execution_count": 26,
   "metadata": {},
   "outputs": [],
   "source": [
    "from random import shuffle\n",
    "\n",
    "for c in CLASSES:\n",
    "    DIR = os.listdir(f\"camouflage_images/{c}\")\n",
    "    length = len(DIR)\n",
    "    imgs = [f\"camouflage_images/{c}/{img}\" for img in DIR]\n",
    "    shuffle(imgs)\n",
    "    \n",
    "    t = int(TRAIN_SPLIT * len(imgs))\n",
    "\n",
    "    train_imgs = imgs[:t]\n",
    "    test_imgs = train_imgs[t:]\n",
    "    \n",
    "    v = int(VAL_SPLIT * len(train_imgs))\n",
    "\n",
    "    val_imgs = train_imgs[:v]\n",
    "    train_imgs = train_imgs[v:]\n",
    "\n",
    "    paths = [\"camouflage_images/testing\", \"camouflage_images/training\", \"camouflage_images/validation\"]\n",
    "    datasets = [test_imgs, train_imgs, val_imgs]\n",
    "    \n",
    "    for p in paths:\n",
    "        if not os.path.exists(p):\n",
    "            os.mkdir(p)\n",
    "            if not os.path.exists(p+\"/\"+CLASSES[0]): os.mkdir(p+\"/\"+CLASSES[0])\n",
    "            if not os.path.exists(p+\"/\"+CLASSES[1]): os.mkdir(p+\"/\"+CLASSES[1])\n",
    "\n",
    "        for i in datasets[paths.index(p)]:\n",
    "            file_name = i.split(\"/\")\n",
    "            category = file_name[len(file_name)-2]\n",
    "\n",
    "            file_name = file_name[len(file_name)-1]\n",
    "            os.rename(i, f\"{p}/{category}/{file_name}\")"
   ]
  },
  {
   "cell_type": "code",
   "execution_count": null,
   "metadata": {},
   "outputs": [],
   "source": []
  }
 ],
 "metadata": {
  "kernelspec": {
   "display_name": "Python 3",
   "language": "python",
   "name": "python3"
  },
  "language_info": {
   "codemirror_mode": {
    "name": "ipython",
    "version": 3
   },
   "file_extension": ".py",
   "mimetype": "text/x-python",
   "name": "python",
   "nbconvert_exporter": "python",
   "pygments_lexer": "ipython3",
   "version": "3.7.6"
  }
 },
 "nbformat": 4,
 "nbformat_minor": 4
}
