{
 "cells": [
  {
   "cell_type": "markdown",
   "metadata": {},
   "source": [
    "# Comparison of Roma and Oslo"
   ]
  },
  {
   "cell_type": "markdown",
   "metadata": {},
   "source": [
    "### Introduction\n",
    "My idea is to compare the capitals of two different countries in Europe, that is Italy and Norway. Since the climate and temperature are different, I wonder what kind of venues or kind of business can you find in Oslo and Roma. Do people living in western countries have different ways of spending time than in the colder North? What kind of business is the most profitable in these places? We will be able to see how much residents' needs differ depending on the location.\n",
    "\n",
    "This project may be interesting for those, who have money and an idea of some kind of business, but are not sure, where should they start it."
   ]
  },
  {
   "cell_type": "markdown",
   "metadata": {},
   "source": [
    "### The data\n",
    "A list of Oslo's and Roma's districts will be scrapped with BeautifulSoup library from wikipedia website. After that I'm going to use Geocoder to look for the coordinates and Foursquare API to get more details about the venues. So in the end the data will consist of such details as:\n",
    "- District's name\n",
    "- Neighbourhood\n",
    "- Business name (for example store name)\n",
    "- Business category\n",
    "- Longitude\n",
    "- Llatitude"
   ]
  },
  {
   "cell_type": "code",
   "execution_count": null,
   "metadata": {},
   "outputs": [],
   "source": []
  }
 ],
 "metadata": {
  "kernelspec": {
   "display_name": "Python 3",
   "language": "python",
   "name": "python3"
  },
  "language_info": {
   "codemirror_mode": {
    "name": "ipython",
    "version": 3
   },
   "file_extension": ".py",
   "mimetype": "text/x-python",
   "name": "python",
   "nbconvert_exporter": "python",
   "pygments_lexer": "ipython3",
   "version": "3.7.6"
  }
 },
 "nbformat": 4,
 "nbformat_minor": 4
}
