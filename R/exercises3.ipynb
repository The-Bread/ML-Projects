{
 "cells": [
  {
   "cell_type": "code",
   "execution_count": 1,
   "metadata": {},
   "outputs": [],
   "source": [
    "library(pacman)\n",
    "pacman::p_load(pacman, dplyr, GGally, ggplot2, ggthemes, ggvis, httr,\n",
    "               lubridate, plotly, rio, rmarkdown, shiny, stringr, tidyr)"
   ]
  },
  {
   "cell_type": "code",
   "execution_count": 2,
   "metadata": {},
   "outputs": [
    {
     "data": {
      "text/html": [
       "<table>\n",
       "<caption>A data.frame: 152 × 4</caption>\n",
       "<thead>\n",
       "\t<tr><th></th><th scope=col>Month</th><th scope=col>Mozart</th><th scope=col>Beethoven</th><th scope=col>Bach</th></tr>\n",
       "\t<tr><th></th><th scope=col>&lt;chr&gt;</th><th scope=col>&lt;int&gt;</th><th scope=col>&lt;int&gt;</th><th scope=col>&lt;int&gt;</th></tr>\n",
       "</thead>\n",
       "<tbody>\n",
       "\t<tr><th scope=row>1</th><td>2004-01</td><td> 12</td><td>8</td><td>15</td></tr>\n",
       "\t<tr><th scope=row>2</th><td>2004-02</td><td> 12</td><td>9</td><td>15</td></tr>\n",
       "\t<tr><th scope=row>3</th><td>2004-03</td><td> 12</td><td>9</td><td>14</td></tr>\n",
       "\t<tr><th scope=row>4</th><td>2004-04</td><td> 12</td><td>8</td><td>14</td></tr>\n",
       "\t<tr><th scope=row>5</th><td>2004-05</td><td> 11</td><td>9</td><td>13</td></tr>\n",
       "\t<tr><th scope=row>6</th><td>2004-06</td><td>  9</td><td>7</td><td>12</td></tr>\n",
       "\t<tr><th scope=row>7</th><td>2004-07</td><td>  7</td><td>5</td><td>11</td></tr>\n",
       "\t<tr><th scope=row>8</th><td>2004-08</td><td>  7</td><td>6</td><td>11</td></tr>\n",
       "\t<tr><th scope=row>9</th><td>2004-09</td><td>  9</td><td>7</td><td>12</td></tr>\n",
       "\t<tr><th scope=row>10</th><td>2004-10</td><td> 11</td><td>8</td><td>13</td></tr>\n",
       "\t<tr><th scope=row>11</th><td>2004-11</td><td> 11</td><td>8</td><td>14</td></tr>\n",
       "\t<tr><th scope=row>12</th><td>2004-12</td><td> 10</td><td>8</td><td>13</td></tr>\n",
       "\t<tr><th scope=row>13</th><td>2005-01</td><td> 11</td><td>8</td><td>13</td></tr>\n",
       "\t<tr><th scope=row>14</th><td>2005-02</td><td> 11</td><td>8</td><td>16</td></tr>\n",
       "\t<tr><th scope=row>15</th><td>2005-03</td><td> 10</td><td>8</td><td>13</td></tr>\n",
       "\t<tr><th scope=row>16</th><td>2005-04</td><td> 11</td><td>8</td><td>13</td></tr>\n",
       "\t<tr><th scope=row>17</th><td>2005-05</td><td> 11</td><td>8</td><td>12</td></tr>\n",
       "\t<tr><th scope=row>18</th><td>2005-06</td><td>  9</td><td>7</td><td>12</td></tr>\n",
       "\t<tr><th scope=row>19</th><td>2005-07</td><td>  7</td><td>5</td><td>11</td></tr>\n",
       "\t<tr><th scope=row>20</th><td>2005-08</td><td>  7</td><td>5</td><td>12</td></tr>\n",
       "\t<tr><th scope=row>21</th><td>2005-09</td><td>  9</td><td>6</td><td>11</td></tr>\n",
       "\t<tr><th scope=row>22</th><td>2005-10</td><td> 10</td><td>7</td><td>12</td></tr>\n",
       "\t<tr><th scope=row>23</th><td>2005-11</td><td> 11</td><td>7</td><td>12</td></tr>\n",
       "\t<tr><th scope=row>24</th><td>2005-12</td><td> 11</td><td>7</td><td>12</td></tr>\n",
       "\t<tr><th scope=row>25</th><td>2006-01</td><td>100</td><td>7</td><td>13</td></tr>\n",
       "\t<tr><th scope=row>26</th><td>2006-02</td><td> 25</td><td>7</td><td>12</td></tr>\n",
       "\t<tr><th scope=row>27</th><td>2006-03</td><td> 19</td><td>7</td><td>14</td></tr>\n",
       "\t<tr><th scope=row>28</th><td>2006-04</td><td> 14</td><td>6</td><td>12</td></tr>\n",
       "\t<tr><th scope=row>29</th><td>2006-05</td><td> 15</td><td>7</td><td>12</td></tr>\n",
       "\t<tr><th scope=row>30</th><td>2006-06</td><td> 11</td><td>5</td><td>11</td></tr>\n",
       "\t<tr><th scope=row>...</th><td>...</td><td>...</td><td>...</td><td>...</td></tr>\n",
       "\t<tr><th scope=row>123</th><td>2014-03</td><td>6</td><td> 4</td><td>10</td></tr>\n",
       "\t<tr><th scope=row>124</th><td>2014-04</td><td>6</td><td> 4</td><td>10</td></tr>\n",
       "\t<tr><th scope=row>125</th><td>2014-05</td><td>6</td><td> 5</td><td> 9</td></tr>\n",
       "\t<tr><th scope=row>126</th><td>2014-06</td><td>5</td><td> 4</td><td> 9</td></tr>\n",
       "\t<tr><th scope=row>127</th><td>2014-07</td><td>5</td><td> 3</td><td> 9</td></tr>\n",
       "\t<tr><th scope=row>128</th><td>2014-08</td><td>5</td><td> 4</td><td> 9</td></tr>\n",
       "\t<tr><th scope=row>129</th><td>2014-09</td><td>5</td><td> 4</td><td> 9</td></tr>\n",
       "\t<tr><th scope=row>130</th><td>2014-10</td><td>6</td><td> 4</td><td> 9</td></tr>\n",
       "\t<tr><th scope=row>131</th><td>2014-11</td><td>6</td><td> 5</td><td> 9</td></tr>\n",
       "\t<tr><th scope=row>132</th><td>2014-12</td><td>6</td><td> 4</td><td> 9</td></tr>\n",
       "\t<tr><th scope=row>133</th><td>2015-01</td><td>7</td><td> 4</td><td>10</td></tr>\n",
       "\t<tr><th scope=row>134</th><td>2015-02</td><td>6</td><td> 4</td><td>10</td></tr>\n",
       "\t<tr><th scope=row>135</th><td>2015-03</td><td>6</td><td> 4</td><td>10</td></tr>\n",
       "\t<tr><th scope=row>136</th><td>2015-04</td><td>6</td><td> 4</td><td>10</td></tr>\n",
       "\t<tr><th scope=row>137</th><td>2015-05</td><td>6</td><td> 4</td><td>10</td></tr>\n",
       "\t<tr><th scope=row>138</th><td>2015-06</td><td>5</td><td> 4</td><td> 9</td></tr>\n",
       "\t<tr><th scope=row>139</th><td>2015-07</td><td>4</td><td> 3</td><td> 9</td></tr>\n",
       "\t<tr><th scope=row>140</th><td>2015-08</td><td>5</td><td> 3</td><td>10</td></tr>\n",
       "\t<tr><th scope=row>141</th><td>2015-09</td><td>5</td><td> 4</td><td> 9</td></tr>\n",
       "\t<tr><th scope=row>142</th><td>2015-10</td><td>5</td><td> 4</td><td> 9</td></tr>\n",
       "\t<tr><th scope=row>143</th><td>2015-11</td><td>5</td><td> 4</td><td> 9</td></tr>\n",
       "\t<tr><th scope=row>144</th><td>2015-12</td><td>6</td><td>10</td><td> 9</td></tr>\n",
       "\t<tr><th scope=row>145</th><td>2016-01</td><td>9</td><td> 4</td><td> 9</td></tr>\n",
       "\t<tr><th scope=row>146</th><td>2016-02</td><td>6</td><td> 4</td><td> 8</td></tr>\n",
       "\t<tr><th scope=row>147</th><td>2016-03</td><td>6</td><td> 4</td><td>10</td></tr>\n",
       "\t<tr><th scope=row>148</th><td>2016-04</td><td>5</td><td> 4</td><td>10</td></tr>\n",
       "\t<tr><th scope=row>149</th><td>2016-05</td><td>5</td><td> 4</td><td> 9</td></tr>\n",
       "\t<tr><th scope=row>150</th><td>2016-06</td><td>5</td><td> 3</td><td> 8</td></tr>\n",
       "\t<tr><th scope=row>151</th><td>2016-07</td><td>4</td><td> 3</td><td> 9</td></tr>\n",
       "\t<tr><th scope=row>152</th><td>       </td><td>4</td><td> 3</td><td> 9</td></tr>\n",
       "</tbody>\n",
       "</table>\n"
      ],
      "text/latex": [
       "A data.frame: 152 × 4\n",
       "\\begin{tabular}{r|llll}\n",
       "  & Month & Mozart & Beethoven & Bach\\\\\n",
       "  & <chr> & <int> & <int> & <int>\\\\\n",
       "\\hline\n",
       "\t1 & 2004-01 &  12 & 8 & 15\\\\\n",
       "\t2 & 2004-02 &  12 & 9 & 15\\\\\n",
       "\t3 & 2004-03 &  12 & 9 & 14\\\\\n",
       "\t4 & 2004-04 &  12 & 8 & 14\\\\\n",
       "\t5 & 2004-05 &  11 & 9 & 13\\\\\n",
       "\t6 & 2004-06 &   9 & 7 & 12\\\\\n",
       "\t7 & 2004-07 &   7 & 5 & 11\\\\\n",
       "\t8 & 2004-08 &   7 & 6 & 11\\\\\n",
       "\t9 & 2004-09 &   9 & 7 & 12\\\\\n",
       "\t10 & 2004-10 &  11 & 8 & 13\\\\\n",
       "\t11 & 2004-11 &  11 & 8 & 14\\\\\n",
       "\t12 & 2004-12 &  10 & 8 & 13\\\\\n",
       "\t13 & 2005-01 &  11 & 8 & 13\\\\\n",
       "\t14 & 2005-02 &  11 & 8 & 16\\\\\n",
       "\t15 & 2005-03 &  10 & 8 & 13\\\\\n",
       "\t16 & 2005-04 &  11 & 8 & 13\\\\\n",
       "\t17 & 2005-05 &  11 & 8 & 12\\\\\n",
       "\t18 & 2005-06 &   9 & 7 & 12\\\\\n",
       "\t19 & 2005-07 &   7 & 5 & 11\\\\\n",
       "\t20 & 2005-08 &   7 & 5 & 12\\\\\n",
       "\t21 & 2005-09 &   9 & 6 & 11\\\\\n",
       "\t22 & 2005-10 &  10 & 7 & 12\\\\\n",
       "\t23 & 2005-11 &  11 & 7 & 12\\\\\n",
       "\t24 & 2005-12 &  11 & 7 & 12\\\\\n",
       "\t25 & 2006-01 & 100 & 7 & 13\\\\\n",
       "\t26 & 2006-02 &  25 & 7 & 12\\\\\n",
       "\t27 & 2006-03 &  19 & 7 & 14\\\\\n",
       "\t28 & 2006-04 &  14 & 6 & 12\\\\\n",
       "\t29 & 2006-05 &  15 & 7 & 12\\\\\n",
       "\t30 & 2006-06 &  11 & 5 & 11\\\\\n",
       "\t... & ... & ... & ... & ...\\\\\n",
       "\t123 & 2014-03 & 6 &  4 & 10\\\\\n",
       "\t124 & 2014-04 & 6 &  4 & 10\\\\\n",
       "\t125 & 2014-05 & 6 &  5 &  9\\\\\n",
       "\t126 & 2014-06 & 5 &  4 &  9\\\\\n",
       "\t127 & 2014-07 & 5 &  3 &  9\\\\\n",
       "\t128 & 2014-08 & 5 &  4 &  9\\\\\n",
       "\t129 & 2014-09 & 5 &  4 &  9\\\\\n",
       "\t130 & 2014-10 & 6 &  4 &  9\\\\\n",
       "\t131 & 2014-11 & 6 &  5 &  9\\\\\n",
       "\t132 & 2014-12 & 6 &  4 &  9\\\\\n",
       "\t133 & 2015-01 & 7 &  4 & 10\\\\\n",
       "\t134 & 2015-02 & 6 &  4 & 10\\\\\n",
       "\t135 & 2015-03 & 6 &  4 & 10\\\\\n",
       "\t136 & 2015-04 & 6 &  4 & 10\\\\\n",
       "\t137 & 2015-05 & 6 &  4 & 10\\\\\n",
       "\t138 & 2015-06 & 5 &  4 &  9\\\\\n",
       "\t139 & 2015-07 & 4 &  3 &  9\\\\\n",
       "\t140 & 2015-08 & 5 &  3 & 10\\\\\n",
       "\t141 & 2015-09 & 5 &  4 &  9\\\\\n",
       "\t142 & 2015-10 & 5 &  4 &  9\\\\\n",
       "\t143 & 2015-11 & 5 &  4 &  9\\\\\n",
       "\t144 & 2015-12 & 6 & 10 &  9\\\\\n",
       "\t145 & 2016-01 & 9 &  4 &  9\\\\\n",
       "\t146 & 2016-02 & 6 &  4 &  8\\\\\n",
       "\t147 & 2016-03 & 6 &  4 & 10\\\\\n",
       "\t148 & 2016-04 & 5 &  4 & 10\\\\\n",
       "\t149 & 2016-05 & 5 &  4 &  9\\\\\n",
       "\t150 & 2016-06 & 5 &  3 &  8\\\\\n",
       "\t151 & 2016-07 & 4 &  3 &  9\\\\\n",
       "\t152 &         & 4 &  3 &  9\\\\\n",
       "\\end{tabular}\n"
      ],
      "text/markdown": [
       "\n",
       "A data.frame: 152 × 4\n",
       "\n",
       "| <!--/--> | Month &lt;chr&gt; | Mozart &lt;int&gt; | Beethoven &lt;int&gt; | Bach &lt;int&gt; |\n",
       "|---|---|---|---|---|\n",
       "| 1 | 2004-01 |  12 | 8 | 15 |\n",
       "| 2 | 2004-02 |  12 | 9 | 15 |\n",
       "| 3 | 2004-03 |  12 | 9 | 14 |\n",
       "| 4 | 2004-04 |  12 | 8 | 14 |\n",
       "| 5 | 2004-05 |  11 | 9 | 13 |\n",
       "| 6 | 2004-06 |   9 | 7 | 12 |\n",
       "| 7 | 2004-07 |   7 | 5 | 11 |\n",
       "| 8 | 2004-08 |   7 | 6 | 11 |\n",
       "| 9 | 2004-09 |   9 | 7 | 12 |\n",
       "| 10 | 2004-10 |  11 | 8 | 13 |\n",
       "| 11 | 2004-11 |  11 | 8 | 14 |\n",
       "| 12 | 2004-12 |  10 | 8 | 13 |\n",
       "| 13 | 2005-01 |  11 | 8 | 13 |\n",
       "| 14 | 2005-02 |  11 | 8 | 16 |\n",
       "| 15 | 2005-03 |  10 | 8 | 13 |\n",
       "| 16 | 2005-04 |  11 | 8 | 13 |\n",
       "| 17 | 2005-05 |  11 | 8 | 12 |\n",
       "| 18 | 2005-06 |   9 | 7 | 12 |\n",
       "| 19 | 2005-07 |   7 | 5 | 11 |\n",
       "| 20 | 2005-08 |   7 | 5 | 12 |\n",
       "| 21 | 2005-09 |   9 | 6 | 11 |\n",
       "| 22 | 2005-10 |  10 | 7 | 12 |\n",
       "| 23 | 2005-11 |  11 | 7 | 12 |\n",
       "| 24 | 2005-12 |  11 | 7 | 12 |\n",
       "| 25 | 2006-01 | 100 | 7 | 13 |\n",
       "| 26 | 2006-02 |  25 | 7 | 12 |\n",
       "| 27 | 2006-03 |  19 | 7 | 14 |\n",
       "| 28 | 2006-04 |  14 | 6 | 12 |\n",
       "| 29 | 2006-05 |  15 | 7 | 12 |\n",
       "| 30 | 2006-06 |  11 | 5 | 11 |\n",
       "| ... | ... | ... | ... | ... |\n",
       "| 123 | 2014-03 | 6 |  4 | 10 |\n",
       "| 124 | 2014-04 | 6 |  4 | 10 |\n",
       "| 125 | 2014-05 | 6 |  5 |  9 |\n",
       "| 126 | 2014-06 | 5 |  4 |  9 |\n",
       "| 127 | 2014-07 | 5 |  3 |  9 |\n",
       "| 128 | 2014-08 | 5 |  4 |  9 |\n",
       "| 129 | 2014-09 | 5 |  4 |  9 |\n",
       "| 130 | 2014-10 | 6 |  4 |  9 |\n",
       "| 131 | 2014-11 | 6 |  5 |  9 |\n",
       "| 132 | 2014-12 | 6 |  4 |  9 |\n",
       "| 133 | 2015-01 | 7 |  4 | 10 |\n",
       "| 134 | 2015-02 | 6 |  4 | 10 |\n",
       "| 135 | 2015-03 | 6 |  4 | 10 |\n",
       "| 136 | 2015-04 | 6 |  4 | 10 |\n",
       "| 137 | 2015-05 | 6 |  4 | 10 |\n",
       "| 138 | 2015-06 | 5 |  4 |  9 |\n",
       "| 139 | 2015-07 | 4 |  3 |  9 |\n",
       "| 140 | 2015-08 | 5 |  3 | 10 |\n",
       "| 141 | 2015-09 | 5 |  4 |  9 |\n",
       "| 142 | 2015-10 | 5 |  4 |  9 |\n",
       "| 143 | 2015-11 | 5 |  4 |  9 |\n",
       "| 144 | 2015-12 | 6 | 10 |  9 |\n",
       "| 145 | 2016-01 | 9 |  4 |  9 |\n",
       "| 146 | 2016-02 | 6 |  4 |  8 |\n",
       "| 147 | 2016-03 | 6 |  4 | 10 |\n",
       "| 148 | 2016-04 | 5 |  4 | 10 |\n",
       "| 149 | 2016-05 | 5 |  4 |  9 |\n",
       "| 150 | 2016-06 | 5 |  3 |  8 |\n",
       "| 151 | 2016-07 | 4 |  3 |  9 |\n",
       "| 152 | <!----> | 4 |  3 |  9 |\n",
       "\n"
      ],
      "text/plain": [
       "    Month   Mozart Beethoven Bach\n",
       "1   2004-01  12    8         15  \n",
       "2   2004-02  12    9         15  \n",
       "3   2004-03  12    9         14  \n",
       "4   2004-04  12    8         14  \n",
       "5   2004-05  11    9         13  \n",
       "6   2004-06   9    7         12  \n",
       "7   2004-07   7    5         11  \n",
       "8   2004-08   7    6         11  \n",
       "9   2004-09   9    7         12  \n",
       "10  2004-10  11    8         13  \n",
       "11  2004-11  11    8         14  \n",
       "12  2004-12  10    8         13  \n",
       "13  2005-01  11    8         13  \n",
       "14  2005-02  11    8         16  \n",
       "15  2005-03  10    8         13  \n",
       "16  2005-04  11    8         13  \n",
       "17  2005-05  11    8         12  \n",
       "18  2005-06   9    7         12  \n",
       "19  2005-07   7    5         11  \n",
       "20  2005-08   7    5         12  \n",
       "21  2005-09   9    6         11  \n",
       "22  2005-10  10    7         12  \n",
       "23  2005-11  11    7         12  \n",
       "24  2005-12  11    7         12  \n",
       "25  2006-01 100    7         13  \n",
       "26  2006-02  25    7         12  \n",
       "27  2006-03  19    7         14  \n",
       "28  2006-04  14    6         12  \n",
       "29  2006-05  15    7         12  \n",
       "30  2006-06  11    5         11  \n",
       "... ...     ...    ...       ... \n",
       "123 2014-03 6       4        10  \n",
       "124 2014-04 6       4        10  \n",
       "125 2014-05 6       5         9  \n",
       "126 2014-06 5       4         9  \n",
       "127 2014-07 5       3         9  \n",
       "128 2014-08 5       4         9  \n",
       "129 2014-09 5       4         9  \n",
       "130 2014-10 6       4         9  \n",
       "131 2014-11 6       5         9  \n",
       "132 2014-12 6       4         9  \n",
       "133 2015-01 7       4        10  \n",
       "134 2015-02 6       4        10  \n",
       "135 2015-03 6       4        10  \n",
       "136 2015-04 6       4        10  \n",
       "137 2015-05 6       4        10  \n",
       "138 2015-06 5       4         9  \n",
       "139 2015-07 4       3         9  \n",
       "140 2015-08 5       3        10  \n",
       "141 2015-09 5       4         9  \n",
       "142 2015-10 5       4         9  \n",
       "143 2015-11 5       4         9  \n",
       "144 2015-12 6      10         9  \n",
       "145 2016-01 9       4         9  \n",
       "146 2016-02 6       4         8  \n",
       "147 2016-03 6       4        10  \n",
       "148 2016-04 5       4        10  \n",
       "149 2016-05 5       4         9  \n",
       "150 2016-06 5       3         8  \n",
       "151 2016-07 4       3         9  \n",
       "152         4       3         9  "
      ]
     },
     "metadata": {},
     "output_type": "display_data"
    }
   ],
   "source": [
    "csv  <-  import(\"data/mbb.csv\")\n",
    "csv"
   ]
  },
  {
   "cell_type": "code",
   "execution_count": 6,
   "metadata": {},
   "outputs": [
    {
     "data": {
      "text/html": [
       "<table>\n",
       "<caption>A data.frame: 6 × 4</caption>\n",
       "<thead>\n",
       "\t<tr><th></th><th scope=col>Month</th><th scope=col>Mozart</th><th scope=col>Beethoven</th><th scope=col>Bach</th></tr>\n",
       "\t<tr><th></th><th scope=col>&lt;chr&gt;</th><th scope=col>&lt;int&gt;</th><th scope=col>&lt;int&gt;</th><th scope=col>&lt;int&gt;</th></tr>\n",
       "</thead>\n",
       "<tbody>\n",
       "\t<tr><th scope=row>1</th><td>2004-01</td><td>12</td><td>8</td><td>15</td></tr>\n",
       "\t<tr><th scope=row>2</th><td>2004-02</td><td>12</td><td>9</td><td>15</td></tr>\n",
       "\t<tr><th scope=row>3</th><td>2004-03</td><td>12</td><td>9</td><td>14</td></tr>\n",
       "\t<tr><th scope=row>4</th><td>2004-04</td><td>12</td><td>8</td><td>14</td></tr>\n",
       "\t<tr><th scope=row>5</th><td>2004-05</td><td>11</td><td>9</td><td>13</td></tr>\n",
       "\t<tr><th scope=row>6</th><td>2004-06</td><td> 9</td><td>7</td><td>12</td></tr>\n",
       "</tbody>\n",
       "</table>\n"
      ],
      "text/latex": [
       "A data.frame: 6 × 4\n",
       "\\begin{tabular}{r|llll}\n",
       "  & Month & Mozart & Beethoven & Bach\\\\\n",
       "  & <chr> & <int> & <int> & <int>\\\\\n",
       "\\hline\n",
       "\t1 & 2004-01 & 12 & 8 & 15\\\\\n",
       "\t2 & 2004-02 & 12 & 9 & 15\\\\\n",
       "\t3 & 2004-03 & 12 & 9 & 14\\\\\n",
       "\t4 & 2004-04 & 12 & 8 & 14\\\\\n",
       "\t5 & 2004-05 & 11 & 9 & 13\\\\\n",
       "\t6 & 2004-06 &  9 & 7 & 12\\\\\n",
       "\\end{tabular}\n"
      ],
      "text/markdown": [
       "\n",
       "A data.frame: 6 × 4\n",
       "\n",
       "| <!--/--> | Month &lt;chr&gt; | Mozart &lt;int&gt; | Beethoven &lt;int&gt; | Bach &lt;int&gt; |\n",
       "|---|---|---|---|---|\n",
       "| 1 | 2004-01 | 12 | 8 | 15 |\n",
       "| 2 | 2004-02 | 12 | 9 | 15 |\n",
       "| 3 | 2004-03 | 12 | 9 | 14 |\n",
       "| 4 | 2004-04 | 12 | 8 | 14 |\n",
       "| 5 | 2004-05 | 11 | 9 | 13 |\n",
       "| 6 | 2004-06 |  9 | 7 | 12 |\n",
       "\n"
      ],
      "text/plain": [
       "  Month   Mozart Beethoven Bach\n",
       "1 2004-01 12     8         15  \n",
       "2 2004-02 12     9         15  \n",
       "3 2004-03 12     9         14  \n",
       "4 2004-04 12     8         14  \n",
       "5 2004-05 11     9         13  \n",
       "6 2004-06  9     7         12  "
      ]
     },
     "metadata": {},
     "output_type": "display_data"
    }
   ],
   "source": [
    "csv  <-  import(\"data/mbb.txt\")\n",
    "head(csv)"
   ]
  },
  {
   "cell_type": "code",
   "execution_count": 5,
   "metadata": {},
   "outputs": [
    {
     "data": {
      "text/html": [
       "<table>\n",
       "<caption>A data.frame: 6 × 4</caption>\n",
       "<thead>\n",
       "\t<tr><th></th><th scope=col>Month</th><th scope=col>Mozart</th><th scope=col>Beethoven</th><th scope=col>Bach</th></tr>\n",
       "\t<tr><th></th><th scope=col>&lt;chr&gt;</th><th scope=col>&lt;dbl&gt;</th><th scope=col>&lt;dbl&gt;</th><th scope=col>&lt;dbl&gt;</th></tr>\n",
       "</thead>\n",
       "<tbody>\n",
       "\t<tr><th scope=row>1</th><td>2004-01</td><td>12</td><td>8</td><td>15</td></tr>\n",
       "\t<tr><th scope=row>2</th><td>2004-02</td><td>12</td><td>9</td><td>15</td></tr>\n",
       "\t<tr><th scope=row>3</th><td>2004-03</td><td>12</td><td>9</td><td>14</td></tr>\n",
       "\t<tr><th scope=row>4</th><td>2004-04</td><td>12</td><td>8</td><td>14</td></tr>\n",
       "\t<tr><th scope=row>5</th><td>2004-05</td><td>11</td><td>9</td><td>13</td></tr>\n",
       "\t<tr><th scope=row>6</th><td>2004-06</td><td> 9</td><td>7</td><td>12</td></tr>\n",
       "</tbody>\n",
       "</table>\n"
      ],
      "text/latex": [
       "A data.frame: 6 × 4\n",
       "\\begin{tabular}{r|llll}\n",
       "  & Month & Mozart & Beethoven & Bach\\\\\n",
       "  & <chr> & <dbl> & <dbl> & <dbl>\\\\\n",
       "\\hline\n",
       "\t1 & 2004-01 & 12 & 8 & 15\\\\\n",
       "\t2 & 2004-02 & 12 & 9 & 15\\\\\n",
       "\t3 & 2004-03 & 12 & 9 & 14\\\\\n",
       "\t4 & 2004-04 & 12 & 8 & 14\\\\\n",
       "\t5 & 2004-05 & 11 & 9 & 13\\\\\n",
       "\t6 & 2004-06 &  9 & 7 & 12\\\\\n",
       "\\end{tabular}\n"
      ],
      "text/markdown": [
       "\n",
       "A data.frame: 6 × 4\n",
       "\n",
       "| <!--/--> | Month &lt;chr&gt; | Mozart &lt;dbl&gt; | Beethoven &lt;dbl&gt; | Bach &lt;dbl&gt; |\n",
       "|---|---|---|---|---|\n",
       "| 1 | 2004-01 | 12 | 8 | 15 |\n",
       "| 2 | 2004-02 | 12 | 9 | 15 |\n",
       "| 3 | 2004-03 | 12 | 9 | 14 |\n",
       "| 4 | 2004-04 | 12 | 8 | 14 |\n",
       "| 5 | 2004-05 | 11 | 9 | 13 |\n",
       "| 6 | 2004-06 |  9 | 7 | 12 |\n",
       "\n"
      ],
      "text/plain": [
       "  Month   Mozart Beethoven Bach\n",
       "1 2004-01 12     8         15  \n",
       "2 2004-02 12     9         15  \n",
       "3 2004-03 12     9         14  \n",
       "4 2004-04 12     8         14  \n",
       "5 2004-05 11     9         13  \n",
       "6 2004-06  9     7         12  "
      ]
     },
     "metadata": {},
     "output_type": "display_data"
    }
   ],
   "source": [
    "csv  <-  import(\"data/mbb.xlsx\")\n",
    "head(csv)"
   ]
  },
  {
   "cell_type": "code",
   "execution_count": 7,
   "metadata": {},
   "outputs": [
    {
     "ename": "ERROR",
     "evalue": "Error in View(csv): 'View()' not yet supported in the Jupyter R kernel\n",
     "output_type": "error",
     "traceback": [
      "Error in View(csv): 'View()' not yet supported in the Jupyter R kernel\nTraceback:\n",
      "1. View(csv)",
      "2. stop(sQuote(\"View()\"), \" not yet supported in the Jupyter R kernel\")"
     ]
    }
   ],
   "source": [
    "View(csv)"
   ]
  },
  {
   "cell_type": "code",
   "execution_count": 13,
   "metadata": {},
   "outputs": [
    {
     "data": {
      "text/html": [
       "<table>\n",
       "<caption>A data.frame: 6 × 4</caption>\n",
       "<thead>\n",
       "\t<tr><th></th><th scope=col>Month</th><th scope=col>Mozart</th><th scope=col>Beethoven</th><th scope=col>Bach</th></tr>\n",
       "\t<tr><th></th><th scope=col>&lt;chr&gt;</th><th scope=col>&lt;int&gt;</th><th scope=col>&lt;int&gt;</th><th scope=col>&lt;int&gt;</th></tr>\n",
       "</thead>\n",
       "<tbody>\n",
       "\t<tr><th scope=row>1</th><td>2004-01</td><td>12</td><td>8</td><td>15</td></tr>\n",
       "\t<tr><th scope=row>2</th><td>2004-02</td><td>12</td><td>9</td><td>15</td></tr>\n",
       "\t<tr><th scope=row>3</th><td>2004-03</td><td>12</td><td>9</td><td>14</td></tr>\n",
       "\t<tr><th scope=row>4</th><td>2004-04</td><td>12</td><td>8</td><td>14</td></tr>\n",
       "\t<tr><th scope=row>5</th><td>2004-05</td><td>11</td><td>9</td><td>13</td></tr>\n",
       "\t<tr><th scope=row>6</th><td>2004-06</td><td> 9</td><td>7</td><td>12</td></tr>\n",
       "</tbody>\n",
       "</table>\n"
      ],
      "text/latex": [
       "A data.frame: 6 × 4\n",
       "\\begin{tabular}{r|llll}\n",
       "  & Month & Mozart & Beethoven & Bach\\\\\n",
       "  & <chr> & <int> & <int> & <int>\\\\\n",
       "\\hline\n",
       "\t1 & 2004-01 & 12 & 8 & 15\\\\\n",
       "\t2 & 2004-02 & 12 & 9 & 15\\\\\n",
       "\t3 & 2004-03 & 12 & 9 & 14\\\\\n",
       "\t4 & 2004-04 & 12 & 8 & 14\\\\\n",
       "\t5 & 2004-05 & 11 & 9 & 13\\\\\n",
       "\t6 & 2004-06 &  9 & 7 & 12\\\\\n",
       "\\end{tabular}\n"
      ],
      "text/markdown": [
       "\n",
       "A data.frame: 6 × 4\n",
       "\n",
       "| <!--/--> | Month &lt;chr&gt; | Mozart &lt;int&gt; | Beethoven &lt;int&gt; | Bach &lt;int&gt; |\n",
       "|---|---|---|---|---|\n",
       "| 1 | 2004-01 | 12 | 8 | 15 |\n",
       "| 2 | 2004-02 | 12 | 9 | 15 |\n",
       "| 3 | 2004-03 | 12 | 9 | 14 |\n",
       "| 4 | 2004-04 | 12 | 8 | 14 |\n",
       "| 5 | 2004-05 | 11 | 9 | 13 |\n",
       "| 6 | 2004-06 |  9 | 7 | 12 |\n",
       "\n"
      ],
      "text/plain": [
       "  Month   Mozart Beethoven Bach\n",
       "1 2004-01 12     8         15  \n",
       "2 2004-02 12     9         15  \n",
       "3 2004-03 12     9         14  \n",
       "4 2004-04 12     8         14  \n",
       "5 2004-05 11     9         13  \n",
       "6 2004-06  9     7         12  "
      ]
     },
     "metadata": {},
     "output_type": "display_data"
    }
   ],
   "source": [
    "txt  <- read.table(\"data/mbb.txt\",\n",
    "                  header=TRUE, sep=\"\\t\")\n",
    "head(txt)"
   ]
  },
  {
   "cell_type": "code",
   "execution_count": 14,
   "metadata": {},
   "outputs": [
    {
     "data": {
      "text/html": [
       "<table>\n",
       "<caption>A data.frame: 6 × 4</caption>\n",
       "<thead>\n",
       "\t<tr><th></th><th scope=col>Month</th><th scope=col>Mozart</th><th scope=col>Beethoven</th><th scope=col>Bach</th></tr>\n",
       "\t<tr><th></th><th scope=col>&lt;chr&gt;</th><th scope=col>&lt;int&gt;</th><th scope=col>&lt;int&gt;</th><th scope=col>&lt;int&gt;</th></tr>\n",
       "</thead>\n",
       "<tbody>\n",
       "\t<tr><th scope=row>1</th><td>2004-01</td><td>12</td><td>8</td><td>15</td></tr>\n",
       "\t<tr><th scope=row>2</th><td>2004-02</td><td>12</td><td>9</td><td>15</td></tr>\n",
       "\t<tr><th scope=row>3</th><td>2004-03</td><td>12</td><td>9</td><td>14</td></tr>\n",
       "\t<tr><th scope=row>4</th><td>2004-04</td><td>12</td><td>8</td><td>14</td></tr>\n",
       "\t<tr><th scope=row>5</th><td>2004-05</td><td>11</td><td>9</td><td>13</td></tr>\n",
       "\t<tr><th scope=row>6</th><td>2004-06</td><td> 9</td><td>7</td><td>12</td></tr>\n",
       "</tbody>\n",
       "</table>\n"
      ],
      "text/latex": [
       "A data.frame: 6 × 4\n",
       "\\begin{tabular}{r|llll}\n",
       "  & Month & Mozart & Beethoven & Bach\\\\\n",
       "  & <chr> & <int> & <int> & <int>\\\\\n",
       "\\hline\n",
       "\t1 & 2004-01 & 12 & 8 & 15\\\\\n",
       "\t2 & 2004-02 & 12 & 9 & 15\\\\\n",
       "\t3 & 2004-03 & 12 & 9 & 14\\\\\n",
       "\t4 & 2004-04 & 12 & 8 & 14\\\\\n",
       "\t5 & 2004-05 & 11 & 9 & 13\\\\\n",
       "\t6 & 2004-06 &  9 & 7 & 12\\\\\n",
       "\\end{tabular}\n"
      ],
      "text/markdown": [
       "\n",
       "A data.frame: 6 × 4\n",
       "\n",
       "| <!--/--> | Month &lt;chr&gt; | Mozart &lt;int&gt; | Beethoven &lt;int&gt; | Bach &lt;int&gt; |\n",
       "|---|---|---|---|---|\n",
       "| 1 | 2004-01 | 12 | 8 | 15 |\n",
       "| 2 | 2004-02 | 12 | 9 | 15 |\n",
       "| 3 | 2004-03 | 12 | 9 | 14 |\n",
       "| 4 | 2004-04 | 12 | 8 | 14 |\n",
       "| 5 | 2004-05 | 11 | 9 | 13 |\n",
       "| 6 | 2004-06 |  9 | 7 | 12 |\n",
       "\n"
      ],
      "text/plain": [
       "  Month   Mozart Beethoven Bach\n",
       "1 2004-01 12     8         15  \n",
       "2 2004-02 12     9         15  \n",
       "3 2004-03 12     9         14  \n",
       "4 2004-04 12     8         14  \n",
       "5 2004-05 11     9         13  \n",
       "6 2004-06  9     7         12  "
      ]
     },
     "metadata": {},
     "output_type": "display_data"
    }
   ],
   "source": [
    "csv  <-  read.csv(\"data/mbb.csv\",\n",
    "                  header=TRUE)\n",
    "head(csv)"
   ]
  },
  {
   "cell_type": "code",
   "execution_count": 15,
   "metadata": {},
   "outputs": [
    {
     "data": {
      "text/html": [
       "<table>\n",
       "<caption>A data.frame: 6 × 11</caption>\n",
       "<thead>\n",
       "\t<tr><th></th><th scope=col>mpg</th><th scope=col>cyl</th><th scope=col>disp</th><th scope=col>hp</th><th scope=col>drat</th><th scope=col>wt</th><th scope=col>qsec</th><th scope=col>vs</th><th scope=col>am</th><th scope=col>gear</th><th scope=col>carb</th></tr>\n",
       "\t<tr><th></th><th scope=col>&lt;dbl&gt;</th><th scope=col>&lt;dbl&gt;</th><th scope=col>&lt;dbl&gt;</th><th scope=col>&lt;dbl&gt;</th><th scope=col>&lt;dbl&gt;</th><th scope=col>&lt;dbl&gt;</th><th scope=col>&lt;dbl&gt;</th><th scope=col>&lt;dbl&gt;</th><th scope=col>&lt;dbl&gt;</th><th scope=col>&lt;dbl&gt;</th><th scope=col>&lt;dbl&gt;</th></tr>\n",
       "</thead>\n",
       "<tbody>\n",
       "\t<tr><th scope=row>Mazda RX4</th><td>21.0</td><td>6</td><td>160</td><td>110</td><td>3.90</td><td>2.620</td><td>16.46</td><td>0</td><td>1</td><td>4</td><td>4</td></tr>\n",
       "\t<tr><th scope=row>Mazda RX4 Wag</th><td>21.0</td><td>6</td><td>160</td><td>110</td><td>3.90</td><td>2.875</td><td>17.02</td><td>0</td><td>1</td><td>4</td><td>4</td></tr>\n",
       "\t<tr><th scope=row>Datsun 710</th><td>22.8</td><td>4</td><td>108</td><td> 93</td><td>3.85</td><td>2.320</td><td>18.61</td><td>1</td><td>1</td><td>4</td><td>1</td></tr>\n",
       "\t<tr><th scope=row>Hornet 4 Drive</th><td>21.4</td><td>6</td><td>258</td><td>110</td><td>3.08</td><td>3.215</td><td>19.44</td><td>1</td><td>0</td><td>3</td><td>1</td></tr>\n",
       "\t<tr><th scope=row>Hornet Sportabout</th><td>18.7</td><td>8</td><td>360</td><td>175</td><td>3.15</td><td>3.440</td><td>17.02</td><td>0</td><td>0</td><td>3</td><td>2</td></tr>\n",
       "\t<tr><th scope=row>Valiant</th><td>18.1</td><td>6</td><td>225</td><td>105</td><td>2.76</td><td>3.460</td><td>20.22</td><td>1</td><td>0</td><td>3</td><td>1</td></tr>\n",
       "</tbody>\n",
       "</table>\n"
      ],
      "text/latex": [
       "A data.frame: 6 × 11\n",
       "\\begin{tabular}{r|lllllllllll}\n",
       "  & mpg & cyl & disp & hp & drat & wt & qsec & vs & am & gear & carb\\\\\n",
       "  & <dbl> & <dbl> & <dbl> & <dbl> & <dbl> & <dbl> & <dbl> & <dbl> & <dbl> & <dbl> & <dbl>\\\\\n",
       "\\hline\n",
       "\tMazda RX4 & 21.0 & 6 & 160 & 110 & 3.90 & 2.620 & 16.46 & 0 & 1 & 4 & 4\\\\\n",
       "\tMazda RX4 Wag & 21.0 & 6 & 160 & 110 & 3.90 & 2.875 & 17.02 & 0 & 1 & 4 & 4\\\\\n",
       "\tDatsun 710 & 22.8 & 4 & 108 &  93 & 3.85 & 2.320 & 18.61 & 1 & 1 & 4 & 1\\\\\n",
       "\tHornet 4 Drive & 21.4 & 6 & 258 & 110 & 3.08 & 3.215 & 19.44 & 1 & 0 & 3 & 1\\\\\n",
       "\tHornet Sportabout & 18.7 & 8 & 360 & 175 & 3.15 & 3.440 & 17.02 & 0 & 0 & 3 & 2\\\\\n",
       "\tValiant & 18.1 & 6 & 225 & 105 & 2.76 & 3.460 & 20.22 & 1 & 0 & 3 & 1\\\\\n",
       "\\end{tabular}\n"
      ],
      "text/markdown": [
       "\n",
       "A data.frame: 6 × 11\n",
       "\n",
       "| <!--/--> | mpg &lt;dbl&gt; | cyl &lt;dbl&gt; | disp &lt;dbl&gt; | hp &lt;dbl&gt; | drat &lt;dbl&gt; | wt &lt;dbl&gt; | qsec &lt;dbl&gt; | vs &lt;dbl&gt; | am &lt;dbl&gt; | gear &lt;dbl&gt; | carb &lt;dbl&gt; |\n",
       "|---|---|---|---|---|---|---|---|---|---|---|---|\n",
       "| Mazda RX4 | 21.0 | 6 | 160 | 110 | 3.90 | 2.620 | 16.46 | 0 | 1 | 4 | 4 |\n",
       "| Mazda RX4 Wag | 21.0 | 6 | 160 | 110 | 3.90 | 2.875 | 17.02 | 0 | 1 | 4 | 4 |\n",
       "| Datsun 710 | 22.8 | 4 | 108 |  93 | 3.85 | 2.320 | 18.61 | 1 | 1 | 4 | 1 |\n",
       "| Hornet 4 Drive | 21.4 | 6 | 258 | 110 | 3.08 | 3.215 | 19.44 | 1 | 0 | 3 | 1 |\n",
       "| Hornet Sportabout | 18.7 | 8 | 360 | 175 | 3.15 | 3.440 | 17.02 | 0 | 0 | 3 | 2 |\n",
       "| Valiant | 18.1 | 6 | 225 | 105 | 2.76 | 3.460 | 20.22 | 1 | 0 | 3 | 1 |\n",
       "\n"
      ],
      "text/plain": [
       "                  mpg  cyl disp hp  drat wt    qsec  vs am gear carb\n",
       "Mazda RX4         21.0 6   160  110 3.90 2.620 16.46 0  1  4    4   \n",
       "Mazda RX4 Wag     21.0 6   160  110 3.90 2.875 17.02 0  1  4    4   \n",
       "Datsun 710        22.8 4   108   93 3.85 2.320 18.61 1  1  4    1   \n",
       "Hornet 4 Drive    21.4 6   258  110 3.08 3.215 19.44 1  0  3    1   \n",
       "Hornet Sportabout 18.7 8   360  175 3.15 3.440 17.02 0  0  3    2   \n",
       "Valiant           18.1 6   225  105 2.76 3.460 20.22 1  0  3    1   "
      ]
     },
     "metadata": {},
     "output_type": "display_data"
    }
   ],
   "source": [
    "library(datasets)\n",
    "\n",
    "head(mtcars)"
   ]
  },
  {
   "cell_type": "code",
   "execution_count": 17,
   "metadata": {},
   "outputs": [
    {
     "data": {
      "text/html": [
       "<table>\n",
       "<caption>A data.frame: 6 × 9</caption>\n",
       "<thead>\n",
       "\t<tr><th></th><th scope=col>mpg</th><th scope=col>cyl</th><th scope=col>disp</th><th scope=col>hp</th><th scope=col>wt</th><th scope=col>qsec</th><th scope=col>am</th><th scope=col>gear</th><th scope=col>carb</th></tr>\n",
       "\t<tr><th></th><th scope=col>&lt;dbl&gt;</th><th scope=col>&lt;dbl&gt;</th><th scope=col>&lt;dbl&gt;</th><th scope=col>&lt;dbl&gt;</th><th scope=col>&lt;dbl&gt;</th><th scope=col>&lt;dbl&gt;</th><th scope=col>&lt;dbl&gt;</th><th scope=col>&lt;dbl&gt;</th><th scope=col>&lt;dbl&gt;</th></tr>\n",
       "</thead>\n",
       "<tbody>\n",
       "\t<tr><th scope=row>Mazda RX4</th><td>21.0</td><td>6</td><td>160</td><td>110</td><td>2.620</td><td>16.46</td><td>1</td><td>4</td><td>4</td></tr>\n",
       "\t<tr><th scope=row>Mazda RX4 Wag</th><td>21.0</td><td>6</td><td>160</td><td>110</td><td>2.875</td><td>17.02</td><td>1</td><td>4</td><td>4</td></tr>\n",
       "\t<tr><th scope=row>Datsun 710</th><td>22.8</td><td>4</td><td>108</td><td> 93</td><td>2.320</td><td>18.61</td><td>1</td><td>4</td><td>1</td></tr>\n",
       "\t<tr><th scope=row>Hornet 4 Drive</th><td>21.4</td><td>6</td><td>258</td><td>110</td><td>3.215</td><td>19.44</td><td>0</td><td>3</td><td>1</td></tr>\n",
       "\t<tr><th scope=row>Hornet Sportabout</th><td>18.7</td><td>8</td><td>360</td><td>175</td><td>3.440</td><td>17.02</td><td>0</td><td>3</td><td>2</td></tr>\n",
       "\t<tr><th scope=row>Valiant</th><td>18.1</td><td>6</td><td>225</td><td>105</td><td>3.460</td><td>20.22</td><td>0</td><td>3</td><td>1</td></tr>\n",
       "</tbody>\n",
       "</table>\n"
      ],
      "text/latex": [
       "A data.frame: 6 × 9\n",
       "\\begin{tabular}{r|lllllllll}\n",
       "  & mpg & cyl & disp & hp & wt & qsec & am & gear & carb\\\\\n",
       "  & <dbl> & <dbl> & <dbl> & <dbl> & <dbl> & <dbl> & <dbl> & <dbl> & <dbl>\\\\\n",
       "\\hline\n",
       "\tMazda RX4 & 21.0 & 6 & 160 & 110 & 2.620 & 16.46 & 1 & 4 & 4\\\\\n",
       "\tMazda RX4 Wag & 21.0 & 6 & 160 & 110 & 2.875 & 17.02 & 1 & 4 & 4\\\\\n",
       "\tDatsun 710 & 22.8 & 4 & 108 &  93 & 2.320 & 18.61 & 1 & 4 & 1\\\\\n",
       "\tHornet 4 Drive & 21.4 & 6 & 258 & 110 & 3.215 & 19.44 & 0 & 3 & 1\\\\\n",
       "\tHornet Sportabout & 18.7 & 8 & 360 & 175 & 3.440 & 17.02 & 0 & 3 & 2\\\\\n",
       "\tValiant & 18.1 & 6 & 225 & 105 & 3.460 & 20.22 & 0 & 3 & 1\\\\\n",
       "\\end{tabular}\n"
      ],
      "text/markdown": [
       "\n",
       "A data.frame: 6 × 9\n",
       "\n",
       "| <!--/--> | mpg &lt;dbl&gt; | cyl &lt;dbl&gt; | disp &lt;dbl&gt; | hp &lt;dbl&gt; | wt &lt;dbl&gt; | qsec &lt;dbl&gt; | am &lt;dbl&gt; | gear &lt;dbl&gt; | carb &lt;dbl&gt; |\n",
       "|---|---|---|---|---|---|---|---|---|---|\n",
       "| Mazda RX4 | 21.0 | 6 | 160 | 110 | 2.620 | 16.46 | 1 | 4 | 4 |\n",
       "| Mazda RX4 Wag | 21.0 | 6 | 160 | 110 | 2.875 | 17.02 | 1 | 4 | 4 |\n",
       "| Datsun 710 | 22.8 | 4 | 108 |  93 | 2.320 | 18.61 | 1 | 4 | 1 |\n",
       "| Hornet 4 Drive | 21.4 | 6 | 258 | 110 | 3.215 | 19.44 | 0 | 3 | 1 |\n",
       "| Hornet Sportabout | 18.7 | 8 | 360 | 175 | 3.440 | 17.02 | 0 | 3 | 2 |\n",
       "| Valiant | 18.1 | 6 | 225 | 105 | 3.460 | 20.22 | 0 | 3 | 1 |\n",
       "\n"
      ],
      "text/plain": [
       "                  mpg  cyl disp hp  wt    qsec  am gear carb\n",
       "Mazda RX4         21.0 6   160  110 2.620 16.46 1  4    4   \n",
       "Mazda RX4 Wag     21.0 6   160  110 2.875 17.02 1  4    4   \n",
       "Datsun 710        22.8 4   108   93 2.320 18.61 1  4    1   \n",
       "Hornet 4 Drive    21.4 6   258  110 3.215 19.44 0  3    1   \n",
       "Hornet Sportabout 18.7 8   360  175 3.440 17.02 0  3    2   \n",
       "Valiant           18.1 6   225  105 3.460 20.22 0  3    1   "
      ]
     },
     "metadata": {},
     "output_type": "display_data"
    }
   ],
   "source": [
    "cars  <- mtcars[, c(1:4, 6:7, 9:11)]\n",
    "head(cars)"
   ]
  },
  {
   "cell_type": "code",
   "execution_count": 20,
   "metadata": {},
   "outputs": [
    {
     "data": {
      "image/png": "[encoded data removed]",
      "text/plain": [
       "Plot with title \"Cluster Dendrogram\""
      ]
     },
     "metadata": {
      "image/png": {
       "height": 420,
       "width": 420
      },
      "text/plain": {
       "height": 420,
       "width": 420
      }
     },
     "output_type": "display_data"
    }
   ],
   "source": [
    "hc  <- cars %>%\n",
    "dist %>%\n",
    "hclust\n",
    "\n",
    "plot(hc)"
   ]
  },
  {
   "cell_type": "code",
   "execution_count": 24,
   "metadata": {},
   "outputs": [
    {
     "data": {
      "image/png": "[encoded data removed]",
      "text/plain": [
       "Plot with title \"Cluster Dendrogram\""
      ]
     },
     "metadata": {
      "image/png": {
       "height": 420,
       "width": 420
      },
      "text/plain": {
       "height": 420,
       "width": 420
      }
     },
     "output_type": "display_data"
    }
   ],
   "source": [
    "hc  <- cars %>%\n",
    "dist %>%\n",
    "hclust\n",
    "\n",
    "plot(hc)\n",
    "\n",
    "rect.hclust(hc, k=2, border=\"gray\")\n",
    "rect.hclust(hc, k=3, border=\"blue\")\n",
    "rect.hclust(hc, k=4, border=\"green4\")\n",
    "rect.hclust(hc, k=5, border=\"darkred\")"
   ]
  },
  {
   "cell_type": "code",
   "execution_count": null,
   "metadata": {},
   "outputs": [],
   "source": []
  }
 ],
 "metadata": {
  "kernelspec": {
   "display_name": "R",
   "language": "R",
   "name": "ir"
  },
  "language_info": {
   "codemirror_mode": "r",
   "file_extension": ".r",
   "mimetype": "text/x-r-source",
   "name": "R",
   "pygments_lexer": "r",
   "version": "4.0.2"
  }
 },
 "nbformat": 4,
 "nbformat_minor": 4
}
