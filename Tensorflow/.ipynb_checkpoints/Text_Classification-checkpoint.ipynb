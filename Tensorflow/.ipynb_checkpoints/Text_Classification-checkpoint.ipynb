{
 "cells": [
  {
   "cell_type": "markdown",
   "metadata": {
    "colab_type": "text",
    "id": "DVWVpD9KSGSg"
   },
   "source": [
    "# PART I\n",
    "* Read data\n",
    "* Divide on train and test data\n",
    "* Replace default ids with names\n",
    "* Extend word dictionary by 3 places, to add special characters\n",
    "* Decoding function\n",
    "* Give each review same length (the preprocessing thing)\n",
    "* Define layers of the network"
   ]
  },
  {
   "cell_type": "code",
   "execution_count": 0,
   "metadata": {
    "colab": {},
    "colab_type": "code",
    "id": "v8foJyZjH33A"
   },
   "outputs": [],
   "source": [
    "import tensorflow as tf\n",
    "from tensorflow import keras\n",
    "import numpy as np\n",
    "\n",
    "data = keras.datasets.imdb\n",
    "\n",
    "(train_img, train_labels), (test_img, test_labels) = data.load_data(num_words=10000)"
   ]
  },
  {
   "cell_type": "code",
   "execution_count": 23,
   "metadata": {
    "colab": {
     "base_uri": "https://localhost:8080/",
     "height": 34
    },
    "colab_type": "code",
    "id": "yPG4oC9nIiG_",
    "outputId": "88fa24a9-e386-4c03-fed1-612cf54a52ed"
   },
   "outputs": [
    {
     "name": "stdout",
     "output_type": "stream",
     "text": [
      "842\n"
     ]
    }
   ],
   "source": [
    "word_dir = data.get_word_index()\n",
    "\n",
    "print(word_dir['whatever'])"
   ]
  },
  {
   "cell_type": "code",
   "execution_count": 24,
   "metadata": {
    "colab": {
     "base_uri": "https://localhost:8080/",
     "height": 34
    },
    "colab_type": "code",
    "id": "QvJUaqzHI5l_",
    "outputId": "44d84c44-e53f-421c-b46e-d1082c0f23ce"
   },
   "outputs": [
    {
     "name": "stdout",
     "output_type": "stream",
     "text": [
      "fawn   34701\n"
     ]
    }
   ],
   "source": [
    "for word, id in word_dir.items():\n",
    "  print(word, \" \", id)\n",
    "  break"
   ]
  },
  {
   "cell_type": "code",
   "execution_count": 0,
   "metadata": {
    "colab": {},
    "colab_type": "code",
    "id": "hMDm2OYfJ0HE"
   },
   "outputs": [],
   "source": [
    "word_dir = { name: (id+3) for name, id in word_dir.items()} # extending the dir by 3 places"
   ]
  },
  {
   "cell_type": "code",
   "execution_count": 27,
   "metadata": {
    "colab": {
     "base_uri": "https://localhost:8080/",
     "height": 34
    },
    "colab_type": "code",
    "id": "QHMykr2TJ-xq",
    "outputId": "0941c40d-6fee-4ca4-e8a1-e1b3c226b48f"
   },
   "outputs": [
    {
     "name": "stdout",
     "output_type": "stream",
     "text": [
      "845\n"
     ]
    }
   ],
   "source": [
    "print(word_dir['whatever'])"
   ]
  },
  {
   "cell_type": "code",
   "execution_count": 0,
   "metadata": {
    "colab": {},
    "colab_type": "code",
    "id": "1EarVW0kK_ZT"
   },
   "outputs": [],
   "source": [
    "word_dir['[ADD]'] = 0 # additional character, if the movie review is too short\n",
    "word_dir['[START]'] = 1\n",
    "word_dir['[UNKNOWN]'] = 2\n",
    "word_dir['[UNUSED]'] = 3"
   ]
  },
  {
   "cell_type": "code",
   "execution_count": 0,
   "metadata": {
    "colab": {},
    "colab_type": "code",
    "id": "YICGoyJgLfPA"
   },
   "outputs": [],
   "source": [
    "# reversing dictionary\n",
    "# the word_dir is \"word\":123, but we want 123:\"word\" pointer\n",
    "\n",
    "word_dir_rev = dict([(id, name) for name, id in word_dir.items()])"
   ]
  },
  {
   "cell_type": "code",
   "execution_count": 48,
   "metadata": {
    "colab": {
     "base_uri": "https://localhost:8080/",
     "height": 34
    },
    "colab_type": "code",
    "id": "Jfd6cSpMNGLb",
    "outputId": "daebda8d-9275-4806-e799-66a6302c15d2"
   },
   "outputs": [
    {
     "name": "stdout",
     "output_type": "stream",
     "text": [
      "whatever\n"
     ]
    }
   ],
   "source": [
    "print(word_dir_rev[845])"
   ]
  },
  {
   "cell_type": "code",
   "execution_count": 0,
   "metadata": {
    "colab": {},
    "colab_type": "code",
    "id": "GDFOZp6tNcCq"
   },
   "outputs": [],
   "source": [
    "def decoding(text):\n",
    "  text_to_return = \"\"\n",
    "  for word in text:\n",
    "    text_to_return += \" \" + word_dir_rev[word]\n",
    "  return text_to_return"
   ]
  },
  {
   "cell_type": "code",
   "execution_count": 59,
   "metadata": {
    "colab": {
     "base_uri": "https://localhost:8080/",
     "height": 54
    },
    "colab_type": "code",
    "id": "UBk696S3Ojee",
    "outputId": "f23e0f72-bcca-4be5-8fd7-202d73f4ca88"
   },
   "outputs": [
    {
     "data": {
      "text/plain": [
       "\" [START] please give this one a miss br br [UNKNOWN] [UNKNOWN] and the rest of the cast rendered terrible performances the show is flat flat flat br br i don't know how michael madison could have allowed this one on his plate he almost seemed to know this wasn't going to work out and his performance was quite [UNKNOWN] so all you madison fans give this a miss\""
      ]
     },
     "execution_count": 59,
     "metadata": {
      "tags": []
     },
     "output_type": "execute_result"
    }
   ],
   "source": [
    "decoding(test_img[0])"
   ]
  },
  {
   "cell_type": "code",
   "execution_count": 0,
   "metadata": {
    "colab": {},
    "colab_type": "code",
    "id": "cN9GG1eNOoXu"
   },
   "outputs": [],
   "source": [
    "# giving the reviews same shape - 250 charas\n",
    "# (...).pad_sequences(data, maxlen, value, padding)\n",
    "# |data| - data to alter, |maxlen| - max. length of each review, |value| - which value should be the review filled with,\n",
    "# in case its too short, |padding| - should it appear on beginning or end of the review\n",
    "\n",
    "test_data = keras.preprocessing.sequence.pad_sequences(test_img, maxlen=250, value=word_dir['[PAD]'], padding=\"post\")\n",
    "train_data = keras.preprocessing.sequence.pad_sequences(train_img, maxlen=250, value=word_dir['[PAD]'], padding=\"post\")"
   ]
  },
  {
   "cell_type": "code",
   "execution_count": 58,
   "metadata": {
    "colab": {
     "base_uri": "https://localhost:8080/",
     "height": 54
    },
    "colab_type": "code",
    "id": "VWFjRbMSPfO0",
    "outputId": "56634fc2-d07b-4cbb-db8d-0f90bfa59029"
   },
   "outputs": [
    {
     "data": {
      "text/plain": [
       "\" [START] please give this one a miss br br [UNKNOWN] [UNKNOWN] and the rest of the cast rendered terrible performances the show is flat flat flat br br i don't know how michael madison could have allowed this one on his plate he almost seemed to know this wasn't going to work out and his performance was quite [UNKNOWN] so all you madison fans give this a miss [ADD] [ADD] [ADD] [ADD] [ADD] [ADD] [ADD] [ADD] [ADD] [ADD] [ADD] [ADD] [ADD] [ADD] [ADD] [ADD] [ADD] [ADD] [ADD] [ADD] [ADD] [ADD] [ADD] [ADD] [ADD] [ADD] [ADD] [ADD] [ADD] [ADD] [ADD] [ADD] [ADD] [ADD] [ADD] [ADD] [ADD] [ADD] [ADD] [ADD] [ADD] [ADD] [ADD] [ADD] [ADD] [ADD] [ADD] [ADD] [ADD] [ADD] [ADD] [ADD] [ADD] [ADD] [ADD] [ADD] [ADD] [ADD] [ADD] [ADD] [ADD] [ADD] [ADD] [ADD] [ADD] [ADD] [ADD] [ADD] [ADD] [ADD] [ADD] [ADD] [ADD] [ADD] [ADD] [ADD] [ADD] [ADD] [ADD] [ADD] [ADD] [ADD] [ADD] [ADD] [ADD] [ADD] [ADD] [ADD] [ADD] [ADD] [ADD] [ADD] [ADD] [ADD] [ADD] [ADD] [ADD] [ADD] [ADD] [ADD] [ADD] [ADD] [ADD] [ADD] [ADD] [ADD] [ADD] [ADD] [ADD] [ADD] [ADD] [ADD] [ADD] [ADD] [ADD] [ADD] [ADD] [ADD] [ADD] [ADD] [ADD] [ADD] [ADD] [ADD] [ADD] [ADD] [ADD] [ADD] [ADD] [ADD] [ADD] [ADD] [ADD] [ADD] [ADD] [ADD] [ADD] [ADD] [ADD] [ADD] [ADD] [ADD] [ADD] [ADD] [ADD] [ADD] [ADD] [ADD] [ADD] [ADD] [ADD] [ADD] [ADD] [ADD] [ADD] [ADD] [ADD] [ADD] [ADD] [ADD] [ADD] [ADD] [ADD] [ADD] [ADD] [ADD] [ADD] [ADD] [ADD] [ADD] [ADD] [ADD] [ADD] [ADD] [ADD] [ADD] [ADD] [ADD] [ADD] [ADD] [ADD] [ADD]\""
      ]
     },
     "execution_count": 58,
     "metadata": {
      "tags": []
     },
     "output_type": "execute_result"
    }
   ],
   "source": [
    "decoding(test_data[0])"
   ]
  },
  {
   "cell_type": "code",
   "execution_count": 0,
   "metadata": {
    "colab": {},
    "colab_type": "code",
    "id": "weJ4SGIDPkNK"
   },
   "outputs": [],
   "source": [
    "model = keras.Sequential()\n",
    "model.add(keras.layers.Embedding(10000, 16))\n",
    "model.add(keras.layers.GlobalAveragePooling1D())\n",
    "model.add(keras.layers.Dense(16, activation=\"relu\"))\n",
    "model.add(keras.layers.Dense(1, activation='sigmoid'))"
   ]
  }
 ],
 "metadata": {
  "colab": {
   "name": "Text_Classification.ipynb",
   "provenance": []
  },
  "kernelspec": {
   "display_name": "Python 3",
   "language": "python",
   "name": "python3"
  },
  "language_info": {
   "codemirror_mode": {
    "name": "ipython",
    "version": 3
   },
   "file_extension": ".py",
   "mimetype": "text/x-python",
   "name": "python",
   "nbconvert_exporter": "python",
   "pygments_lexer": "ipython3",
   "version": "3.7.4"
  }
 },
 "nbformat": 4,
 "nbformat_minor": 1
}
