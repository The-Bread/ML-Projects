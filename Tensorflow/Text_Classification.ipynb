{
  "nbformat": 4,
  "nbformat_minor": 0,
  "metadata": {
    "colab": {
      "name": "Text_Classification.ipynb",
      "provenance": []
    },
    "kernelspec": {
      "name": "python3",
      "display_name": "Python 3"
    }
  },
  "cells": [
    {
      "cell_type": "markdown",
      "metadata": {
        "id": "DVWVpD9KSGSg",
        "colab_type": "text"
      },
      "source": [
        "# PART I\n",
        "* Read data\n",
        "* Divide on train and test data\n",
        "* Replace default ids with names\n",
        "* Extend word dictionary by 3 places, to add special characters\n",
        "* Decoding function\n",
        "* Give each review same length (the preprocessing thing)\n",
        "* Define layers of the network"
      ]
    },
    {
      "cell_type": "code",
      "metadata": {
        "id": "v8foJyZjH33A",
        "colab_type": "code",
        "colab": {}
      },
      "source": [
        "import tensorflow as tf\n",
        "from tensorflow import keras\n",
        "import numpy as np\n",
        "\n",
        "data = keras.datasets.imdb\n",
        "\n",
        "(train_img, train_labels), (test_img, test_labels) = data.load_data(num_words=10000)"
      ],
      "execution_count": 0,
      "outputs": []
    },
    {
      "cell_type": "code",
      "metadata": {
        "id": "yPG4oC9nIiG_",
        "colab_type": "code",
        "colab": {
          "base_uri": "https://localhost:8080/",
          "height": 34
        },
        "outputId": "88fa24a9-e386-4c03-fed1-612cf54a52ed"
      },
      "source": [
        "word_dir = data.get_word_index()\n",
        "\n",
        "print(word_dir['whatever'])"
      ],
      "execution_count": 23,
      "outputs": [
        {
          "output_type": "stream",
          "text": [
            "842\n"
          ],
          "name": "stdout"
        }
      ]
    },
    {
      "cell_type": "code",
      "metadata": {
        "id": "QvJUaqzHI5l_",
        "colab_type": "code",
        "colab": {
          "base_uri": "https://localhost:8080/",
          "height": 34
        },
        "outputId": "44d84c44-e53f-421c-b46e-d1082c0f23ce"
      },
      "source": [
        "for word, id in word_dir.items():\n",
        "  print(word, \" \", id)\n",
        "  break"
      ],
      "execution_count": 24,
      "outputs": [
        {
          "output_type": "stream",
          "text": [
            "fawn   34701\n"
          ],
          "name": "stdout"
        }
      ]
    },
    {
      "cell_type": "code",
      "metadata": {
        "id": "hMDm2OYfJ0HE",
        "colab_type": "code",
        "colab": {}
      },
      "source": [
        "word_dir = { name: (id+3) for name, id in word_dir.items()} # extending the dir by 3 places"
      ],
      "execution_count": 0,
      "outputs": []
    },
    {
      "cell_type": "code",
      "metadata": {
        "id": "QHMykr2TJ-xq",
        "colab_type": "code",
        "colab": {
          "base_uri": "https://localhost:8080/",
          "height": 34
        },
        "outputId": "0941c40d-6fee-4ca4-e8a1-e1b3c226b48f"
      },
      "source": [
        "print(word_dir['whatever'])"
      ],
      "execution_count": 27,
      "outputs": [
        {
          "output_type": "stream",
          "text": [
            "845\n"
          ],
          "name": "stdout"
        }
      ]
    },
    {
      "cell_type": "code",
      "metadata": {
        "id": "1EarVW0kK_ZT",
        "colab_type": "code",
        "colab": {}
      },
      "source": [
        "word_dir['[ADD]'] = 0 # additional character, if the movie review is too short\n",
        "word_dir['[START]'] = 1\n",
        "word_dir['[UNKNOWN]'] = 2\n",
        "word_dir['[UNUSED]'] = 3"
      ],
      "execution_count": 0,
      "outputs": []
    },
    {
      "cell_type": "code",
      "metadata": {
        "id": "YICGoyJgLfPA",
        "colab_type": "code",
        "colab": {}
      },
      "source": [
        "# reversing dictionary\n",
        "# the word_dir is \"word\":123, but we want 123:\"word\" pointer\n",
        "\n",
        "word_dir_rev = dict([(id, name) for name, id in word_dir.items()])"
      ],
      "execution_count": 0,
      "outputs": []
    },
    {
      "cell_type": "code",
      "metadata": {
        "id": "Jfd6cSpMNGLb",
        "colab_type": "code",
        "colab": {
          "base_uri": "https://localhost:8080/",
          "height": 34
        },
        "outputId": "daebda8d-9275-4806-e799-66a6302c15d2"
      },
      "source": [
        "print(word_dir_rev[845])"
      ],
      "execution_count": 48,
      "outputs": [
        {
          "output_type": "stream",
          "text": [
            "whatever\n"
          ],
          "name": "stdout"
        }
      ]
    },
    {
      "cell_type": "code",
      "metadata": {
        "id": "GDFOZp6tNcCq",
        "colab_type": "code",
        "colab": {}
      },
      "source": [
        "def decoding(text):\n",
        "  text_to_return = \"\"\n",
        "  for word in text:\n",
        "    text_to_return += \" \" + word_dir_rev[word]\n",
        "  return text_to_return"
      ],
      "execution_count": 0,
      "outputs": []
    },
    {
      "cell_type": "code",
      "metadata": {
        "id": "UBk696S3Ojee",
        "colab_type": "code",
        "colab": {
          "base_uri": "https://localhost:8080/",
          "height": 54
        },
        "outputId": "f23e0f72-bcca-4be5-8fd7-202d73f4ca88"
      },
      "source": [
        "decoding(test_img[0])"
      ],
      "execution_count": 59,
      "outputs": [
        {
          "output_type": "execute_result",
          "data": {
            "text/plain": [
              "\" [START] please give this one a miss br br [UNKNOWN] [UNKNOWN] and the rest of the cast rendered terrible performances the show is flat flat flat br br i don't know how michael madison could have allowed this one on his plate he almost seemed to know this wasn't going to work out and his performance was quite [UNKNOWN] so all you madison fans give this a miss\""
            ]
          },
          "metadata": {
            "tags": []
          },
          "execution_count": 59
        }
      ]
    },
    {
      "cell_type": "code",
      "metadata": {
        "id": "cN9GG1eNOoXu",
        "colab_type": "code",
        "colab": {}
      },
      "source": [
        "# giving the reviews same shape - 250 charas\n",
        "# (...).pad_sequences(data, maxlen, value, padding)\n",
        "# |data| - data to alter, |maxlen| - max. length of each review, |value| - which value should be the review filled with,\n",
        "# in case its too short, |padding| - should it appear on beginning or end of the review\n",
        "\n",
        "test_data = keras.preprocessing.sequence.pad_sequences(test_img, maxlen=250, value=word_dir['[PAD]'], padding=\"post\")\n",
        "train_data = keras.preprocessing.sequence.pad_sequences(train_img, maxlen=250, value=word_dir['[PAD]'], padding=\"post\")"
      ],
      "execution_count": 0,
      "outputs": []
    },
    {
      "cell_type": "code",
      "metadata": {
        "id": "VWFjRbMSPfO0",
        "colab_type": "code",
        "colab": {
          "base_uri": "https://localhost:8080/",
          "height": 54
        },
        "outputId": "56634fc2-d07b-4cbb-db8d-0f90bfa59029"
      },
      "source": [
        "decoding(test_data[0])"
      ],
      "execution_count": 58,
      "outputs": [
        {
          "output_type": "execute_result",
          "data": {
            "text/plain": [
              "\" [START] please give this one a miss br br [UNKNOWN] [UNKNOWN] and the rest of the cast rendered terrible performances the show is flat flat flat br br i don't know how michael madison could have allowed this one on his plate he almost seemed to know this wasn't going to work out and his performance was quite [UNKNOWN] so all you madison fans give this a miss [ADD] [ADD] [ADD] [ADD] [ADD] [ADD] [ADD] [ADD] [ADD] [ADD] [ADD] [ADD] [ADD] [ADD] [ADD] [ADD] [ADD] [ADD] [ADD] [ADD] [ADD] [ADD] [ADD] [ADD] [ADD] [ADD] [ADD] [ADD] [ADD] [ADD] [ADD] [ADD] [ADD] [ADD] [ADD] [ADD] [ADD] [ADD] [ADD] [ADD] [ADD] [ADD] [ADD] [ADD] [ADD] [ADD] [ADD] [ADD] [ADD] [ADD] [ADD] [ADD] [ADD] [ADD] [ADD] [ADD] [ADD] [ADD] [ADD] [ADD] [ADD] [ADD] [ADD] [ADD] [ADD] [ADD] [ADD] [ADD] [ADD] [ADD] [ADD] [ADD] [ADD] [ADD] [ADD] [ADD] [ADD] [ADD] [ADD] [ADD] [ADD] [ADD] [ADD] [ADD] [ADD] [ADD] [ADD] [ADD] [ADD] [ADD] [ADD] [ADD] [ADD] [ADD] [ADD] [ADD] [ADD] [ADD] [ADD] [ADD] [ADD] [ADD] [ADD] [ADD] [ADD] [ADD] [ADD] [ADD] [ADD] [ADD] [ADD] [ADD] [ADD] [ADD] [ADD] [ADD] [ADD] [ADD] [ADD] [ADD] [ADD] [ADD] [ADD] [ADD] [ADD] [ADD] [ADD] [ADD] [ADD] [ADD] [ADD] [ADD] [ADD] [ADD] [ADD] [ADD] [ADD] [ADD] [ADD] [ADD] [ADD] [ADD] [ADD] [ADD] [ADD] [ADD] [ADD] [ADD] [ADD] [ADD] [ADD] [ADD] [ADD] [ADD] [ADD] [ADD] [ADD] [ADD] [ADD] [ADD] [ADD] [ADD] [ADD] [ADD] [ADD] [ADD] [ADD] [ADD] [ADD] [ADD] [ADD] [ADD] [ADD] [ADD] [ADD] [ADD] [ADD] [ADD] [ADD] [ADD] [ADD] [ADD]\""
            ]
          },
          "metadata": {
            "tags": []
          },
          "execution_count": 58
        }
      ]
    },
    {
      "cell_type": "code",
      "metadata": {
        "id": "weJ4SGIDPkNK",
        "colab_type": "code",
        "colab": {}
      },
      "source": [
        "model = keras.Sequential()\n",
        "model.add(keras.layers.Embedding(10000, 16))\n",
        "model.add(keras.layers.GlobalAveragePooling1D())\n",
        "model.add(keras.layers.Dense(16, activation=\"relu\"))\n",
        "model.add(keras.layers.Dense(1, activation='sigmoid'))"
      ],
      "execution_count": 0,
      "outputs": []
    }
  ]
}