{
 "cells": [
  {
   "cell_type": "code",
   "execution_count": 24,
   "metadata": {},
   "outputs": [],
   "source": [
    "import json\n",
    "from datetime import datetime\n",
    "import pandas as pd\n",
    "\n",
    "# cols = [\"author\", \"comment_id\", \"parent\", \"comment\", \"subreddit\", \"unix\", \"score\"]\n",
    "# df = pd.DataFrame(columns=cols)\n",
    "# df"
   ]
  },
  {
   "cell_type": "code",
   "execution_count": 22,
   "metadata": {},
   "outputs": [],
   "source": [
    "comments = []\n",
    "\n",
    "with open('db', buffering=1000) as f:\n",
    "    for row in f:\n",
    "        data = json.loads(row)\n",
    "        comments.append(data['body'])"
   ]
  },
  {
   "cell_type": "code",
   "execution_count": 23,
   "metadata": {},
   "outputs": [
    {
     "data": {
      "text/plain": [
       "[\"Me too. I've been a fan for 25 years. This is the first time since the Fergie left where I feel like we are a proper team with tactics and a plan to conquer the league. \\n\\nMessed up part is, it's the same damn players!!! This is proper United football, and if the board and Woodward don't support what we are seeing, they are coocoo \",\n",
       " 'Interesting, but the name of the food item probably has a Germanic origin rather than Latin.',\n",
       " 'Oh ok, just thinking why would a girl bother sending a follow request if they dislike you?',\n",
       " 'This imo is the real benefit. Farming of all kinds have a strong impact on the environment. And anything that can reduce energy impact helps.',\n",
       " 'This is how old people think bitcoin works ',\n",
       " '[deleted]',\n",
       " 'Thanks for the advice! Still working on devil wings. Is it better to have a 2slot desert twilight(so i can put 2 mino cards) or 1 slot SS?',\n",
       " \"It won't make him ready for kindergarten, but it won't be allowing him the proximity to the girl he targets. It'll help her be ready when she doesn't have to watch her back 24/7 at school. Do you think the lack of consequence sends the message to his parents that this isn't normal? If no one else is concerned, you need to make them concerned, and a sit down meeting with admin and the parents about how this needs to change or else he's out might make them concerned enough to work with him at home or hopefully get him therapy.\",\n",
       " '[deleted]',\n",
       " \"Thank you, sir! I hadn't seen it\",\n",
       " 'Yeah, there’s no problem whatsoever with a character being gay, but it’s such blatantly obvious virtue signalling.',\n",
       " 'I’m 21 and this is still me',\n",
       " '[deleted]',\n",
       " 'most knew. Look up central park 5.',\n",
       " 'And what are you gonna do if he ends up being electric and OP? Be mad?',\n",
       " 'you might be better off with `implements Serializable` first, because implementing Parcelable is tricky.\\n\\nI remember back in the old days when I had no idea wtf I was doing.',\n",
       " '[removed]',\n",
       " 'Funniest comment I’ve read lmfao',\n",
       " 'Sooooory',\n",
       " 'Winter: \"Our main weapon is surprise!\"\\n\\nSpecial Operative #2: \"Surprise, yes, and fanatical loyalty to the Council!\"\\n\\n&amp;#x200B;',\n",
       " 'Mark Meadows. Don’t try and pin this shit on Tim Meadows.',\n",
       " \"He's top 100k so not too bad. \",\n",
       " 'Glad I could help... Let me know how it goes, although the proof is in the pudding 😁',\n",
       " \"A company I used to work at did exactly this when they sent their trucks to the port to retrieve containers arriving from overseas. It's because they need two of those trailers for the return trip. In most cases, this happens because they already have a truck cab at the office near the port but the trailer are usually at the warehouse.\",\n",
       " '[removed]',\n",
       " 'Awesome, OP! You never forget your first. ',\n",
       " 'Looks great but you can get a better and cheaper ssd\\n\\nhttps://pcpartpicker.com/product/XZzkcf/team-l5-lite-3d-480gb-25-solid-state-drive-t253td480g3c101',\n",
       " 'And I thought the emissions scandal was what killed the TDI line in the states....\\n\\nr/tdi is disappointed :( ',\n",
       " 'So is that comment surely? Not terribly funny like but that’s a piss take. ',\n",
       " 'This probably just turned the culprit on. One of my biggest regrets is not sneaking some of my co-worker’s breast milk out of the work fridge when I had a chance.']"
      ]
     },
     "execution_count": 23,
     "metadata": {},
     "output_type": "execute_result"
    }
   ],
   "source": [
    "comments[:30]"
   ]
  },
  {
   "cell_type": "code",
   "execution_count": null,
   "metadata": {},
   "outputs": [],
   "source": []
  }
 ],
 "metadata": {
  "kernelspec": {
   "display_name": "Python 3",
   "language": "python",
   "name": "python3"
  },
  "language_info": {
   "codemirror_mode": {
    "name": "ipython",
    "version": 3
   },
   "file_extension": ".py",
   "mimetype": "text/x-python",
   "name": "python",
   "nbconvert_exporter": "python",
   "pygments_lexer": "ipython3",
   "version": "3.7.4"
  }
 },
 "nbformat": 4,
 "nbformat_minor": 2
}
