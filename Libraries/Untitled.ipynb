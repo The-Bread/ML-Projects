{
 "cells": [
  {
   "cell_type": "code",
   "execution_count": 1,
   "metadata": {},
   "outputs": [],
   "source": [
    "shapes = [\"C\", \"S\", \"P\"]\n",
    "arr = []\n",
    "\n",
    "for a in shapes:\n",
    "    for b in shapes:\n",
    "        for c in shapes:\n",
    "            for d in shapes:\n",
    "                string = a + b + c + d\n",
    "                arr.append(string)"
   ]
  },
  {
   "cell_type": "code",
   "execution_count": 3,
   "metadata": {},
   "outputs": [],
   "source": [
    "arr = set(arr)"
   ]
  },
  {
   "cell_type": "code",
   "execution_count": 4,
   "metadata": {},
   "outputs": [
    {
     "data": {
      "text/plain": [
       "81"
      ]
     },
     "execution_count": 4,
     "metadata": {},
     "output_type": "execute_result"
    }
   ],
   "source": [
    "len(arr)"
   ]
  },
  {
   "cell_type": "code",
   "execution_count": 5,
   "metadata": {},
   "outputs": [],
   "source": [
    "colours = []\n",
    "for i in range(4):\n",
    "    colours.append(\"red\")\n",
    "for i in range(3):\n",
    "    colours.append(\"blue\")\n",
    "for i in range(8):\n",
    "    colours.append(\"white\")"
   ]
  },
  {
   "cell_type": "code",
   "execution_count": null,
   "metadata": {},
   "outputs": [],
   "source": [
    "for a1 in range(colours): #1\n",
    "    c_a1 = colours\n",
    "    del c_a1[a1]\n",
    "    for a2 in range(c_a1): #2\n",
    "        c_a2 = c_a1\n",
    "        del c_a2[c]\n",
    "        for c in range(c_b): #3\n",
    "            c_c = c_b\n",
    "            del c_c[c]\n",
    "            for d in range(c_c): #4\n",
    "                c_d = c_a\n",
    "                del c_b[b]"
   ]
  }
 ],
 "metadata": {
  "kernelspec": {
   "display_name": "Python 3",
   "language": "python",
   "name": "python3"
  },
  "language_info": {
   "codemirror_mode": {
    "name": "ipython",
    "version": 3
   },
   "file_extension": ".py",
   "mimetype": "text/x-python",
   "name": "python",
   "nbconvert_exporter": "python",
   "pygments_lexer": "ipython3",
   "version": "3.7.6"
  }
 },
 "nbformat": 4,
 "nbformat_minor": 4
}
