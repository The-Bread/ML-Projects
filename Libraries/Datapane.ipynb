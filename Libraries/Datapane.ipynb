{
 "cells": [
  {
   "cell_type": "code",
   "execution_count": 12,
   "metadata": {},
   "outputs": [],
   "source": [
    "import pandas as pd\n",
    "import altair as alt\n",
    "import datapane as dp"
   ]
  },
  {
   "cell_type": "code",
   "execution_count": 13,
   "metadata": {},
   "outputs": [],
   "source": [
    "url = 'https://covid.ourworldindata.org/data/vaccinations/vaccinations-by-manufacturer.csv'\n",
    "df = pd.read_csv(url, parse_dates=['date'])"
   ]
  },
  {
   "cell_type": "code",
   "execution_count": 14,
   "metadata": {},
   "outputs": [
    {
     "data": {
      "text/html": [
       "<div>\n",
       "<style scoped>\n",
       "    .dataframe tbody tr th:only-of-type {\n",
       "        vertical-align: middle;\n",
       "    }\n",
       "\n",
       "    .dataframe tbody tr th {\n",
       "        vertical-align: top;\n",
       "    }\n",
       "\n",
       "    .dataframe thead th {\n",
       "        text-align: right;\n",
       "    }\n",
       "</style>\n",
       "<table border=\"1\" class=\"dataframe\">\n",
       "  <thead>\n",
       "    <tr style=\"text-align: right;\">\n",
       "      <th></th>\n",
       "      <th>location</th>\n",
       "      <th>date</th>\n",
       "      <th>vaccine</th>\n",
       "      <th>total_vaccinations</th>\n",
       "    </tr>\n",
       "  </thead>\n",
       "  <tbody>\n",
       "    <tr>\n",
       "      <th>0</th>\n",
       "      <td>Chile</td>\n",
       "      <td>2020-12-24</td>\n",
       "      <td>Pfizer/BioNTech</td>\n",
       "      <td>420</td>\n",
       "    </tr>\n",
       "    <tr>\n",
       "      <th>1</th>\n",
       "      <td>Chile</td>\n",
       "      <td>2020-12-25</td>\n",
       "      <td>Pfizer/BioNTech</td>\n",
       "      <td>5198</td>\n",
       "    </tr>\n",
       "    <tr>\n",
       "      <th>2</th>\n",
       "      <td>Chile</td>\n",
       "      <td>2020-12-26</td>\n",
       "      <td>Pfizer/BioNTech</td>\n",
       "      <td>8338</td>\n",
       "    </tr>\n",
       "    <tr>\n",
       "      <th>3</th>\n",
       "      <td>Chile</td>\n",
       "      <td>2020-12-27</td>\n",
       "      <td>Pfizer/BioNTech</td>\n",
       "      <td>8649</td>\n",
       "    </tr>\n",
       "    <tr>\n",
       "      <th>4</th>\n",
       "      <td>Chile</td>\n",
       "      <td>2020-12-28</td>\n",
       "      <td>Pfizer/BioNTech</td>\n",
       "      <td>8649</td>\n",
       "    </tr>\n",
       "  </tbody>\n",
       "</table>\n",
       "</div>"
      ],
      "text/plain": [
       "  location       date          vaccine  total_vaccinations\n",
       "0    Chile 2020-12-24  Pfizer/BioNTech                 420\n",
       "1    Chile 2020-12-25  Pfizer/BioNTech                5198\n",
       "2    Chile 2020-12-26  Pfizer/BioNTech                8338\n",
       "3    Chile 2020-12-27  Pfizer/BioNTech                8649\n",
       "4    Chile 2020-12-28  Pfizer/BioNTech                8649"
      ]
     },
     "execution_count": 14,
     "metadata": {},
     "output_type": "execute_result"
    }
   ],
   "source": [
    "df.head()"
   ]
  },
  {
   "cell_type": "code",
   "execution_count": 15,
   "metadata": {},
   "outputs": [],
   "source": [
    "df = df.groupby([\"vaccine\", \"date\"])[\"total_vaccinations\"].sum().reset_index()"
   ]
  },
  {
   "cell_type": "code",
   "execution_count": 25,
   "metadata": {},
   "outputs": [],
   "source": [
    "plot = alt.Chart(df).mark_area(opacity=0.4, stroke=\"black\").encode(\n",
    "x=\"date:T\",\n",
    "y=alt.Y(\"total_vaccinations:Q\"),\n",
    "color=alt.Color(\"vaccine:N\", scale=alt.Scale(scheme=\"set1\")),\n",
    "tooltip=\"vaccine:N\").interactive().properties(width=\"container\")"
   ]
  },
  {
   "cell_type": "code",
   "execution_count": 26,
   "metadata": {},
   "outputs": [
    {
     "data": {
      "text/html": [
       "<div>\n",
       "<style scoped>\n",
       "    .dataframe tbody tr th:only-of-type {\n",
       "        vertical-align: middle;\n",
       "    }\n",
       "\n",
       "    .dataframe tbody tr th {\n",
       "        vertical-align: top;\n",
       "    }\n",
       "\n",
       "    .dataframe thead th {\n",
       "        text-align: right;\n",
       "    }\n",
       "</style>\n",
       "<table border=\"1\" class=\"dataframe\">\n",
       "  <thead>\n",
       "    <tr style=\"text-align: right;\">\n",
       "      <th></th>\n",
       "      <th>vaccine</th>\n",
       "      <th>date</th>\n",
       "      <th>total_vaccinations</th>\n",
       "    </tr>\n",
       "  </thead>\n",
       "  <tbody>\n",
       "    <tr>\n",
       "      <th>0</th>\n",
       "      <td>Pfizer/BioNTech</td>\n",
       "      <td>2021-05-11</td>\n",
       "      <td>167254245</td>\n",
       "    </tr>\n",
       "    <tr>\n",
       "      <th>1</th>\n",
       "      <td>Moderna</td>\n",
       "      <td>2021-05-11</td>\n",
       "      <td>116118995</td>\n",
       "    </tr>\n",
       "    <tr>\n",
       "      <th>2</th>\n",
       "      <td>Johnson&amp;Johnson</td>\n",
       "      <td>2021-05-11</td>\n",
       "      <td>9417333</td>\n",
       "    </tr>\n",
       "    <tr>\n",
       "      <th>3</th>\n",
       "      <td>Oxford/AstraZeneca</td>\n",
       "      <td>2021-05-11</td>\n",
       "      <td>6935332</td>\n",
       "    </tr>\n",
       "  </tbody>\n",
       "</table>\n",
       "</div>"
      ],
      "text/plain": [
       "              vaccine       date  total_vaccinations\n",
       "0     Pfizer/BioNTech 2021-05-11           167254245\n",
       "1             Moderna 2021-05-11           116118995\n",
       "2     Johnson&Johnson 2021-05-11             9417333\n",
       "3  Oxford/AstraZeneca 2021-05-11             6935332"
      ]
     },
     "execution_count": 26,
     "metadata": {},
     "output_type": "execute_result"
    }
   ],
   "source": [
    "total_df = df[df[\"date\"] == df[\"date\"].max()]\n",
    "total_df = total_df.sort_values(\"total_vaccinations\", ascending=False)\n",
    "total_df.reset_index(drop=True)"
   ]
  },
  {
   "cell_type": "code",
   "execution_count": 27,
   "metadata": {},
   "outputs": [],
   "source": [
    "total_styled = total_df.style.bar(subset=[\"total_vaccinations\"], color=\"red\", \n",
    "                                  vmax=total_df[\"total_vaccinations\"].sum())"
   ]
  },
  {
   "cell_type": "code",
   "execution_count": 28,
   "metadata": {},
   "outputs": [],
   "source": [
    "dp.Report(\"## Vaccination Report\",\n",
    "    dp.Plot(plot, caption=\"Vaccinations by manufacturer over time\"),\n",
    "    dp.Table(total_styled, caption=\"Current vaccination totals by manufacturer\")\n",
    ").save(path='report.html', open=True)"
   ]
  },
  {
   "cell_type": "code",
   "execution_count": null,
   "metadata": {},
   "outputs": [],
   "source": []
  }
 ],
 "metadata": {
  "kernelspec": {
   "display_name": "Python 3",
   "language": "python",
   "name": "python3"
  },
  "language_info": {
   "codemirror_mode": {
    "name": "ipython",
    "version": 3
   },
   "file_extension": ".py",
   "mimetype": "text/x-python",
   "name": "python",
   "nbconvert_exporter": "python",
   "pygments_lexer": "ipython3",
   "version": "3.7.6"
  }
 },
 "nbformat": 4,
 "nbformat_minor": 4
}
