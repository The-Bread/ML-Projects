{
 "cells": [
  {
   "cell_type": "code",
   "execution_count": 5,
   "metadata": {},
   "outputs": [],
   "source": [
    "import torch\n",
    "# random new tensor\n",
    "tensor = torch.Tensor([[1, 2], [3, 4]])\n",
    "\n",
    "# 2x3 tensor with random values\n",
    "empty_tensor = torch.Tensor(2, 3)\n",
    "\n",
    "# 2x3 tensor with random values between -1 and 1\n",
    "uniform_tensor = torch.Tensor(2, 3).uniform_(-1, 1)\n",
    "\n",
    "# 2x3 tensor with random values from a uniform distribution on the interval[0, 1]\n",
    "rand_tensor = torch.rand(2,3)\n",
    "\n",
    "# 2x3 tensor of zeros\n",
    "zero_tensor = torch.zeros(2, 3)"
   ]
  },
  {
   "cell_type": "code",
   "execution_count": 6,
   "metadata": {},
   "outputs": [],
   "source": [
    "tensor_dict = {\"New Tensor\":tensor,\n",
    "              \"Empty Tensor\":empty_tensor,\n",
    "              \"Uniform (-1, 1) Tensor\":uniform_tensor,\n",
    "              \"Random (0, 1) Tensor\":rand_tensor,\n",
    "              \"Zero Tensor\":zero_tensor}"
   ]
  },
  {
   "cell_type": "code",
   "execution_count": 7,
   "metadata": {},
   "outputs": [
    {
     "name": "stdout",
     "output_type": "stream",
     "text": [
      "New Tensor\n",
      "tensor([[1., 2.],\n",
      "        [3., 4.]])\n",
      "\n",
      "\n",
      "\n",
      "Empty Tensor\n",
      "tensor([[0.0000e+00, 8.4490e-39, 1.8754e+28],\n",
      "        [8.0439e+20, 2.6540e+20, 1.2802e-11]])\n",
      "\n",
      "\n",
      "\n",
      "Uniform (-1, 1) Tensor\n",
      "tensor([[ 0.3420,  0.6253, -0.9717],\n",
      "        [-0.7512, -0.7559,  0.9578]])\n",
      "\n",
      "\n",
      "\n",
      "Random (0, 1) Tensor\n",
      "tensor([[0.7080, 0.0999, 0.9699],\n",
      "        [0.9103, 0.0355, 0.4161]])\n",
      "\n",
      "\n",
      "\n",
      "Zero Tensor\n",
      "tensor([[0., 0., 0.],\n",
      "        [0., 0., 0.]])\n",
      "\n",
      "\n",
      "\n"
     ]
    }
   ],
   "source": [
    "for k in tensor_dict.keys():\n",
    "    print(k)\n",
    "    print(tensor_dict[k])\n",
    "    print(\"\\n\\n\")"
   ]
  },
  {
   "cell_type": "code",
   "execution_count": 8,
   "metadata": {},
   "outputs": [
    {
     "data": {
      "text/plain": [
       "tensor([[5., 2.],\n",
       "        [3., 4.]])"
      ]
     },
     "execution_count": 8,
     "metadata": {},
     "output_type": "execute_result"
    }
   ],
   "source": [
    "tensor = torch.Tensor([[1, 2], [3, 4]])\n",
    "\n",
    "tensor[0][0] = 5\n",
    "tensor"
   ]
  },
  {
   "cell_type": "code",
   "execution_count": 9,
   "metadata": {},
   "outputs": [
    {
     "data": {
      "text/plain": [
       "tensor([1., 4., 7.])"
      ]
     },
     "execution_count": 9,
     "metadata": {},
     "output_type": "execute_result"
    }
   ],
   "source": [
    "slice_tensor = torch.Tensor(([1, 2, 3], [4, 5, 6], [7, 8, 9]))\n",
    "slice_tensor[:, 0]"
   ]
  },
  {
   "cell_type": "code",
   "execution_count": 10,
   "metadata": {},
   "outputs": [
    {
     "data": {
      "text/plain": [
       "tensor([3., 6., 9.])"
      ]
     },
     "execution_count": 10,
     "metadata": {},
     "output_type": "execute_result"
    }
   ],
   "source": [
    "slice_tensor[:, -1]"
   ]
  },
  {
   "cell_type": "code",
   "execution_count": 11,
   "metadata": {},
   "outputs": [
    {
     "data": {
      "text/plain": [
       "tensor([7., 8., 9.])"
      ]
     },
     "execution_count": 11,
     "metadata": {},
     "output_type": "execute_result"
    }
   ],
   "source": [
    "slice_tensor[2, :]"
   ]
  },
  {
   "cell_type": "code",
   "execution_count": 12,
   "metadata": {},
   "outputs": [
    {
     "data": {
      "text/plain": [
       "tensor([[1., 2., 3.],\n",
       "        [4., 5., 6.]])"
      ]
     },
     "execution_count": 12,
     "metadata": {},
     "output_type": "execute_result"
    }
   ],
   "source": [
    "slice_tensor[:2, :]"
   ]
  },
  {
   "cell_type": "code",
   "execution_count": 15,
   "metadata": {},
   "outputs": [
    {
     "data": {
      "text/plain": [
       "'torch.FloatTensor'"
      ]
     },
     "execution_count": 15,
     "metadata": {},
     "output_type": "execute_result"
    }
   ],
   "source": [
    "tensor = torch.Tensor(([1, 2], [3, 4]))\n",
    "\n",
    "tensor.type()"
   ]
  },
  {
   "cell_type": "code",
   "execution_count": 17,
   "metadata": {},
   "outputs": [
    {
     "data": {
      "text/plain": [
       "(torch.Size([2, 2]), torch.Size([2, 2]), 2)"
      ]
     },
     "execution_count": 17,
     "metadata": {},
     "output_type": "execute_result"
    }
   ],
   "source": [
    "tensor.shape, tensor.size(), tensor.dim()"
   ]
  },
  {
   "cell_type": "code",
   "execution_count": 20,
   "metadata": {},
   "outputs": [
    {
     "data": {
      "text/plain": [
       "(tensor([[1., 2., 3., 4.]]),\n",
       " tensor([[1.],\n",
       "         [2.],\n",
       "         [3.],\n",
       "         [4.]]))"
      ]
     },
     "execution_count": 20,
     "metadata": {},
     "output_type": "execute_result"
    }
   ],
   "source": [
    "reshape_tensor = torch.Tensor(([1, 2], [3, 4]))\n",
    "\n",
    "reshape_tensor.view(1, 4), reshape_tensor.view(4, 1)"
   ]
  },
  {
   "cell_type": "code",
   "execution_count": 22,
   "metadata": {},
   "outputs": [],
   "source": [
    "import numpy as np\n",
    "\n",
    "np_array = np.random.randn(2, 2)\n",
    "to_tensor = torch.from_numpy(np_array)\n",
    "to_ndarray = to_tensor.numpy()"
   ]
  },
  {
   "cell_type": "code",
   "execution_count": 23,
   "metadata": {},
   "outputs": [
    {
     "data": {
      "text/plain": [
       "array([[-0.61631724, -0.30562763],\n",
       "       [ 1.8134887 ,  1.34467914]])"
      ]
     },
     "execution_count": 23,
     "metadata": {},
     "output_type": "execute_result"
    }
   ],
   "source": [
    "np_array"
   ]
  },
  {
   "cell_type": "code",
   "execution_count": 24,
   "metadata": {},
   "outputs": [
    {
     "data": {
      "text/plain": [
       "tensor([[-0.6163, -0.3056],\n",
       "        [ 1.8135,  1.3447]], dtype=torch.float64)"
      ]
     },
     "execution_count": 24,
     "metadata": {},
     "output_type": "execute_result"
    }
   ],
   "source": [
    "to_tensor"
   ]
  },
  {
   "cell_type": "code",
   "execution_count": 26,
   "metadata": {},
   "outputs": [
    {
     "data": {
      "text/plain": [
       "array([[-0.61631724, -0.30562763],\n",
       "       [ 1.8134887 ,  1.34467914]])"
      ]
     },
     "execution_count": 26,
     "metadata": {},
     "output_type": "execute_result"
    }
   ],
   "source": [
    "to_ndarray"
   ]
  },
  {
   "cell_type": "code",
   "execution_count": 33,
   "metadata": {},
   "outputs": [
    {
     "name": "stdout",
     "output_type": "stream",
     "text": [
      "tensor([[1., 2.],\n",
      "        [3., 4.]]) \n",
      "\n",
      " tensor([[1., 3.],\n",
      "        [2., 4.]])\n"
     ]
    }
   ],
   "source": [
    "print(tensor, \"\\n\\n\", tensor.t())"
   ]
  },
  {
   "cell_type": "code",
   "execution_count": 35,
   "metadata": {},
   "outputs": [
    {
     "name": "stdout",
     "output_type": "stream",
     "text": [
      "tensor([[1., 3.],\n",
      "        [2., 4.]])\n"
     ]
    }
   ],
   "source": [
    "print(tensor.permute(-1, 0)) #transpose via permute function"
   ]
  },
  {
   "cell_type": "code",
   "execution_count": 45,
   "metadata": {},
   "outputs": [
    {
     "data": {
      "text/plain": [
       "tensor([[-1.2617, -0.4881,  1.9157],\n",
       "        [-1.3076, -0.0956, -0.0996],\n",
       "        [-0.5930, -1.2238,  0.6999]])"
      ]
     },
     "execution_count": 45,
     "metadata": {},
     "output_type": "execute_result"
    }
   ],
   "source": [
    "tensor1 = torch.randn(3, 3)\n",
    "tensor2 = torch.randn(3, 3)\n",
    "\n",
    "cross_prod = tensor1.cross(tensor2) # CROSS PRODUCT\n",
    "# cross_prod = torch.cross(tensor1, tensor2)\n",
    "cross_prod"
   ]
  },
  {
   "cell_type": "code",
   "execution_count": 46,
   "metadata": {},
   "outputs": [
    {
     "data": {
      "text/plain": [
       "tensor([[ 0.2362,  0.4664, -0.5713],\n",
       "        [-1.0425, -0.2243,  0.3888],\n",
       "        [ 1.7964, -0.1685,  1.6189]])"
      ]
     },
     "execution_count": 46,
     "metadata": {},
     "output_type": "execute_result"
    }
   ],
   "source": [
    "tensor1"
   ]
  },
  {
   "cell_type": "code",
   "execution_count": 47,
   "metadata": {},
   "outputs": [
    {
     "data": {
      "text/plain": [
       "tensor([[-0.8067, -0.7462, -0.5150],\n",
       "        [ 1.0503, -2.2650, -0.8747],\n",
       "        [-0.5996,  0.4745,  1.2850]])"
      ]
     },
     "execution_count": 47,
     "metadata": {},
     "output_type": "execute_result"
    }
   ],
   "source": [
    "tensor2"
   ]
  },
  {
   "cell_type": "code",
   "execution_count": 48,
   "metadata": {},
   "outputs": [
    {
     "data": {
      "text/plain": [
       "tensor([[ 0.6419, -1.5038, -1.2638],\n",
       "        [ 0.3724,  1.4704,  1.2326],\n",
       "        [-2.5969, -0.1906,  1.3027]])"
      ]
     },
     "execution_count": 48,
     "metadata": {},
     "output_type": "execute_result"
    }
   ],
   "source": [
    "matrix_prod = tensor1.mm(tensor2) # MATRIX PRODUCT\n",
    "matrix_prod"
   ]
  },
  {
   "cell_type": "code",
   "execution_count": 49,
   "metadata": {},
   "outputs": [
    {
     "data": {
      "text/plain": [
       "tensor([[-0.1905, -0.3480,  0.2942],\n",
       "        [-1.0950,  0.5080, -0.3401],\n",
       "        [-1.0771, -0.0800,  2.0804]])"
      ]
     },
     "execution_count": 49,
     "metadata": {},
     "output_type": "execute_result"
    }
   ],
   "source": [
    "element_mult = tensor1.mul(tensor2) # MULTIPLICATION\n",
    "element_mult"
   ]
  },
  {
   "cell_type": "code",
   "execution_count": 51,
   "metadata": {},
   "outputs": [
    {
     "name": "stdout",
     "output_type": "stream",
     "text": [
      "tensor([[-0.5706, -0.2798, -1.0863],\n",
      "        [ 0.0078, -2.4893, -0.4860],\n",
      "        [ 1.1968,  0.3060,  2.9039]], device='cuda:0')\n"
     ]
    }
   ],
   "source": [
    "if torch.cuda.is_available():\n",
    "    tensor1 = tensor1.cuda()\n",
    "    tensor2 = tensor2.cuda()\n",
    "    print(tensor1 + tensor2)"
   ]
  },
  {
   "cell_type": "code",
   "execution_count": null,
   "metadata": {},
   "outputs": [],
   "source": []
  }
 ],
 "metadata": {
  "kernelspec": {
   "display_name": "Python 3",
   "language": "python",
   "name": "python3"
  },
  "language_info": {
   "codemirror_mode": {
    "name": "ipython",
    "version": 3
   },
   "file_extension": ".py",
   "mimetype": "text/x-python",
   "name": "python",
   "nbconvert_exporter": "python",
   "pygments_lexer": "ipython3",
   "version": "3.7.6"
  }
 },
 "nbformat": 4,
 "nbformat_minor": 4
}
