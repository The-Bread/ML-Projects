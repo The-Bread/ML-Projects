{
 "cells": [
  {
   "cell_type": "code",
   "execution_count": 2,
   "metadata": {},
   "outputs": [],
   "source": [
    "import librosa\n",
    "import pandas as pd\n",
    "import numpy as np\n",
    "import matplotlib.pyplot as plt\n",
    "import os\n",
    "from PIL import Image\n",
    "import pathlib\n",
    "import csv\n",
    "\n",
    "from sklearn.model_selection import train_test_split\n",
    "from sklearn.preprocessing import LabelEncoder, StandardScaler\n",
    "\n",
    "import keras\n",
    "\n",
    "import warnings\n",
    "# warnings.fiterwarnings(\"ignore\")"
   ]
  },
  {
   "cell_type": "markdown",
   "metadata": {},
   "source": [
    "- Blues\n",
    "- Classical\n",
    "- Country\n",
    "- Disco\n",
    "- Hiphop\n",
    "- Jazz\n",
    "- Metal\n",
    "- Pop\n",
    "- Reggae\n",
    "- Rock"
   ]
  },
  {
   "cell_type": "code",
   "execution_count": 7,
   "metadata": {},
   "outputs": [],
   "source": [
    "genres = [\"blues\", \"classical\", \"country\", \"disco\", \"hiphop\",\n",
    "          \"jazz\", \"metal\", \"pop\", \"reggae\", \"rock\"]"
   ]
  },
  {
   "cell_type": "code",
   "execution_count": 10,
   "metadata": {},
   "outputs": [
    {
     "data": {
      "text/plain": [
       "<Figure size 720x720 with 0 Axes>"
      ]
     },
     "metadata": {},
     "output_type": "display_data"
    }
   ],
   "source": [
    "cmap = plt.get_cmap(\"inferno\")\n",
    "\n",
    "plt.figure(figsize=(10, 10))\n",
    "for g in genres:\n",
    "    pathlib.Path(f\"img_data/{g}\").mkdir(parents=True, exist_ok=True)\n",
    "    for filename in os.listdir(f\"genres_original/{g}\"):\n",
    "        try:\n",
    "            songname = f\"genres_original/{g}/{filename}\"\n",
    "            y, sr = librosa.load(songname, mono=True, duration=5)\n",
    "            plt.specgram(y, NFFT=2048, Fs=2, Fc=0, noverlap=128, cmap=cmap,\n",
    "                        sides=\"default\", mode=\"default\", scale=\"dB\")\n",
    "            plt.axis(\"off\")\n",
    "            plt.savefig(f\"img_data/{g}/{filename[:-3].replace('.', '')}.png\")\n",
    "            plt.clf()\n",
    "        except:\n",
    "            pass"
   ]
  },
  {
   "cell_type": "code",
   "execution_count": 11,
   "metadata": {},
   "outputs": [],
   "source": [
    "header = ['filename', 'chroma_stft', 'rmse', 'spectral_centroid',\n",
    "         'spectral_bandwidth', 'rolloff', 'zero_crossing_rate',\n",
    "         'mfcc1', 'mfcc2', 'mfcc3', 'mfcc4', 'mfcc5', 'mfcc6',\n",
    "         'mfcc7', 'mfcc8', 'mfcc9', 'mfcc10', 'mfcc11', 'mfcc12',\n",
    "         'mfcc13', 'mfcc14', 'mfcc15', 'mfcc16', 'mfcc17',\n",
    "         'mfcc18', 'mfcc19', 'mfcc20', 'label']"
   ]
  },
  {
   "cell_type": "code",
   "execution_count": 43,
   "metadata": {},
   "outputs": [],
   "source": [
    "with open(\"data.csv\", \"w\", newline=\"\") as f:\n",
    "    writer = csv.writer(f)\n",
    "    writer.writerow(header)\n",
    "for g in genres:\n",
    "    for filename in os.listdir(f\"genres_original/{g}\"):\n",
    "        try:\n",
    "            songname = f\"genres_original/{g}/{filename}\"\n",
    "            y, sr = librosa.load(songname, mono=True, duration=30)\n",
    "            chroma_stft = librosa.feature.chroma_stft(y=y, sr=sr)\n",
    "            rmse = librosa.feature.rms(y=y)\n",
    "            spec_cent = librosa.feature.spectral_centroid(y=y, sr=sr)\n",
    "            spec_bw = librosa.feature.spectral_bandwidth(y=y, sr=sr)\n",
    "            rolloff = librosa.feature.spectral_rolloff(y=y, sr=sr)\n",
    "            zcr = librosa.feature.zero_crossing_rate(y)\n",
    "            mfcc = librosa.feature.mfcc(y=y, sr=sr)\n",
    "\n",
    "            a = f\"{filename} {np.mean(chroma_stft)} {np.mean(rmse)}\"\n",
    "            a += f\" {np.mean(spec_cent)} {np.mean(spec_bw)}\"\n",
    "            a += f\" {np.mean(rolloff)} {np.mean(zcr)}\"\n",
    "\n",
    "            for e in mfcc:\n",
    "                a += f\" {np.mean(e)}\"\n",
    "            a += f\" {g}\"\n",
    "\n",
    "            with open(\"data.csv\", \"a\", newline=\"\") as f:\n",
    "                writer = csv.writer(f)\n",
    "                writer.writerow(a.split())\n",
    "        except:\n",
    "            pass"
   ]
  },
  {
   "cell_type": "code",
   "execution_count": 44,
   "metadata": {},
   "outputs": [
    {
     "data": {
      "text/html": [
       "<div>\n",
       "<style scoped>\n",
       "    .dataframe tbody tr th:only-of-type {\n",
       "        vertical-align: middle;\n",
       "    }\n",
       "\n",
       "    .dataframe tbody tr th {\n",
       "        vertical-align: top;\n",
       "    }\n",
       "\n",
       "    .dataframe thead th {\n",
       "        text-align: right;\n",
       "    }\n",
       "</style>\n",
       "<table border=\"1\" class=\"dataframe\">\n",
       "  <thead>\n",
       "    <tr style=\"text-align: right;\">\n",
       "      <th></th>\n",
       "      <th>filename</th>\n",
       "      <th>chroma_stft</th>\n",
       "      <th>rmse</th>\n",
       "      <th>spectral_centroid</th>\n",
       "      <th>spectral_bandwidth</th>\n",
       "      <th>rolloff</th>\n",
       "      <th>zero_crossing_rate</th>\n",
       "      <th>mfcc1</th>\n",
       "      <th>mfcc2</th>\n",
       "      <th>mfcc3</th>\n",
       "      <th>...</th>\n",
       "      <th>mfcc12</th>\n",
       "      <th>mfcc13</th>\n",
       "      <th>mfcc14</th>\n",
       "      <th>mfcc15</th>\n",
       "      <th>mfcc16</th>\n",
       "      <th>mfcc17</th>\n",
       "      <th>mfcc18</th>\n",
       "      <th>mfcc19</th>\n",
       "      <th>mfcc20</th>\n",
       "      <th>label</th>\n",
       "    </tr>\n",
       "  </thead>\n",
       "  <tbody>\n",
       "    <tr>\n",
       "      <th>0</th>\n",
       "      <td>blues.00000.wav</td>\n",
       "      <td>0.349943</td>\n",
       "      <td>0.130225</td>\n",
       "      <td>1784.420446</td>\n",
       "      <td>2002.650192</td>\n",
       "      <td>3806.485316</td>\n",
       "      <td>0.083066</td>\n",
       "      <td>-113.596748</td>\n",
       "      <td>121.557297</td>\n",
       "      <td>-19.158825</td>\n",
       "      <td>...</td>\n",
       "      <td>8.810669</td>\n",
       "      <td>-3.667368</td>\n",
       "      <td>5.751691</td>\n",
       "      <td>-5.162763</td>\n",
       "      <td>0.750948</td>\n",
       "      <td>-1.691938</td>\n",
       "      <td>-0.409953</td>\n",
       "      <td>-2.300209</td>\n",
       "      <td>1.219929</td>\n",
       "      <td>blues</td>\n",
       "    </tr>\n",
       "    <tr>\n",
       "      <th>1</th>\n",
       "      <td>blues.00001.wav</td>\n",
       "      <td>0.340983</td>\n",
       "      <td>0.095918</td>\n",
       "      <td>1529.835316</td>\n",
       "      <td>2038.617579</td>\n",
       "      <td>3548.820207</td>\n",
       "      <td>0.056044</td>\n",
       "      <td>-207.556793</td>\n",
       "      <td>124.006721</td>\n",
       "      <td>8.930560</td>\n",
       "      <td>...</td>\n",
       "      <td>5.376803</td>\n",
       "      <td>-2.239120</td>\n",
       "      <td>4.216963</td>\n",
       "      <td>-6.012273</td>\n",
       "      <td>0.936109</td>\n",
       "      <td>-0.716537</td>\n",
       "      <td>0.293876</td>\n",
       "      <td>-0.287431</td>\n",
       "      <td>0.531573</td>\n",
       "      <td>blues</td>\n",
       "    </tr>\n",
       "    <tr>\n",
       "      <th>2</th>\n",
       "      <td>blues.00002.wav</td>\n",
       "      <td>0.363603</td>\n",
       "      <td>0.175573</td>\n",
       "      <td>1552.481958</td>\n",
       "      <td>1747.165985</td>\n",
       "      <td>3040.514948</td>\n",
       "      <td>0.076301</td>\n",
       "      <td>-90.754387</td>\n",
       "      <td>140.459900</td>\n",
       "      <td>-29.109968</td>\n",
       "      <td>...</td>\n",
       "      <td>5.789265</td>\n",
       "      <td>-8.905224</td>\n",
       "      <td>-1.083720</td>\n",
       "      <td>-9.218359</td>\n",
       "      <td>2.455806</td>\n",
       "      <td>-7.726901</td>\n",
       "      <td>-1.815723</td>\n",
       "      <td>-3.433434</td>\n",
       "      <td>-2.226821</td>\n",
       "      <td>blues</td>\n",
       "    </tr>\n",
       "    <tr>\n",
       "      <th>3</th>\n",
       "      <td>blues.00003.wav</td>\n",
       "      <td>0.404779</td>\n",
       "      <td>0.141191</td>\n",
       "      <td>1070.119953</td>\n",
       "      <td>1596.333948</td>\n",
       "      <td>2185.028454</td>\n",
       "      <td>0.033309</td>\n",
       "      <td>-199.431152</td>\n",
       "      <td>150.099213</td>\n",
       "      <td>5.647593</td>\n",
       "      <td>...</td>\n",
       "      <td>6.087677</td>\n",
       "      <td>-2.476421</td>\n",
       "      <td>-1.073890</td>\n",
       "      <td>-2.874778</td>\n",
       "      <td>0.780977</td>\n",
       "      <td>-3.316932</td>\n",
       "      <td>0.637982</td>\n",
       "      <td>-0.619690</td>\n",
       "      <td>-3.408233</td>\n",
       "      <td>blues</td>\n",
       "    </tr>\n",
       "    <tr>\n",
       "      <th>4</th>\n",
       "      <td>blues.00004.wav</td>\n",
       "      <td>0.308590</td>\n",
       "      <td>0.091563</td>\n",
       "      <td>1835.494603</td>\n",
       "      <td>1748.362448</td>\n",
       "      <td>3580.945013</td>\n",
       "      <td>0.101500</td>\n",
       "      <td>-160.266037</td>\n",
       "      <td>126.198807</td>\n",
       "      <td>-35.605450</td>\n",
       "      <td>...</td>\n",
       "      <td>-2.806384</td>\n",
       "      <td>-6.934123</td>\n",
       "      <td>-7.558618</td>\n",
       "      <td>-9.173553</td>\n",
       "      <td>-4.512165</td>\n",
       "      <td>-5.453538</td>\n",
       "      <td>-0.924161</td>\n",
       "      <td>-4.409333</td>\n",
       "      <td>-11.703781</td>\n",
       "      <td>blues</td>\n",
       "    </tr>\n",
       "  </tbody>\n",
       "</table>\n",
       "<p>5 rows × 28 columns</p>\n",
       "</div>"
      ],
      "text/plain": [
       "          filename  chroma_stft      rmse  spectral_centroid  \\\n",
       "0  blues.00000.wav     0.349943  0.130225        1784.420446   \n",
       "1  blues.00001.wav     0.340983  0.095918        1529.835316   \n",
       "2  blues.00002.wav     0.363603  0.175573        1552.481958   \n",
       "3  blues.00003.wav     0.404779  0.141191        1070.119953   \n",
       "4  blues.00004.wav     0.308590  0.091563        1835.494603   \n",
       "\n",
       "   spectral_bandwidth      rolloff  zero_crossing_rate       mfcc1  \\\n",
       "0         2002.650192  3806.485316            0.083066 -113.596748   \n",
       "1         2038.617579  3548.820207            0.056044 -207.556793   \n",
       "2         1747.165985  3040.514948            0.076301  -90.754387   \n",
       "3         1596.333948  2185.028454            0.033309 -199.431152   \n",
       "4         1748.362448  3580.945013            0.101500 -160.266037   \n",
       "\n",
       "        mfcc2      mfcc3  ...    mfcc12    mfcc13    mfcc14    mfcc15  \\\n",
       "0  121.557297 -19.158825  ...  8.810669 -3.667368  5.751691 -5.162763   \n",
       "1  124.006721   8.930560  ...  5.376803 -2.239120  4.216963 -6.012273   \n",
       "2  140.459900 -29.109968  ...  5.789265 -8.905224 -1.083720 -9.218359   \n",
       "3  150.099213   5.647593  ...  6.087677 -2.476421 -1.073890 -2.874778   \n",
       "4  126.198807 -35.605450  ... -2.806384 -6.934123 -7.558618 -9.173553   \n",
       "\n",
       "     mfcc16    mfcc17    mfcc18    mfcc19     mfcc20  label  \n",
       "0  0.750948 -1.691938 -0.409953 -2.300209   1.219929  blues  \n",
       "1  0.936109 -0.716537  0.293876 -0.287431   0.531573  blues  \n",
       "2  2.455806 -7.726901 -1.815723 -3.433434  -2.226821  blues  \n",
       "3  0.780977 -3.316932  0.637982 -0.619690  -3.408233  blues  \n",
       "4 -4.512165 -5.453538 -0.924161 -4.409333 -11.703781  blues  \n",
       "\n",
       "[5 rows x 28 columns]"
      ]
     },
     "execution_count": 44,
     "metadata": {},
     "output_type": "execute_result"
    }
   ],
   "source": [
    "df = pd.read_csv(\"data.csv\")\n",
    "df.head()"
   ]
  },
  {
   "cell_type": "code",
   "execution_count": 45,
   "metadata": {},
   "outputs": [
    {
     "data": {
      "text/plain": [
       "(999, 28)"
      ]
     },
     "execution_count": 45,
     "metadata": {},
     "output_type": "execute_result"
    }
   ],
   "source": [
    "df.shape"
   ]
  },
  {
   "cell_type": "code",
   "execution_count": 46,
   "metadata": {},
   "outputs": [],
   "source": [
    "df = df.drop([\"filename\"], axis=1)"
   ]
  },
  {
   "cell_type": "code",
   "execution_count": 47,
   "metadata": {},
   "outputs": [],
   "source": [
    "genre_list = df.iloc[:, -1]\n",
    "encoder = LabelEncoder()\n",
    "y = encoder.fit_transform(genre_list)"
   ]
  },
  {
   "cell_type": "code",
   "execution_count": 48,
   "metadata": {},
   "outputs": [],
   "source": [
    "scaler = StandardScaler()\n",
    "X = scaler.fit_transform(np.array(df.iloc[:, :-1], dtype=float))"
   ]
  },
  {
   "cell_type": "code",
   "execution_count": 49,
   "metadata": {},
   "outputs": [],
   "source": [
    "X_train, X_test, y_train, y_test = train_test_split(X, y, test_size=0.2)"
   ]
  },
  {
   "cell_type": "code",
   "execution_count": 50,
   "metadata": {},
   "outputs": [
    {
     "name": "stdout",
     "output_type": "stream",
     "text": [
      "train size: 799\n",
      "test size: 200\n"
     ]
    },
    {
     "data": {
      "text/plain": [
       "array([ 0.93804906,  0.7817821 , -0.19986649, -0.02971315, -0.01269267,\n",
       "       -0.74931576,  0.53055287, -0.02273699, -0.65830351,  0.63448757,\n",
       "       -0.46725684,  1.2357141 , -0.48630526,  1.48493694, -0.38796614,\n",
       "        1.49713636, -0.32148877,  1.33064134, -0.27559859,  2.44395589,\n",
       "        0.88011913,  2.49784942,  0.94761342,  2.48229123,  0.50566452,\n",
       "        0.62181654])"
      ]
     },
     "execution_count": 50,
     "metadata": {},
     "output_type": "execute_result"
    }
   ],
   "source": [
    "print(f\"train size: {len(y_train)}\")\n",
    "print(f\"test size: {len(y_test)}\")\n",
    "X_train[10]"
   ]
  },
  {
   "cell_type": "markdown",
   "metadata": {},
   "source": [
    "## THE MODEL"
   ]
  },
  {
   "cell_type": "code",
   "execution_count": 51,
   "metadata": {},
   "outputs": [],
   "source": [
    "from keras.models import Sequential\n",
    "from keras import layers as ly"
   ]
  },
  {
   "cell_type": "code",
   "execution_count": 52,
   "metadata": {},
   "outputs": [],
   "source": [
    "model = Sequential([\n",
    "    ly.Dense(256, activation=\"relu\", input_shape=(X_train.shape[1],)),\n",
    "    ly.Dense(128, activation=\"relu\"),\n",
    "    ly.Dense(64, activation=\"relu\"),\n",
    "    ly.Dense(10, activation=\"softmax\")\n",
    "])\n",
    "\n",
    "model.compile(optimizer=\"adam\", loss=\"sparse_categorical_crossentropy\", metrics=[\"accuracy\"])"
   ]
  },
  {
   "cell_type": "code",
   "execution_count": 53,
   "metadata": {},
   "outputs": [
    {
     "name": "stdout",
     "output_type": "stream",
     "text": [
      "Epoch 1/20\n",
      "7/7 [==============================] - 0s 8ms/step - loss: 2.1923 - accuracy: 0.2365\n",
      "Epoch 2/20\n",
      "7/7 [==============================] - 0s 3ms/step - loss: 1.8844 - accuracy: 0.3567\n",
      "Epoch 3/20\n",
      "7/7 [==============================] - 0s 3ms/step - loss: 1.6540 - accuracy: 0.3930\n",
      "Epoch 4/20\n",
      "7/7 [==============================] - 0s 3ms/step - loss: 1.4531 - accuracy: 0.4806\n",
      "Epoch 5/20\n",
      "7/7 [==============================] - 0s 3ms/step - loss: 1.3018 - accuracy: 0.5544\n",
      "Epoch 6/20\n",
      "7/7 [==============================] - 0s 3ms/step - loss: 1.1948 - accuracy: 0.5932\n",
      "Epoch 7/20\n",
      "7/7 [==============================] - 0s 3ms/step - loss: 1.1066 - accuracy: 0.6183\n",
      "Epoch 8/20\n",
      "7/7 [==============================] - 0s 3ms/step - loss: 1.0317 - accuracy: 0.6521\n",
      "Epoch 9/20\n",
      "7/7 [==============================] - 0s 3ms/step - loss: 0.9689 - accuracy: 0.6771\n",
      "Epoch 10/20\n",
      "7/7 [==============================] - 0s 3ms/step - loss: 0.9250 - accuracy: 0.6859\n",
      "Epoch 11/20\n",
      "7/7 [==============================] - 0s 3ms/step - loss: 0.8642 - accuracy: 0.7171\n",
      "Epoch 12/20\n",
      "7/7 [==============================] - 0s 3ms/step - loss: 0.8163 - accuracy: 0.7334\n",
      "Epoch 13/20\n",
      "7/7 [==============================] - 0s 3ms/step - loss: 0.7703 - accuracy: 0.7372\n",
      "Epoch 14/20\n",
      "7/7 [==============================] - 0s 3ms/step - loss: 0.7524 - accuracy: 0.7597\n",
      "Epoch 15/20\n",
      "7/7 [==============================] - 0s 3ms/step - loss: 0.7023 - accuracy: 0.7610\n",
      "Epoch 16/20\n",
      "7/7 [==============================] - 0s 3ms/step - loss: 0.6630 - accuracy: 0.7822\n",
      "Epoch 17/20\n",
      "7/7 [==============================] - 0s 3ms/step - loss: 0.6301 - accuracy: 0.7960\n",
      "Epoch 18/20\n",
      "7/7 [==============================] - 0s 3ms/step - loss: 0.6156 - accuracy: 0.7872\n",
      "Epoch 19/20\n",
      "7/7 [==============================] - 0s 2ms/step - loss: 0.5813 - accuracy: 0.8073\n",
      "Epoch 20/20\n",
      "7/7 [==============================] - 0s 3ms/step - loss: 0.5579 - accuracy: 0.8360\n"
     ]
    }
   ],
   "source": [
    "his = model.fit(X_train, y_train, epochs=20, batch_size=128)"
   ]
  },
  {
   "cell_type": "code",
   "execution_count": 54,
   "metadata": {},
   "outputs": [
    {
     "name": "stdout",
     "output_type": "stream",
     "text": [
      "7/7 [==============================] - 0s 3ms/step - loss: 0.9927 - accuracy: 0.6500\n"
     ]
    }
   ],
   "source": [
    "test_loss, test_acc = model.evaluate(X_test, y_test)"
   ]
  },
  {
   "cell_type": "code",
   "execution_count": 62,
   "metadata": {},
   "outputs": [
    {
     "data": {
      "text/plain": [
       "dict_keys(['loss', 'accuracy'])"
      ]
     },
     "execution_count": 62,
     "metadata": {},
     "output_type": "execute_result"
    }
   ],
   "source": [
    "his.history.keys()"
   ]
  },
  {
   "cell_type": "code",
   "execution_count": 63,
   "metadata": {},
   "outputs": [
    {
     "data": {
      "image/png": "[encoded data removed]",
      "text/plain": [
       "<Figure size 432x288 with 1 Axes>"
      ]
     },
     "metadata": {
      "needs_background": "light"
     },
     "output_type": "display_data"
    }
   ],
   "source": [
    "plt.plot(his.history[\"accuracy\"])\n",
    "plt.plot(his.history[\"loss\"])\n",
    "plt.xlabel(\"epochs\")\n",
    "plt.ylabel(\"accuracy\")\n",
    "plt.legend([\"accuracy\", \"loss\"])\n",
    "plt.show()"
   ]
  },
  {
   "cell_type": "code",
   "execution_count": 64,
   "metadata": {},
   "outputs": [],
   "source": [
    "x_val = X_train[:200]\n",
    "part_x_train = X_train[200:]\n",
    "\n",
    "y_val = y_train[:200]\n",
    "part_y_train = y_train[200:]"
   ]
  },
  {
   "cell_type": "code",
   "execution_count": 65,
   "metadata": {},
   "outputs": [],
   "source": [
    "model = Sequential([\n",
    "    ly.Dense(512, activation=\"relu\", input_shape=(X_train.shape[1],)),\n",
    "    ly.Dense(256, activation=\"relu\"),\n",
    "    ly.Dense(128, activation=\"relu\"),\n",
    "    ly.Dense(64, activation=\"relu\"),\n",
    "    ly.Dense(10, activation=\"softmax\")\n",
    "])\n",
    "\n",
    "model.compile(optimizer=\"adam\", loss=\"sparse_categorical_crossentropy\", metrics=[\"accuracy\"])"
   ]
  },
  {
   "cell_type": "code",
   "execution_count": 66,
   "metadata": {},
   "outputs": [
    {
     "name": "stdout",
     "output_type": "stream",
     "text": [
      "Epoch 1/30\n",
      "2/2 [==============================] - 0s 75ms/step - loss: 2.3163 - accuracy: 0.1002 - val_loss: 2.1656 - val_accuracy: 0.3150\n",
      "Epoch 2/30\n",
      "2/2 [==============================] - 0s 15ms/step - loss: 2.1417 - accuracy: 0.3406 - val_loss: 2.0501 - val_accuracy: 0.3600\n",
      "Epoch 3/30\n",
      "2/2 [==============================] - 0s 13ms/step - loss: 1.9931 - accuracy: 0.3773 - val_loss: 1.9170 - val_accuracy: 0.3450\n",
      "Epoch 4/30\n",
      "2/2 [==============================] - 0s 15ms/step - loss: 1.8211 - accuracy: 0.3940 - val_loss: 1.7836 - val_accuracy: 0.3650\n",
      "Epoch 5/30\n",
      "2/2 [==============================] - 0s 21ms/step - loss: 1.6588 - accuracy: 0.4207 - val_loss: 1.6643 - val_accuracy: 0.3950\n",
      "Epoch 6/30\n",
      "2/2 [==============================] - 0s 16ms/step - loss: 1.5191 - accuracy: 0.4407 - val_loss: 1.5694 - val_accuracy: 0.4700\n",
      "Epoch 7/30\n",
      "2/2 [==============================] - 0s 12ms/step - loss: 1.4083 - accuracy: 0.4608 - val_loss: 1.4958 - val_accuracy: 0.4850\n",
      "Epoch 8/30\n",
      "2/2 [==============================] - 0s 12ms/step - loss: 1.3171 - accuracy: 0.5092 - val_loss: 1.4379 - val_accuracy: 0.5100\n",
      "Epoch 9/30\n",
      "2/2 [==============================] - 0s 13ms/step - loss: 1.2334 - accuracy: 0.5426 - val_loss: 1.3959 - val_accuracy: 0.4900\n",
      "Epoch 10/30\n",
      "2/2 [==============================] - 0s 13ms/step - loss: 1.1671 - accuracy: 0.5960 - val_loss: 1.3420 - val_accuracy: 0.5200\n",
      "Epoch 11/30\n",
      "2/2 [==============================] - 0s 15ms/step - loss: 1.0976 - accuracy: 0.6377 - val_loss: 1.3209 - val_accuracy: 0.5400\n",
      "Epoch 12/30\n",
      "2/2 [==============================] - 0s 13ms/step - loss: 1.0780 - accuracy: 0.6194 - val_loss: 1.2682 - val_accuracy: 0.5700\n",
      "Epoch 13/30\n",
      "2/2 [==============================] - 0s 10ms/step - loss: 0.9867 - accuracy: 0.6628 - val_loss: 1.2958 - val_accuracy: 0.5450\n",
      "Epoch 14/30\n",
      "2/2 [==============================] - 0s 11ms/step - loss: 0.9794 - accuracy: 0.6694 - val_loss: 1.2633 - val_accuracy: 0.5500\n",
      "Epoch 15/30\n",
      "2/2 [==============================] - 0s 11ms/step - loss: 0.9296 - accuracy: 0.6928 - val_loss: 1.2195 - val_accuracy: 0.5750\n",
      "Epoch 16/30\n",
      "2/2 [==============================] - 0s 19ms/step - loss: 0.8689 - accuracy: 0.6945 - val_loss: 1.2213 - val_accuracy: 0.5850\n",
      "Epoch 17/30\n",
      "2/2 [==============================] - 0s 16ms/step - loss: 0.8630 - accuracy: 0.6895 - val_loss: 1.1807 - val_accuracy: 0.6300\n",
      "Epoch 18/30\n",
      "2/2 [==============================] - 0s 13ms/step - loss: 0.7947 - accuracy: 0.7362 - val_loss: 1.2087 - val_accuracy: 0.5850\n",
      "Epoch 19/30\n",
      "2/2 [==============================] - 0s 16ms/step - loss: 0.7812 - accuracy: 0.7346 - val_loss: 1.2311 - val_accuracy: 0.5850\n",
      "Epoch 20/30\n",
      "2/2 [==============================] - 0s 13ms/step - loss: 0.7650 - accuracy: 0.7513 - val_loss: 1.1574 - val_accuracy: 0.6200\n",
      "Epoch 21/30\n",
      "2/2 [==============================] - 0s 15ms/step - loss: 0.7007 - accuracy: 0.7746 - val_loss: 1.1412 - val_accuracy: 0.6350\n",
      "Epoch 22/30\n",
      "2/2 [==============================] - 0s 16ms/step - loss: 0.6927 - accuracy: 0.7646 - val_loss: 1.1806 - val_accuracy: 0.6150\n",
      "Epoch 23/30\n",
      "2/2 [==============================] - 0s 15ms/step - loss: 0.6847 - accuracy: 0.7546 - val_loss: 1.2010 - val_accuracy: 0.6150\n",
      "Epoch 24/30\n",
      "2/2 [==============================] - 0s 12ms/step - loss: 0.6423 - accuracy: 0.7880 - val_loss: 1.1921 - val_accuracy: 0.6400\n",
      "Epoch 25/30\n",
      "2/2 [==============================] - ETA: 0s - loss: 0.6394 - accuracy: 0.78 - 0s 14ms/step - loss: 0.6225 - accuracy: 0.7880 - val_loss: 1.1777 - val_accuracy: 0.6200\n",
      "Epoch 26/30\n",
      "2/2 [==============================] - 0s 12ms/step - loss: 0.5912 - accuracy: 0.8214 - val_loss: 1.1844 - val_accuracy: 0.5950\n",
      "Epoch 27/30\n",
      "2/2 [==============================] - 0s 12ms/step - loss: 0.5743 - accuracy: 0.8063 - val_loss: 1.1494 - val_accuracy: 0.6150\n",
      "Epoch 28/30\n",
      "2/2 [==============================] - 0s 11ms/step - loss: 0.5446 - accuracy: 0.8197 - val_loss: 1.1157 - val_accuracy: 0.6200\n",
      "Epoch 29/30\n",
      "2/2 [==============================] - 0s 11ms/step - loss: 0.5258 - accuracy: 0.8414 - val_loss: 1.1215 - val_accuracy: 0.6750\n",
      "Epoch 30/30\n",
      "2/2 [==============================] - 0s 11ms/step - loss: 0.4928 - accuracy: 0.8514 - val_loss: 1.1946 - val_accuracy: 0.6450\n",
      "7/7 [==============================] - 0s 2ms/step - loss: 1.0289 - accuracy: 0.6500\n"
     ]
    }
   ],
   "source": [
    "history = model.fit(part_x_train, part_y_train, epochs=30, batch_size=512,\n",
    "                   validation_data=(x_val, y_val))\n",
    "res = model.evaluate(X_test, y_test)"
   ]
  },
  {
   "cell_type": "code",
   "execution_count": 67,
   "metadata": {},
   "outputs": [
    {
     "data": {
      "text/plain": [
       "[1.0289015769958496, 0.6499999761581421]"
      ]
     },
     "execution_count": 67,
     "metadata": {},
     "output_type": "execute_result"
    }
   ],
   "source": [
    "res"
   ]
  },
  {
   "cell_type": "code",
   "execution_count": 68,
   "metadata": {},
   "outputs": [
    {
     "data": {
      "image/png": "[encoded data removed]",
      "text/plain": [
       "<Figure size 432x288 with 1 Axes>"
      ]
     },
     "metadata": {
      "needs_background": "light"
     },
     "output_type": "display_data"
    }
   ],
   "source": [
    "plt.plot(history.history[\"accuracy\"])\n",
    "plt.plot(history.history[\"val_accuracy\"])\n",
    "plt.xlabel(\"epochs\")\n",
    "plt.ylabel(\"accuracy\")\n",
    "plt.legend([\"accuracy\", \"val_accuracy\"])\n",
    "plt.show()"
   ]
  },
  {
   "cell_type": "code",
   "execution_count": 69,
   "metadata": {},
   "outputs": [
    {
     "data": {
      "image/png": "[encoded data removed]",
      "text/plain": [
       "<Figure size 432x288 with 1 Axes>"
      ]
     },
     "metadata": {
      "needs_background": "light"
     },
     "output_type": "display_data"
    }
   ],
   "source": [
    "plt.plot(history.history[\"loss\"])\n",
    "plt.plot(history.history[\"val_loss\"])\n",
    "plt.xlabel(\"epochs\")\n",
    "plt.ylabel(\"loss\")\n",
    "plt.legend([\"loss\", \"val_loss\"])\n",
    "plt.show()"
   ]
  },
  {
   "cell_type": "code",
   "execution_count": 70,
   "metadata": {},
   "outputs": [],
   "source": [
    "preds = model.predict(X_test)"
   ]
  },
  {
   "cell_type": "code",
   "execution_count": 71,
   "metadata": {},
   "outputs": [
    {
     "data": {
      "text/plain": [
       "(10,)"
      ]
     },
     "execution_count": 71,
     "metadata": {},
     "output_type": "execute_result"
    }
   ],
   "source": [
    "preds[0].shape"
   ]
  },
  {
   "cell_type": "code",
   "execution_count": 72,
   "metadata": {},
   "outputs": [
    {
     "data": {
      "text/plain": [
       "8"
      ]
     },
     "execution_count": 72,
     "metadata": {},
     "output_type": "execute_result"
    }
   ],
   "source": [
    "np.argmax(preds[0])"
   ]
  },
  {
   "cell_type": "code",
   "execution_count": null,
   "metadata": {},
   "outputs": [],
   "source": []
  }
 ],
 "metadata": {
  "kernelspec": {
   "display_name": "Python 3",
   "language": "python",
   "name": "python3"
  },
  "language_info": {
   "codemirror_mode": {
    "name": "ipython",
    "version": 3
   },
   "file_extension": ".py",
   "mimetype": "text/x-python",
   "name": "python",
   "nbconvert_exporter": "python",
   "pygments_lexer": "ipython3",
   "version": "3.7.6"
  }
 },
 "nbformat": 4,
 "nbformat_minor": 4
}
