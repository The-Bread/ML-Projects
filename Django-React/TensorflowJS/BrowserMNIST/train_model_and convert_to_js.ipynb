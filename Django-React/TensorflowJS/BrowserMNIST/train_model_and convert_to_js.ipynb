{
 "cells": [
  {
   "cell_type": "code",
   "execution_count": 2,
   "metadata": {},
   "outputs": [],
   "source": [
    "import tensorflow as tf\n",
    "import tensorflowjs as tfjs\n",
    "from tensorflow.keras.models import Sequential\n",
    "from tensorflow.keras import layers as ly\n",
    "from tensorflow.keras import datasets"
   ]
  },
  {
   "cell_type": "code",
   "execution_count": 11,
   "metadata": {},
   "outputs": [],
   "source": [
    "from tensorflow.keras import utils\n",
    "\n",
    "(X_train, Y_train), (X_test, Y_test) = datasets.mnist.load_data()\n",
    "\n",
    "X_train = X_train.reshape([-1, 28, 28, 1])\n",
    "X_test = X_test.reshape([-1, 28, 28, 1])\n",
    "\n",
    "X_train = X_train / 255\n",
    "X_test = X_test / 255\n",
    "\n",
    "Y_train = utils.to_categorical(Y_train)\n",
    "Y_test = utils.to_categorical(Y_test)"
   ]
  },
  {
   "cell_type": "code",
   "execution_count": 12,
   "metadata": {},
   "outputs": [],
   "source": [
    "model = Sequential([\n",
    "    ly.Conv2D(32, (5,5), padding=\"same\", input_shape=[28, 28, 1]),\n",
    "    ly.MaxPool2D((2,2)),\n",
    "    ly.Conv2D(64, (5, 5), padding=\"same\"),\n",
    "    ly.MaxPool2D((2,2)),\n",
    "    ly.Flatten(),\n",
    "    ly.Dense(1024, activation=\"relu\"),\n",
    "    ly.Dropout(0.2),\n",
    "    ly.Dense(10, activation=\"softmax\")\n",
    "])\n",
    "\n",
    "model.compile(loss=\"categorical_crossentropy\", optimizer=\"adam\", metrics=[\"accuracy\"])"
   ]
  },
  {
   "cell_type": "code",
   "execution_count": 13,
   "metadata": {},
   "outputs": [
    {
     "name": "stdout",
     "output_type": "stream",
     "text": [
      "Epoch 1/10\n",
      "1875/1875 [==============================] - 15s 8ms/step - loss: 0.1196 - accuracy: 0.9631 - val_loss: 0.0508 - val_accuracy: 0.9832\n",
      "Epoch 2/10\n",
      "1875/1875 [==============================] - 13s 7ms/step - loss: 0.0544 - accuracy: 0.9839 - val_loss: 0.0489 - val_accuracy: 0.9852\n",
      "Epoch 3/10\n",
      "1875/1875 [==============================] - 13s 7ms/step - loss: 0.0467 - accuracy: 0.9869 - val_loss: 0.0451 - val_accuracy: 0.9879\n",
      "Epoch 4/10\n",
      "1875/1875 [==============================] - 13s 7ms/step - loss: 0.0377 - accuracy: 0.9892 - val_loss: 0.0516 - val_accuracy: 0.9872\n",
      "Epoch 5/10\n",
      "1875/1875 [==============================] - 16s 9ms/step - loss: 0.0377 - accuracy: 0.9901 - val_loss: 0.0597 - val_accuracy: 0.9878\n",
      "Epoch 6/10\n",
      "1875/1875 [==============================] - 21s 11ms/step - loss: 0.0325 - accuracy: 0.9916 - val_loss: 0.0886 - val_accuracy: 0.9857\n",
      "Epoch 7/10\n",
      "1875/1875 [==============================] - 14s 7ms/step - loss: 0.0309 - accuracy: 0.9922 - val_loss: 0.0700 - val_accuracy: 0.9877\n",
      "Epoch 8/10\n",
      "1875/1875 [==============================] - 14s 7ms/step - loss: 0.0358 - accuracy: 0.9926 - val_loss: 0.0703 - val_accuracy: 0.9871\n",
      "Epoch 9/10\n",
      "1875/1875 [==============================] - 13s 7ms/step - loss: 0.0340 - accuracy: 0.9933 - val_loss: 0.1027 - val_accuracy: 0.9847\n",
      "Epoch 10/10\n",
      "1875/1875 [==============================] - 13s 7ms/step - loss: 0.0359 - accuracy: 0.9934 - val_loss: 0.0978 - val_accuracy: 0.9892\n"
     ]
    }
   ],
   "source": [
    "his = model.fit(X_train, Y_train, validation_data=(X_test, Y_test), epochs=10)"
   ]
  },
  {
   "cell_type": "code",
   "execution_count": 14,
   "metadata": {},
   "outputs": [
    {
     "name": "stderr",
     "output_type": "stream",
     "text": [
      "No handles with labels found to put in legend.\n"
     ]
    },
    {
     "data": {
      "image/png": "[encoded data removed]",
      "text/plain": [
       "<Figure size 432x288 with 1 Axes>"
      ]
     },
     "metadata": {
      "needs_background": "light"
     },
     "output_type": "display_data"
    }
   ],
   "source": [
    "import matplotlib.pyplot as plt\n",
    "\n",
    "plt.plot(his.history[\"accuracy\"])\n",
    "plt.plot(his.history[\"loss\"])\n",
    "plt.legend()\n",
    "plt.show()"
   ]
  },
  {
   "cell_type": "code",
   "execution_count": 15,
   "metadata": {},
   "outputs": [
    {
     "name": "stdout",
     "output_type": "stream",
     "text": [
      "313/313 [==============================] - 1s 4ms/step - loss: 0.0978 - accuracy: 0.9892\n"
     ]
    }
   ],
   "source": [
    "lest_loss, test_acc = model.evaluate(X_test, Y_test)"
   ]
  },
  {
   "cell_type": "code",
   "execution_count": 16,
   "metadata": {},
   "outputs": [
    {
     "data": {
      "text/plain": [
       "0.9891999959945679"
      ]
     },
     "execution_count": 16,
     "metadata": {},
     "output_type": "execute_result"
    }
   ],
   "source": [
    "test_acc"
   ]
  },
  {
   "cell_type": "code",
   "execution_count": 17,
   "metadata": {},
   "outputs": [
    {
     "name": "stderr",
     "output_type": "stream",
     "text": [
      "R:\\Work\\Anacond\\lib\\site-packages\\tensorflowjs\\converters\\keras_h5_conversion.py:123: H5pyDeprecationWarning: The default file mode will change to 'r' (read-only) in h5py 3.0. To suppress this warning, pass the mode you need to h5py.File(), or set the global default h5.get_config().default_file_mode, or set the environment variable H5PY_DEFAULT_READONLY=1. Available modes are: 'r', 'r+', 'w', 'w-'/'x', 'a'. See the docs for details.\n",
      "  return h5py.File(h5file)\n"
     ]
    }
   ],
   "source": [
    "tfjs.converters.save_keras_model(model, \"models\")"
   ]
  },
  {
   "cell_type": "code",
   "execution_count": null,
   "metadata": {},
   "outputs": [],
   "source": []
  }
 ],
 "metadata": {
  "kernelspec": {
   "display_name": "Python 3",
   "language": "python",
   "name": "python3"
  }
 },
 "nbformat": 4,
 "nbformat_minor": 4
}
