{
 "cells": [
  {
   "cell_type": "code",
   "execution_count": 110,
   "metadata": {},
   "outputs": [],
   "source": [
    "import cv2\n",
    "import numpy as np\n",
    "np.random.seed(2020)\n",
    "\n",
    "SIZE = 9"
   ]
  },
  {
   "cell_type": "code",
   "execution_count": 111,
   "metadata": {},
   "outputs": [],
   "source": [
    "vertical = cv2.imread(\"images/vertical.png\", 0)\n",
    "horizontal = cv2.imread(\"images/horizontal.png\", 0)\n",
    "\n",
    "vertical = cv2.resize(vertical, (SIZE, SIZE))\n",
    "horizontal = cv2.resize(horizontal, (SIZE, SIZE))"
   ]
  },
  {
   "cell_type": "code",
   "execution_count": 112,
   "metadata": {},
   "outputs": [],
   "source": [
    "vertical = vertical / 255\n",
    "horizontal = horizontal / 255"
   ]
  },
  {
   "cell_type": "code",
   "execution_count": 113,
   "metadata": {},
   "outputs": [],
   "source": [
    "con_filter = np.random.random((SIZE*SIZE, 1))\n",
    "con_filter = [1 if i[0] > .5 else -1 for i in con_filter ]"
   ]
  },
  {
   "cell_type": "code",
   "execution_count": 114,
   "metadata": {},
   "outputs": [],
   "source": [
    "result1 = sum(vertical.flatten() * con_filter)\n",
    "result2 = sum(horizontal.flatten() * con_filter)"
   ]
  },
  {
   "cell_type": "code",
   "execution_count": 115,
   "metadata": {},
   "outputs": [
    {
     "data": {
      "text/plain": [
       "(5.0, -1.0)"
      ]
     },
     "execution_count": 115,
     "metadata": {},
     "output_type": "execute_result"
    }
   ],
   "source": [
    "result1, result2"
   ]
  },
  {
   "cell_type": "code",
   "execution_count": 117,
   "metadata": {},
   "outputs": [
    {
     "name": "stdout",
     "output_type": "stream",
     "text": [
      "Vertical\n"
     ]
    }
   ],
   "source": [
    "if result1 == 5.:\n",
    "    print(\"Vertical\")\n",
    "else:\n",
    "    print(\"Horizontal\")"
   ]
  },
  {
   "cell_type": "code",
   "execution_count": 127,
   "metadata": {},
   "outputs": [],
   "source": [
    "def classify_image(img):\n",
    "    img = cv2.resize(img, (SIZE, SIZE))\n",
    "    img = img / 255\n",
    "    \n",
    "    img_flattened = img.flatten()\n",
    "    \n",
    "    con_filter = np.random.random((img_flattened.shape[0], 1))\n",
    "    con_filter = [1 if i[0] > .5 else -1 for i in con_filter ]\n",
    "    \n",
    "    convolution = img_flattened * con_filter\n",
    "    \n",
    "    sum_convolution = sum(convolution)\n",
    "    \n",
    "    if sum_convolution > -5:\n",
    "        print(\"Vertical\",sum_convolution)\n",
    "    else:\n",
    "        print(\"Horizontal\",sum_convolution)"
   ]
  },
  {
   "cell_type": "code",
   "execution_count": 128,
   "metadata": {},
   "outputs": [
    {
     "name": "stdout",
     "output_type": "stream",
     "text": [
      "Vertical -1.0\n"
     ]
    }
   ],
   "source": [
    "test1 = cv2.imread(\"images/left_vertical.png\", 0)\n",
    "classify_image(test1)"
   ]
  },
  {
   "cell_type": "code",
   "execution_count": 133,
   "metadata": {},
   "outputs": [
    {
     "name": "stdout",
     "output_type": "stream",
     "text": [
      "Horizontal -7.0\n"
     ]
    }
   ],
   "source": [
    "test2 = cv2.imread(\"images/down_horizontal.png\", 0)\n",
    "classify_image(test2)"
   ]
  },
  {
   "cell_type": "code",
   "execution_count": null,
   "metadata": {},
   "outputs": [],
   "source": []
  }
 ],
 "metadata": {
  "kernelspec": {
   "display_name": "Python 3",
   "language": "python",
   "name": "python3"
  },
  "language_info": {
   "codemirror_mode": {
    "name": "ipython",
    "version": 3
   },
   "file_extension": ".py",
   "mimetype": "text/x-python",
   "name": "python",
   "nbconvert_exporter": "python",
   "pygments_lexer": "ipython3",
   "version": "3.7.6"
  }
 },
 "nbformat": 4,
 "nbformat_minor": 4
}
