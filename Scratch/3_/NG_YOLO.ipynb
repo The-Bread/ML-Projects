{
  "nbformat": 4,
  "nbformat_minor": 0,
  "metadata": {
    "kernelspec": {
      "display_name": "Python 3",
      "language": "python",
      "name": "python3"
    },
    "language_info": {
      "codemirror_mode": {
        "name": "ipython",
        "version": 3
      },
      "file_extension": ".py",
      "mimetype": "text/x-python",
      "name": "python",
      "nbconvert_exporter": "python",
      "pygments_lexer": "ipython3",
      "version": "3.7.6"
    },
    "colab": {
      "name": "NG_YOLO.ipynb",
      "provenance": [],
      "collapsed_sections": []
    },
    "accelerator": "GPU"
  },
  "cells": [
    {
      "cell_type": "code",
      "metadata": {
        "id": "a5QrNvnPYgJE"
      },
      "source": [
        "# ! pip install keras==2.0.7\r\n",
        "# ! pip install tensorflow==1.2.1"
      ],
      "execution_count": 10,
      "outputs": []
    },
    {
      "cell_type": "code",
      "metadata": {
        "id": "bAqSAfuAXnSX"
      },
      "source": [
        "import os\n",
        "import matplotlib.pyplot as plt\n",
        "import scipy.io\n",
        "import scipy.misc\n",
        "import numpy as np\n",
        "import pandas as pd\n",
        "import PIL\n",
        "import tensorflow as tf\n",
        "from keras import backend as K\n",
        "import keras.layers as ly\n",
        "from keras.models import Model, load_model\n",
        "import colorsys\n",
        "import imghdr\n",
        "import random"
      ],
      "execution_count": 46,
      "outputs": []
    },
    {
      "cell_type": "code",
      "metadata": {
        "id": "0Ov3xu_BXnSf"
      },
      "source": [
        "def yolo_filter_boxes(box_conf, boxes, box_class_probs, threshold = 0.6):\n",
        "    box_scores = np.multiply(box_conf, box_class_probs)\n",
        "    box_classes = K.argmax(box_scores, axis=-1)\n",
        "    box_class_scores = K.max(box_scores, axis=-1)\n",
        "    \n",
        "    filtering_mask = box_class_scores >= threshold\n",
        "    \n",
        "    scores = tf.boolean_mask(box_class_scores, filtering_mask)\n",
        "    boxes = tf.boolean_mask(boxes, filtering_mask)\n",
        "    classes = tf.boolean_mask(box_classes, filtering_mask)\n",
        "    \n",
        "    return scores, boxes, classes"
      ],
      "execution_count": 6,
      "outputs": []
    },
    {
      "cell_type": "code",
      "metadata": {
        "colab": {
          "base_uri": "https://localhost:8080/"
        },
        "id": "ylYkY0kiXnSg",
        "outputId": "71425cf8-e0a0-46bb-c570-c23d8fd4f906"
      },
      "source": [
        "with tf.Session() as test_a:\n",
        "    box_conf = tf.random_normal([19, 19, 5, 1], mean=1, stddev=4)\n",
        "    boxes = tf.random_normal([19, 19, 5, 4], mean=1, stddev=4)\n",
        "    box_class_probs = tf.random_normal([19, 19, 5, 80], mean=1, stddev=4)\n",
        "    scores, boxes, classes = yolo_filter_boxes(box_conf, boxes, box_class_probs, threshold=0.5)\n",
        "    print(\"scores[2] = \" + str(scores[2].eval()))\n",
        "    print(\"boxes[2] = \" + str(boxes[2].eval()))\n",
        "    print(\"classes[2] = \" + str(classes[2].eval()))\n",
        "    print(\"scores.shape = \" + str(scores.shape))\n",
        "    print(\"boxes.shape = \" + str(boxes.shape))\n",
        "    print(\"classes.shape = \" + str(classes.shape))"
      ],
      "execution_count": 7,
      "outputs": [
        {
          "output_type": "stream",
          "text": [
            "scores[2] = 59.888718\n",
            "boxes[2] = [ 6.191773  -1.8889081  2.7372346  3.96097  ]\n",
            "classes[2] = 7\n",
            "scores.shape = (?,)\n",
            "boxes.shape = (?, 4)\n",
            "classes.shape = (?,)\n"
          ],
          "name": "stdout"
        }
      ]
    },
    {
      "cell_type": "code",
      "metadata": {
        "id": "mRD-94EIXnSi"
      },
      "source": [
        "def iou(box1, box2):\n",
        "    (box1_x1, box1_y1, box1_x2, box1_y2) = box1\n",
        "    (box2_x1, box2_y1, box2_x2, box2_y2) = box2\n",
        "    \n",
        "    xi1 = max(box1[0], box2[0])\n",
        "    yi1 = max(box1[1], box2[1])\n",
        "    xi2 = max(box1[2], box2[2])\n",
        "    yi2 = max(box1[3], box2[3])\n",
        "    inter_width = max(xi2 - xi1, 0)\n",
        "    inter_height = max(yi2 - yi1, 0)\n",
        "    inter_area = inter_width * inter_height\n",
        "    \n",
        "    box1_area = (box1[2] - box1[0]) * (box1[3] - box1[1])\n",
        "    box2_area = (box2[2] - box2[0]) * (box2[3] - box2[1])    \n",
        "    union_area = box1_area + box2_area - inter_area\n",
        "    \n",
        "    iou = inter_area / union_area\n",
        "    \n",
        "    return iou"
      ],
      "execution_count": 8,
      "outputs": []
    },
    {
      "cell_type": "code",
      "metadata": {
        "colab": {
          "base_uri": "https://localhost:8080/"
        },
        "id": "Cqy3rYgQXnSi",
        "outputId": "c2104d38-03e9-49da-fce5-1549ab90a4d3"
      },
      "source": [
        "box1 = (2, 1, 4, 3)\n",
        "box2 = (1, 2, 3, 4) \n",
        "print(\"iou for intersecting boxes = \" + str(iou(box1, box2)))\n",
        "\n",
        "box1 = (1,1,3,3)\n",
        "box2 = (2,3,3,4)\n",
        "print(\"iou for boxes that only touch at edges = \" + str(iou(box1,box2)))"
      ],
      "execution_count": 9,
      "outputs": [
        {
          "output_type": "stream",
          "text": [
            "iou for intersecting boxes = 1.0\n",
            "iou for boxes that only touch at edges = 0.25\n"
          ],
          "name": "stdout"
        }
      ]
    },
    {
      "cell_type": "code",
      "metadata": {
        "id": "w8JqY5BBabun"
      },
      "source": [
        "def yolo_boxes_to_corners(box_xy, box_wh):\r\n",
        "    box_mins = box_xy - (box_wh / 2.)\r\n",
        "    box_maxes = box_xy + (box_wh / 2.)\r\n",
        "\r\n",
        "    return K.concatenate([\r\n",
        "        box_mins[..., 1:2],  # y_min\r\n",
        "        box_mins[..., 0:1],  # x_min\r\n",
        "        box_maxes[..., 1:2],  # y_max\r\n",
        "        box_maxes[..., 0:1]  # x_max\r\n",
        "    ])"
      ],
      "execution_count": 16,
      "outputs": []
    },
    {
      "cell_type": "code",
      "metadata": {
        "id": "4lZF6cY1XnSj"
      },
      "source": [
        "def yolo_non_max_suppression(scores, boxes, classes, max_boxes=10, iou_threshold=0.5):\n",
        "    max_boxes_tensor = K.variable(max_boxes, dtype=\"int32\")\n",
        "    K.get_session().run(tf.variables_initializer([max_boxes_tensor]))\n",
        "    \n",
        "    nms_indices = tf.image.non_max_suppression(boxes, scores, max_boxes_tensor, iou_threshold)\n",
        "    \n",
        "    scores = K.gather(scores, nms_indices)\n",
        "    boxes = K.gather(boxes, nms_indices)\n",
        "    classes = K.gather(classes, nms_indices)\n",
        "    \n",
        "    return scores, boxes, classes"
      ],
      "execution_count": 17,
      "outputs": []
    },
    {
      "cell_type": "code",
      "metadata": {
        "colab": {
          "base_uri": "https://localhost:8080/"
        },
        "id": "AxEvFxuBXnSj",
        "outputId": "efac17a1-1cd4-4246-8fc2-998a0f26090c"
      },
      "source": [
        "with tf.Session() as test_b:\n",
        "    scores = tf.random_normal([54,], mean=1, stddev=4)\n",
        "    boxes = tf.random_normal([54, 4], mean=1, stddev=4)    \n",
        "    classes = tf.random_normal([54,], mean=1, stddev=4)   \n",
        "    scores, boxes, classes = yolo_non_max_suppression(scores, boxes, classes)\n",
        "    print(\"scores[2] = \" + str(scores[2].eval()))\n",
        "    print(\"boxes[2] = \" + str(boxes[2].eval()))\n",
        "    print(\"classes[2] = \" + str(classes[2].eval()))\n",
        "    print(\"scores.shape = \" + str(scores.eval().shape))\n",
        "    print(\"boxes.shape = \" + str(boxes.eval().shape))\n",
        "    print('classes.shape = ' + str(classes.eval().shape))"
      ],
      "execution_count": 18,
      "outputs": [
        {
          "output_type": "stream",
          "text": [
            "scores[2] = 8.5403595\n",
            "boxes[2] = [6.99681   1.8585151 4.0391297 9.1974   ]\n",
            "classes[2] = -0.42663074\n",
            "scores.shape = (10,)\n",
            "boxes.shape = (10, 4)\n",
            "classes.shape = (10,)\n"
          ],
          "name": "stdout"
        }
      ]
    },
    {
      "cell_type": "code",
      "metadata": {
        "id": "FCkdY1fiax7M"
      },
      "source": [
        "def scale_boxes(boxes, img_shape):\r\n",
        "  height = img_shape[0]\r\n",
        "  width = img_shape[1]\r\n",
        "  img_dims = K.stack([height, width, height, width])\r\n",
        "  img_dims = K.reshape(img_dims, [1, 4])\r\n",
        "  boxes = boxes * img_dims\r\n",
        "  return boxes"
      ],
      "execution_count": 26,
      "outputs": []
    },
    {
      "cell_type": "code",
      "metadata": {
        "id": "SN61Hoo1XnSk"
      },
      "source": [
        "def yolo_eval(yolo_outputs, image_shape=(720., 1280.), max_boxes=10, scores_threshold=0.6,\n",
        "             iou_threshold=0.5):\n",
        "    box_conf, box_xy, box_wh, box_class_probs = yolo_outputs\n",
        "    \n",
        "    boxes = yolo_boxes_to_corners(box_xy, box_wh)\n",
        "    \n",
        "    scores, boxes, classes = yolo_filter_boxes(box_conf, boxes, box_class_probs, scores_threshold)\n",
        "    \n",
        "    boxes = scale_boxes(boxes, image_shape)\n",
        "    \n",
        "    scores, boxes, classes = yolo_non_max_suppression(scores, boxes, classes, max_boxes=max_boxes,\n",
        "                                                    iou_threshold=iou_threshold)\n",
        "    return scores, boxes, classes"
      ],
      "execution_count": 35,
      "outputs": []
    },
    {
      "cell_type": "code",
      "metadata": {
        "colab": {
          "base_uri": "https://localhost:8080/"
        },
        "id": "KpXHDQ3gXnSk",
        "outputId": "75ed45f3-a8e9-4c90-d498-f23948f94463"
      },
      "source": [
        "with tf.Session() as test_b:\n",
        "    yolo_outputs = (tf.random_normal([19, 19, 5, 1], mean=1, stddev=4),\n",
        "                    tf.random_normal([19, 19, 5, 2], mean=1, stddev=4),\n",
        "                    tf.random_normal([19, 19, 5, 2], mean=1, stddev=4),\n",
        "                    tf.random_normal([19, 19, 5, 80], mean=1, stddev=4))\n",
        "    scores, boxes, classes = yolo_eval(yolo_outputs)\n",
        "    print(\"scores[2] = \" + str(scores[2].eval()))\n",
        "    print(\"boxes[2] = \" + str(boxes[2].eval()))\n",
        "    print(\"classes[2] = \" + str(classes[2].eval()))\n",
        "    print(\"scores.shape = \" + str(scores.eval().shape))\n",
        "    print(\"boxes.shape = \" + str(boxes.eval().shape))\n",
        "    print(\"classes.shape = \" + str(classes.eval().shape))"
      ],
      "execution_count": 36,
      "outputs": [
        {
          "output_type": "stream",
          "text": [
            "scores[2] = 152.44345\n",
            "boxes[2] = [ -260.47098  7199.534    1308.687   12129.585  ]\n",
            "classes[2] = 3\n",
            "scores.shape = (10,)\n",
            "boxes.shape = (10, 4)\n",
            "classes.shape = (10,)\n"
          ],
          "name": "stdout"
        }
      ]
    },
    {
      "cell_type": "code",
      "metadata": {
        "id": "ptT7OtDyXnSl"
      },
      "source": [
        "sess = K.get_session()"
      ],
      "execution_count": 37,
      "outputs": []
    },
    {
      "cell_type": "code",
      "metadata": {
        "id": "qCW40fVdXnSl"
      },
      "source": [
        "def read_classes():\n",
        "    with open(\"/content/coco_classes.txt\") as f:\n",
        "      class_names = f.readlines()\n",
        "    class_names = [c.strip() for c in class_names]\n",
        "    return class_names"
      ],
      "execution_count": 38,
      "outputs": []
    },
    {
      "cell_type": "code",
      "metadata": {
        "id": "mUbx2-ZqcSP4"
      },
      "source": [
        "def read_anchors():\r\n",
        "  with open(\"/content/yolo_anchors.txt\") as f:\r\n",
        "    anchors = f.readline()\r\n",
        "    anchors = [float(x) for x in anchors.split(\",\")]\r\n",
        "    anchors = np.array(anchors).reshape(-1, 2)\r\n",
        "  return anchors"
      ],
      "execution_count": 39,
      "outputs": []
    },
    {
      "cell_type": "code",
      "metadata": {
        "id": "8WKYDalocjI7"
      },
      "source": [
        "class_names = read_classes()\r\n",
        "anchors = read_anchors()\r\n",
        "image_shape = (720., 1280.)"
      ],
      "execution_count": 41,
      "outputs": []
    },
    {
      "cell_type": "code",
      "metadata": {
        "id": "eqBvu8aWcugU"
      },
      "source": [
        "yolo_model = load_model(\"data/yolo.h5\")"
      ],
      "execution_count": null,
      "outputs": []
    },
    {
      "cell_type": "code",
      "metadata": {
        "id": "IUaEKIk1hDPG"
      },
      "source": [
        "yolo_model.summary()"
      ],
      "execution_count": null,
      "outputs": []
    },
    {
      "cell_type": "code",
      "metadata": {
        "id": "0nhp8dSRg3CP"
      },
      "source": [
        "yolo_outputs = yolo_head(yolo_model.output, anchors len(class_names))"
      ],
      "execution_count": null,
      "outputs": []
    },
    {
      "cell_type": "code",
      "metadata": {
        "id": "Y3P9CSapg89-"
      },
      "source": [
        "scores, boxes, classes = yolo_eval(yolo_outputs, img_shape)"
      ],
      "execution_count": null,
      "outputs": []
    },
    {
      "cell_type": "code",
      "metadata": {
        "id": "OGY6HEAPhK59"
      },
      "source": [
        "def generate_colors(class_names):\r\n",
        "    hsv_tuples = [(x / len(class_names), 1., 1.) for x in range(len(class_names))]\r\n",
        "    colors = list(map(lambda x: colorsys.hsv_to_rgb(*x), hsv_tuples))\r\n",
        "    colors = list(map(lambda x: (int(x[0] * 255), int(x[1] * 255), int(x[2] * 255)), colors))\r\n",
        "    random.shuffle(colors)\r\n",
        "    return colors"
      ],
      "execution_count": 43,
      "outputs": []
    },
    {
      "cell_type": "code",
      "metadata": {
        "id": "sVmxijLHhVid"
      },
      "source": [
        "def preprocess_img(img_path, model_img_size):\r\n",
        "  img_type = imghdr.what(img_path)\r\n",
        "  img = Image.open(img_path)\r\n",
        "  resized_img = img.resize(tuple(reversed(model_img_size)), img.BICUBIC)\r\n",
        "  img_data = np.array(resized_img, dtype=\"float32\")\r\n",
        "  img_data = img_data / 255.\r\n",
        "  img_data = np.expand_dims(img_data, 0)\r\n",
        "  return img, img_data"
      ],
      "execution_count": 44,
      "outputs": []
    },
    {
      "cell_type": "code",
      "metadata": {
        "id": "4VccRHcmh9MC"
      },
      "source": [
        "def draw_boxes(image, out_scores, out_boxes, out_classes, class_names, colors):\r\n",
        "    \r\n",
        "    font = ImageFont.truetype(font='font/FiraMono-Medium.otf', size=np.floor(3e-2 * image.size[1] + 0.5).astype('int32'))\r\n",
        "    thickness = (image.size[0] + image.size[1]) // 300\r\n",
        "\r\n",
        "    for i, c in reversed(list(enumerate(out_classes))):\r\n",
        "        predicted_class = class_names[c]\r\n",
        "        box = out_boxes[i]\r\n",
        "        score = out_scores[i]\r\n",
        "\r\n",
        "        label = '{} {:.2f}'.format(predicted_class, score)\r\n",
        "\r\n",
        "        draw = ImageDraw.Draw(image)\r\n",
        "        label_size = draw.textsize(label, font)\r\n",
        "\r\n",
        "        top, left, bottom, right = box\r\n",
        "        top = max(0, np.floor(top + 0.5).astype('int32'))\r\n",
        "        left = max(0, np.floor(left + 0.5).astype('int32'))\r\n",
        "        bottom = min(image.size[1], np.floor(bottom + 0.5).astype('int32'))\r\n",
        "        right = min(image.size[0], np.floor(right + 0.5).astype('int32'))\r\n",
        "        print(label, (left, top), (right, bottom))\r\n",
        "\r\n",
        "        if top - label_size[1] >= 0:\r\n",
        "            text_origin = np.array([left, top - label_size[1]])\r\n",
        "        else:\r\n",
        "            text_origin = np.array([left, top + 1])\r\n",
        "\r\n",
        "        # My kingdom for a good redistributable image drawing library.\r\n",
        "        for i in range(thickness):\r\n",
        "            draw.rectangle([left + i, top + i, right - i, bottom - i], outline=colors[c])\r\n",
        "        draw.rectangle([tuple(text_origin), tuple(text_origin + label_size)], fill=colors[c])\r\n",
        "        draw.text(text_origin, label, fill=(0, 0, 0), font=font)\r\n",
        "        del draw"
      ],
      "execution_count": 45,
      "outputs": []
    },
    {
      "cell_type": "code",
      "metadata": {
        "id": "DhJT9u0kfod6"
      },
      "source": [
        "def predict(sess, img_file):\r\n",
        "  img, img_data = preprocess_img(\"images_yolo/\"+ img_file, model_img_size=(608, 608))\r\n",
        "  out_scores, out_boxes, out_classes = sess.run(yolo_eval(yolo_outputs, img_shape),\r\n",
        "                                                feed_dict={yolo_model.input: img_data, K.learning_phase(): 0})\r\n",
        "  print(\"Found {} boxes for {}\".format(len(out_boxes), img_file))\r\n",
        "  colors = generate_colors(class_names)\r\n",
        "  draw_boxes(img, out_scores, out_boxes, out_classes, class_names, colors)\r\n",
        "  img.save(osath.join(\"out\", img_file), quality=90)\r\n",
        "  output_img = scipy.misc.imread(op.path.join(\"out\", img_file))\r\n",
        "  plt.imshow(output_img)\r\n",
        "\r\n",
        "  return out_scores, out_boxes, out_classes"
      ],
      "execution_count": 42,
      "outputs": []
    },
    {
      "cell_type": "code",
      "metadata": {
        "id": "wmZC9Qe6gsLW"
      },
      "source": [
        "out_scores, out_boxes, out_lasses = predict(sess ,\"test.jpg\")"
      ],
      "execution_count": null,
      "outputs": []
    }
  ]
}