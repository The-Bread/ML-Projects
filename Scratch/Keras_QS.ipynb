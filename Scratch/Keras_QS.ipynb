{
 "cells": [
  {
   "cell_type": "code",
   "execution_count": 11,
   "metadata": {},
   "outputs": [],
   "source": [
    "import numpy as np\n",
    "from keras import layers as ly\n",
    "from keras.preprocessing import image\n",
    "from keras.utils import layer_utils\n",
    "from keras.utils.data_utils import get_file\n",
    "from keras.applications.imagenet_utils import preprocess_input\n",
    "import pydot\n",
    "from IPython.display import SVG\n",
    "from keras.utils.vis_utils import model_to_dot\n",
    "import keras.backend as K\n",
    "import matplotlib.pyplot as plt\n",
    "from handle_data import *\n",
    "from keras.models import Model"
   ]
  },
  {
   "cell_type": "code",
   "execution_count": 25,
   "metadata": {},
   "outputs": [],
   "source": [
    "X_train, Y_train, X_test, Y_test, classes = load_data(\"happy\")\n",
    "\n",
    "X_train = X_train / 255\n",
    "X_test = X_test / 255\n",
    "\n",
    "Y_train = Y_train.T\n",
    "Y_test = Y_test.T"
   ]
  },
  {
   "cell_type": "code",
   "execution_count": 26,
   "metadata": {},
   "outputs": [],
   "source": [
    "def model(input_shape):\n",
    "    X_inputs = ly.Input(input_shape)\n",
    "    \n",
    "    x = ly.ZeroPadding2D((3, 3))(X_inputs)\n",
    "    x = ly.Conv2D(32, (7, 7), strides=(1, 1), name=\"conv0\")(x)\n",
    "    x = ly.BatchNormalization(axis=3, name=\"bn0\")(x)\n",
    "    x = ly.Activation(\"relu\")(x)\n",
    "    x = ly.MaxPooling2D((2, 2), name=\"max_pool\")(x)\n",
    "    \n",
    "    x = ly.Flatten()(x)\n",
    "    x = ly.Dense(1, activation=\"sigmoid\", name=\"fc\")(x)\n",
    "    \n",
    "    model = Model(inputs=X_inputs, outputs=x)\n",
    "    \n",
    "    return model"
   ]
  },
  {
   "cell_type": "code",
   "execution_count": 27,
   "metadata": {},
   "outputs": [],
   "source": [
    "hmodel = model(X_train.shape[1:])"
   ]
  },
  {
   "cell_type": "code",
   "execution_count": 28,
   "metadata": {},
   "outputs": [],
   "source": [
    "hmodel.compile(optimizer=\"adam\", loss=\"binary_crossentropy\", metrics=[\"accuracy\"])"
   ]
  },
  {
   "cell_type": "code",
   "execution_count": 29,
   "metadata": {},
   "outputs": [
    {
     "name": "stdout",
     "output_type": "stream",
     "text": [
      "Epoch 1/10\n",
      "19/19 [==============================] - 0s 21ms/step - loss: 2.3694 - accuracy: 0.6050\n",
      "Epoch 2/10\n",
      "19/19 [==============================] - 0s 12ms/step - loss: 0.4038 - accuracy: 0.8217\n",
      "Epoch 3/10\n",
      "19/19 [==============================] - 0s 11ms/step - loss: 0.1887 - accuracy: 0.9233\n",
      "Epoch 4/10\n",
      "19/19 [==============================] - 0s 11ms/step - loss: 0.2000 - accuracy: 0.9233\n",
      "Epoch 5/10\n",
      "19/19 [==============================] - 0s 12ms/step - loss: 0.1413 - accuracy: 0.9483\n",
      "Epoch 6/10\n",
      "19/19 [==============================] - 0s 12ms/step - loss: 0.1033 - accuracy: 0.9633\n",
      "Epoch 7/10\n",
      "19/19 [==============================] - 0s 11ms/step - loss: 0.0812 - accuracy: 0.9717\n",
      "Epoch 8/10\n",
      "19/19 [==============================] - 0s 11ms/step - loss: 0.0751 - accuracy: 0.9800\n",
      "Epoch 9/10\n",
      "19/19 [==============================] - 0s 11ms/step - loss: 0.0558 - accuracy: 0.9850\n",
      "Epoch 10/10\n",
      "19/19 [==============================] - 0s 11ms/step - loss: 0.0603 - accuracy: 0.9833\n"
     ]
    },
    {
     "data": {
      "text/plain": [
       "<tensorflow.python.keras.callbacks.History at 0x1d103927e08>"
      ]
     },
     "execution_count": 29,
     "metadata": {},
     "output_type": "execute_result"
    }
   ],
   "source": [
    "hmodel.fit(x=X_train, y=Y_train, epochs=10, batch_size=32)"
   ]
  },
  {
   "cell_type": "code",
   "execution_count": 31,
   "metadata": {},
   "outputs": [
    {
     "name": "stdout",
     "output_type": "stream",
     "text": [
      "5/5 [==============================] - 0s 15ms/step - loss: 0.2678 - accuracy: 0.9667\n",
      "\n",
      "Loss = 0.26776671409606934\n",
      "Test Accuracy = 0.9666666388511658\n"
     ]
    }
   ],
   "source": [
    "preds = hmodel.evaluate(x=X_test, y=Y_test)\n",
    "print()\n",
    "print (\"Loss = \" + str(preds[0]))\n",
    "print (\"Test Accuracy = \" + str(preds[1]))"
   ]
  },
  {
   "cell_type": "code",
   "execution_count": 33,
   "metadata": {},
   "outputs": [
    {
     "name": "stdout",
     "output_type": "stream",
     "text": [
      "Model: \"functional_3\"\n",
      "_________________________________________________________________\n",
      "Layer (type)                 Output Shape              Param #   \n",
      "=================================================================\n",
      "input_8 (InputLayer)         [(None, 64, 64, 3)]       0         \n",
      "_________________________________________________________________\n",
      "zero_padding2d_7 (ZeroPaddin (None, 70, 70, 3)         0         \n",
      "_________________________________________________________________\n",
      "conv0 (Conv2D)               (None, 64, 64, 32)        4736      \n",
      "_________________________________________________________________\n",
      "bn0 (BatchNormalization)     (None, 64, 64, 32)        128       \n",
      "_________________________________________________________________\n",
      "activation_4 (Activation)    (None, 64, 64, 32)        0         \n",
      "_________________________________________________________________\n",
      "max_pool (MaxPooling2D)      (None, 32, 32, 32)        0         \n",
      "_________________________________________________________________\n",
      "flatten_4 (Flatten)          (None, 32768)             0         \n",
      "_________________________________________________________________\n",
      "fc (Dense)                   (None, 1)                 32769     \n",
      "=================================================================\n",
      "Total params: 37,633\n",
      "Trainable params: 37,569\n",
      "Non-trainable params: 64\n",
      "_________________________________________________________________\n"
     ]
    }
   ],
   "source": [
    "hmodel.summary()"
   ]
  },
  {
   "cell_type": "code",
   "execution_count": 38,
   "metadata": {},
   "outputs": [],
   "source": [
    "from keras.utils import plot_model\n",
    "\n",
    "# plot_model(hmodel, to_file='HappyModel.png')\n",
    "# SVG(model_to_dot(hmodel).create(prog='dot', format='svg'))"
   ]
  },
  {
   "cell_type": "code",
   "execution_count": null,
   "metadata": {},
   "outputs": [],
   "source": []
  }
 ],
 "metadata": {
  "kernelspec": {
   "display_name": "Python 3",
   "language": "python",
   "name": "python3"
  },
  "language_info": {
   "codemirror_mode": {
    "name": "ipython",
    "version": 3
   },
   "file_extension": ".py",
   "mimetype": "text/x-python",
   "name": "python",
   "nbconvert_exporter": "python",
   "pygments_lexer": "ipython3",
   "version": "3.7.6"
  }
 },
 "nbformat": 4,
 "nbformat_minor": 4
}
