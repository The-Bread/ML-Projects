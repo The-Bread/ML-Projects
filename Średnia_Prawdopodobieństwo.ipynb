{
  "nbformat": 4,
  "nbformat_minor": 0,
  "metadata": {
    "colab": {
      "name": "Średnia-Prawdopodobieństwo.ipynb",
      "provenance": [],
      "collapsed_sections": [],
      "include_colab_link": true
    },
    "kernelspec": {
      "name": "python3",
      "display_name": "Python 3"
    }
  },
  "cells": [
    {
      "cell_type": "markdown",
      "metadata": {
        "id": "view-in-github",
        "colab_type": "text"
      },
      "source": [
        "<a href=\"https://colab.research.google.com/github/tableClothed/ML-Projects/blob/master/%C5%9Arednia_Prawdopodobie%C5%84stwo.ipynb\" target=\"_parent\"><img src=\"https://colab.research.google.com/assets/colab-badge.svg\" alt=\"Open In Colab\"/></a>"
      ]
    },
    {
      "cell_type": "markdown",
      "metadata": {
        "id": "y6A5nfVJEuQX",
        "colab_type": "text"
      },
      "source": [
        "### MEAN - ŚREDNIA ARYTMETYCZNA"
      ]
    },
    {
      "cell_type": "code",
      "metadata": {
        "id": "FnNvUArFEns2",
        "colab_type": "code",
        "outputId": "b296ad0a-f005-4234-b887-b4143cfb8c2c",
        "colab": {
          "base_uri": "https://localhost:8080/",
          "height": 34
        }
      },
      "source": [
        "import numpy as np\n",
        "\n",
        "dochod = np.random.normal(27000, 15000, 100000)\n",
        "# 1 - m - średnia (centrum)\n",
        "# 2 - d - odchylenie - szerokość\n",
        "# 3 - k - (size) jeśli podane to rysuje m * d * k\n",
        "\n",
        "np.mean(dochod)"
      ],
      "execution_count": 1,
      "outputs": [
        {
          "output_type": "execute_result",
          "data": {
            "text/plain": [
              "27020.96681016136"
            ]
          },
          "metadata": {
            "tags": []
          },
          "execution_count": 1
        }
      ]
    },
    {
      "cell_type": "code",
      "metadata": {
        "id": "EQnQxaOdE4B_",
        "colab_type": "code",
        "outputId": "d40af1d8-0f70-43c6-d147-a3e27da8ba3f",
        "colab": {
          "base_uri": "https://localhost:8080/",
          "height": 267
        }
      },
      "source": [
        "import matplotlib.pyplot as plt\n",
        "\n",
        "# Możemy podzielić dane dotyczące dochodów na 50 segmentów (schodków)\n",
        "# i wykreślić je jako histogram\n",
        "\n",
        "plt.hist(dochod, 50)\n",
        "plt.show()"
      ],
      "execution_count": 2,
      "outputs": [
        {
          "output_type": "display_data",
          "data": {
            "image/png": "[encoded data removed]",
            "text/plain": [
              "<Figure size 432x288 with 1 Axes>"
            ]
          },
          "metadata": {
            "tags": []
          }
        }
      ]
    },
    {
      "cell_type": "code",
      "metadata": {
        "id": "w9nUBjhqGbdB",
        "colab_type": "code",
        "outputId": "91aef3ed-ab40-4407-9ba9-13c7b4b6d4ff",
        "colab": {
          "base_uri": "https://localhost:8080/",
          "height": 34
        }
      },
      "source": [
        "np.median(dochod)"
      ],
      "execution_count": 3,
      "outputs": [
        {
          "output_type": "execute_result",
          "data": {
            "text/plain": [
              "27017.322517086453"
            ]
          },
          "metadata": {
            "tags": []
          },
          "execution_count": 3
        }
      ]
    },
    {
      "cell_type": "code",
      "metadata": {
        "id": "YztnbFpNGvnz",
        "colab_type": "code",
        "outputId": "69f5bdc9-c2e8-44b4-9bb1-4535b18ecaed",
        "colab": {
          "base_uri": "https://localhost:8080/",
          "height": 34
        }
      },
      "source": [
        "dochod = np.append(dochod, [100000000])\n",
        "\n",
        "\n",
        "np.median(dochod)\n",
        "# po dodaniu nowej wartosci do dochodu mediana nie bardzo sie zmienia"
      ],
      "execution_count": 4,
      "outputs": [
        {
          "output_type": "execute_result",
          "data": {
            "text/plain": [
              "27017.76274855092"
            ]
          },
          "metadata": {
            "tags": []
          },
          "execution_count": 4
        }
      ]
    },
    {
      "cell_type": "code",
      "metadata": {
        "id": "PB75wiByG_Yc",
        "colab_type": "code",
        "outputId": "51bf9eec-7967-46f6-9e18-f5de3f7b1f90",
        "colab": {
          "base_uri": "https://localhost:8080/",
          "height": 34
        }
      },
      "source": [
        "\n",
        "np.mean(dochod)\n",
        "# ale średnia już tak"
      ],
      "execution_count": 5,
      "outputs": [
        {
          "output_type": "execute_result",
          "data": {
            "text/plain": [
              "28020.68660329533"
            ]
          },
          "metadata": {
            "tags": []
          },
          "execution_count": 5
        }
      ]
    },
    {
      "cell_type": "markdown",
      "metadata": {
        "id": "JidRgvx8HgID",
        "colab_type": "text"
      },
      "source": [
        "### MODE - DOMINANTA"
      ]
    },
    {
      "cell_type": "code",
      "metadata": {
        "id": "f6mPDemXHQdf",
        "colab_type": "code",
        "outputId": "db307483-5dba-4587-bb09-cbf63815b292",
        "colab": {
          "base_uri": "https://localhost:8080/",
          "height": 521
        }
      },
      "source": [
        "# randomowa data dla 500 osób\n",
        "ages = np.random.randint(18, high=90, size=500)\n",
        "ages"
      ],
      "execution_count": 6,
      "outputs": [
        {
          "output_type": "execute_result",
          "data": {
            "text/plain": [
              "array([19, 53, 89, 68, 85, 21, 19, 40, 25, 38, 63, 36, 87, 85, 88, 87, 36,\n",
              "       39, 59, 18, 37, 59, 57, 22, 88, 69, 25, 24, 24, 39, 26, 70, 86, 53,\n",
              "       75, 30, 55, 68, 70, 25, 40, 69, 80, 57, 68, 48, 46, 66, 83, 18, 71,\n",
              "       40, 51, 80, 83, 51, 37, 63, 46, 55, 30, 77, 72, 66, 32, 44, 23, 37,\n",
              "       45, 21, 41, 89, 31, 83, 56, 23, 72, 42, 81, 42, 89, 78, 18, 51, 85,\n",
              "       30, 23, 74, 34, 20, 86, 63, 37, 43, 46, 73, 37, 60, 26, 54, 73, 37,\n",
              "       48, 57, 54, 22, 62, 51, 26, 45, 24, 64, 48, 82, 58, 31, 72, 76, 43,\n",
              "       70, 62, 55, 28, 59, 55, 59, 41, 68, 23, 66, 76, 80, 63, 67, 19, 25,\n",
              "       63, 73, 86, 73, 19, 80, 45, 61, 66, 44, 86, 38, 56, 22, 63, 24, 21,\n",
              "       76, 21, 28, 85, 73, 88, 34, 80, 67, 68, 26, 57, 73, 77, 38, 63, 42,\n",
              "       67, 55, 22, 80, 26, 47, 63, 79, 36, 85, 43, 42, 75, 41, 55, 63, 32,\n",
              "       69, 58, 70, 28, 25, 29, 42, 43, 23, 81, 38, 54, 43, 20, 47, 68, 72,\n",
              "       47, 61, 76, 59, 25, 47, 87, 60, 51, 72, 65, 77, 65, 55, 22, 19, 61,\n",
              "       27, 61, 47, 63, 54, 52, 51, 78, 30, 29, 41, 27, 30, 60, 23, 81, 51,\n",
              "       59, 74, 31, 88, 64, 44, 53, 49, 72, 44, 81, 68, 19, 85, 50, 34, 55,\n",
              "       64, 22, 24, 85, 42, 50, 24, 56, 52, 43, 18, 18, 49, 66, 79, 37, 71,\n",
              "       20, 37, 19, 77, 64, 29, 32, 68, 19, 32, 47, 86, 40, 79, 31, 80, 80,\n",
              "       26, 45, 59, 45, 55, 35, 80, 67, 71, 29, 82, 89, 65, 89, 71, 62, 25,\n",
              "       22, 68, 81, 49, 78, 51, 19, 84, 80, 85, 79, 87, 47, 78, 38, 46, 67,\n",
              "       24, 20, 56, 50, 56, 24, 37, 48, 52, 63, 62, 57, 72, 89, 57, 36, 61,\n",
              "       53, 74, 19, 71, 37, 80, 62, 82, 68, 46, 48, 37, 36, 30, 34, 51, 70,\n",
              "       18, 83, 38, 56, 60, 21, 85, 43, 52, 47, 27, 41, 72, 20, 46, 20, 40,\n",
              "       35, 42, 48, 73, 48, 45, 79, 32, 78, 38, 52, 75, 21, 42, 83, 41, 20,\n",
              "       67, 80, 33, 45, 66, 28, 21, 46, 30, 87, 39, 57, 38, 72, 42, 57, 66,\n",
              "       75, 53, 52, 25, 41, 73, 76, 71, 35, 22, 41, 50, 67, 21, 49, 83, 85,\n",
              "       65, 54, 38, 44, 32, 53, 81, 55, 37, 31, 52, 45, 76, 83, 43, 25, 22,\n",
              "       41, 78, 53, 83, 87, 49, 20, 51, 59, 62, 77, 84, 35, 55, 32, 72, 72,\n",
              "       85, 62, 66, 41, 26, 85, 31, 31, 50, 38, 73, 79, 85, 25, 34, 33, 29,\n",
              "       28, 44, 74, 22, 74, 87, 44, 28, 88, 49, 62, 48, 83, 21, 48, 79, 48,\n",
              "       88, 66, 25, 50, 43, 67, 20])"
            ]
          },
          "metadata": {
            "tags": []
          },
          "execution_count": 6
        }
      ]
    },
    {
      "cell_type": "code",
      "metadata": {
        "id": "dy8kWewZHsK3",
        "colab_type": "code",
        "outputId": "efdbf5cf-8237-47c9-ff9e-02aa037ab3a3",
        "colab": {
          "base_uri": "https://localhost:8080/",
          "height": 34
        }
      },
      "source": [
        "from scipy import stats\n",
        "\n",
        "stats.mode(ages)"
      ],
      "execution_count": 7,
      "outputs": [
        {
          "output_type": "execute_result",
          "data": {
            "text/plain": [
              "ModeResult(mode=array([85]), count=array([13]))"
            ]
          },
          "metadata": {
            "tags": []
          },
          "execution_count": 7
        }
      ]
    },
    {
      "cell_type": "code",
      "metadata": {
        "id": "Q2w0VJX9H5f8",
        "colab_type": "code",
        "colab": {}
      },
      "source": [
        "# jaka i ile razy"
      ],
      "execution_count": 0,
      "outputs": []
    },
    {
      "cell_type": "markdown",
      "metadata": {
        "id": "ktAh3iiiIk2m",
        "colab_type": "text"
      },
      "source": [
        "### STANDARD DEVIATION - ODCHYLENIE STANDARDOWE"
      ]
    },
    {
      "cell_type": "markdown",
      "metadata": {
        "id": "jtS4415JJTlx",
        "colab_type": "text"
      },
      "source": [
        "Odchylenie standardowe mówi o tym, o ile średnio odchylają się wartości badanej cechy od średniej arytmetycznej. "
      ]
    },
    {
      "cell_type": "code",
      "metadata": {
        "id": "Btr-9j0vIo6i",
        "colab_type": "code",
        "outputId": "89babfd9-e5ea-45c6-bf35-81303266a1ab",
        "colab": {
          "base_uri": "https://localhost:8080/",
          "height": 265
        }
      },
      "source": [
        "# jeszcze raz ten sam histogram\n",
        "\n",
        "dochod = np.random.normal(27000, 15000, 100000)\n",
        "plt.hist(dochod, 50)\n",
        "plt.show()"
      ],
      "execution_count": 9,
      "outputs": [
        {
          "output_type": "display_data",
          "data": {
            "image/png": "[encoded data removed]",
            "text/plain": [
              "<Figure size 432x288 with 1 Axes>"
            ]
          },
          "metadata": {
            "tags": []
          }
        }
      ]
    },
    {
      "cell_type": "code",
      "metadata": {
        "id": "Azb8u4beI0jY",
        "colab_type": "code",
        "outputId": "ac2a04ee-9fa6-43df-a7f1-356cfc0afebb",
        "colab": {
          "base_uri": "https://localhost:8080/",
          "height": 34
        }
      },
      "source": [
        "dochod.std()"
      ],
      "execution_count": 10,
      "outputs": [
        {
          "output_type": "execute_result",
          "data": {
            "text/plain": [
              "15018.768155663394"
            ]
          },
          "metadata": {
            "tags": []
          },
          "execution_count": 10
        }
      ]
    },
    {
      "cell_type": "markdown",
      "metadata": {
        "id": "FDDHOdB2JGWE",
        "colab_type": "text"
      },
      "source": [
        "### WARIANCJA\n"
      ]
    },
    {
      "cell_type": "markdown",
      "metadata": {
        "id": "gXGghr1RJbY5",
        "colab_type": "text"
      },
      "source": [
        "Wariancja liczb x1,x2,...,xn to średnia arytmetyczna kwadratów odchyleń od ich średniej arytmetycznej:"
      ]
    },
    {
      "cell_type": "code",
      "metadata": {
        "id": "ab6NJJDpJBoJ",
        "colab_type": "code",
        "outputId": "4c194722-3a42-4e19-b49e-957530209fdf",
        "colab": {
          "base_uri": "https://localhost:8080/",
          "height": 34
        }
      },
      "source": [
        "dochod.var()"
      ],
      "execution_count": 11,
      "outputs": [
        {
          "output_type": "execute_result",
          "data": {
            "text/plain": [
              "225563396.91356885"
            ]
          },
          "metadata": {
            "tags": []
          },
          "execution_count": 11
        }
      ]
    },
    {
      "cell_type": "markdown",
      "metadata": {
        "id": "-ix4KrPkKb0Z",
        "colab_type": "text"
      },
      "source": [
        "### PERCENTILES - PERCENTYLE"
      ]
    },
    {
      "cell_type": "markdown",
      "metadata": {
        "id": "WCJHl5uZLd_S",
        "colab_type": "text"
      },
      "source": [
        "Jest jednostką statystyczną opisującą położenie danego wyniku względem całej grupy wyników. Poszczególne centyle określają nam jaki ile wyników (procentowo) było niższych bądź wyższych od pewnego wyniki."
      ]
    },
    {
      "cell_type": "code",
      "metadata": {
        "id": "o72vs2rmKlly",
        "colab_type": "code",
        "outputId": "811f13ed-5520-49c9-997e-37cac6fc29f9",
        "colab": {
          "base_uri": "https://localhost:8080/",
          "height": 265
        }
      },
      "source": [
        "randomowe_wartosci = np.random.normal(0, 0.5, 10000)\n",
        "\n",
        "plt.hist(randomowe_wartosci, 50)\n",
        "plt.show()"
      ],
      "execution_count": 12,
      "outputs": [
        {
          "output_type": "display_data",
          "data": {
            "image/png": "[encoded data removed]",
            "text/plain": [
              "<Figure size 432x288 with 1 Axes>"
            ]
          },
          "metadata": {
            "tags": []
          }
        }
      ]
    },
    {
      "cell_type": "code",
      "metadata": {
        "id": "PnOVahv1LD6L",
        "colab_type": "code",
        "outputId": "25b95ca3-525e-4c1e-e1dc-aa37fec05cca",
        "colab": {
          "base_uri": "https://localhost:8080/",
          "height": 34
        }
      },
      "source": [
        "np.percentile(randomowe_wartosci, 50)"
      ],
      "execution_count": 13,
      "outputs": [
        {
          "output_type": "execute_result",
          "data": {
            "text/plain": [
              "-0.010130847781868551"
            ]
          },
          "metadata": {
            "tags": []
          },
          "execution_count": 13
        }
      ]
    },
    {
      "cell_type": "code",
      "metadata": {
        "id": "Ge6HrWDfLIqw",
        "colab_type": "code",
        "outputId": "a6682b9f-d265-4b90-9ed0-afdc9bc0ddbb",
        "colab": {
          "base_uri": "https://localhost:8080/",
          "height": 34
        }
      },
      "source": [
        "np.percentile(randomowe_wartosci, 90)"
      ],
      "execution_count": 14,
      "outputs": [
        {
          "output_type": "execute_result",
          "data": {
            "text/plain": [
              "0.6250783022806908"
            ]
          },
          "metadata": {
            "tags": []
          },
          "execution_count": 14
        }
      ]
    },
    {
      "cell_type": "code",
      "metadata": {
        "id": "5i159Pl6LQBg",
        "colab_type": "code",
        "outputId": "653fb3e1-dd04-47ea-b711-1280cf969fb7",
        "colab": {
          "base_uri": "https://localhost:8080/",
          "height": 34
        }
      },
      "source": [
        "np.percentile(randomowe_wartosci, 1)"
      ],
      "execution_count": 15,
      "outputs": [
        {
          "output_type": "execute_result",
          "data": {
            "text/plain": [
              "-1.1472618169516327"
            ]
          },
          "metadata": {
            "tags": []
          },
          "execution_count": 15
        }
      ]
    },
    {
      "cell_type": "markdown",
      "metadata": {
        "id": "CUm-B-VNJ_l7",
        "colab_type": "text"
      },
      "source": [
        "### MOMENT"
      ]
    },
    {
      "cell_type": "code",
      "metadata": {
        "id": "M256yBXdKCJa",
        "colab_type": "code",
        "outputId": "e962f2bc-ac9e-4df1-be41-5f9b96787cc2",
        "colab": {
          "base_uri": "https://localhost:8080/",
          "height": 265
        }
      },
      "source": [
        "randomowe_wartosci = np.random.normal(0, 0.5, 10000)\n",
        "\n",
        "plt.hist(randomowe_wartosci, 50)\n",
        "plt.show()"
      ],
      "execution_count": 16,
      "outputs": [
        {
          "output_type": "display_data",
          "data": {
            "image/png": "[encoded data removed]",
            "text/plain": [
              "<Figure size 432x288 with 1 Axes>"
            ]
          },
          "metadata": {
            "tags": []
          }
        }
      ]
    },
    {
      "cell_type": "code",
      "metadata": {
        "id": "K_PgGPh1Mppy",
        "colab_type": "code",
        "outputId": "22c8cf71-2c89-450d-ab22-0c3820ab557d",
        "colab": {
          "base_uri": "https://localhost:8080/",
          "height": 34
        }
      },
      "source": [
        "np.mean(randomowe_wartosci)"
      ],
      "execution_count": 17,
      "outputs": [
        {
          "output_type": "execute_result",
          "data": {
            "text/plain": [
              "-0.0022887977647752457"
            ]
          },
          "metadata": {
            "tags": []
          },
          "execution_count": 17
        }
      ]
    },
    {
      "cell_type": "code",
      "metadata": {
        "id": "OemYvht2M1Pg",
        "colab_type": "code",
        "outputId": "df346df1-d28f-403b-e2ec-7dc754047985",
        "colab": {
          "base_uri": "https://localhost:8080/",
          "height": 34
        }
      },
      "source": [
        "np.var(randomowe_wartosci)"
      ],
      "execution_count": 18,
      "outputs": [
        {
          "output_type": "execute_result",
          "data": {
            "text/plain": [
              "0.2504778374609631"
            ]
          },
          "metadata": {
            "tags": []
          },
          "execution_count": 18
        }
      ]
    },
    {
      "cell_type": "markdown",
      "metadata": {
        "id": "gjS0aUT2Np2w",
        "colab_type": "text"
      },
      "source": [
        "### SKEW, KURTOSIS - SKOŚNOŚĆ, KURTOZJA"
      ]
    },
    {
      "cell_type": "markdown",
      "metadata": {
        "id": "M8HgInbVNwu5",
        "colab_type": "text"
      },
      "source": [
        "Skośność jest parametrem do pomiaru symetrii zbioru danych, a kurtozą do pomiaru, jak ciężkie są jego ogony w porównaniu do rozkładu normalnego"
      ]
    },
    {
      "cell_type": "code",
      "metadata": {
        "id": "-a6_FB5xNDOl",
        "colab_type": "code",
        "outputId": "70a05366-2c78-4cdf-dafd-ffcddeaee806",
        "colab": {
          "base_uri": "https://localhost:8080/",
          "height": 34
        }
      },
      "source": [
        "import scipy.stats as sp\n",
        "\n",
        "sp.skew(randomowe_wartosci)"
      ],
      "execution_count": 19,
      "outputs": [
        {
          "output_type": "execute_result",
          "data": {
            "text/plain": [
              "0.02308778620164106"
            ]
          },
          "metadata": {
            "tags": []
          },
          "execution_count": 19
        }
      ]
    },
    {
      "cell_type": "code",
      "metadata": {
        "id": "EqCU7e61NUp0",
        "colab_type": "code",
        "outputId": "f426a765-bbed-469c-939d-cf5629e6e421",
        "colab": {
          "base_uri": "https://localhost:8080/",
          "height": 34
        }
      },
      "source": [
        "sp.kurtosis(randomowe_wartosci)"
      ],
      "execution_count": 20,
      "outputs": [
        {
          "output_type": "execute_result",
          "data": {
            "text/plain": [
              "-0.040984268959331605"
            ]
          },
          "metadata": {
            "tags": []
          },
          "execution_count": 20
        }
      ]
    },
    {
      "cell_type": "markdown",
      "metadata": {
        "id": "i7Nd8ZSbwT0Y",
        "colab_type": "text"
      },
      "source": [
        "### COVARIANCE - KOWARIANCJA"
      ]
    },
    {
      "cell_type": "markdown",
      "metadata": {
        "id": "hK-jO2GqweKe",
        "colab_type": "text"
      },
      "source": [
        "Kowariancja mierzy, jak dwie zmienne różnią się tandemowo od ich średnich.\n",
        "\n",
        "\n",
        "Użyteczna, jeśli np chce się określić korelację między szybkością rendowania strony dla klienta a ilością wydanych przez klienta pieniędzy.\n",
        "\n",
        "\n",
        "numpy oferuje metody kowariancji, ale zrobimy to w „trudny sposób”, aby pokazać, co dzieje się pod maską. Zasadniczo traktujemy każdą zmienną jako wektor odchyleń od średniej i obliczamy „iloczyn iloczynu” obu wektorów. Geometrycznie można to traktować jako kąt między dwoma wektorami w przestrzeni wielowymiarowej, ale można to po prostu traktować jako miarę podobieństwa między dwiema zmiennymi.\n",
        "\n"
      ]
    },
    {
      "cell_type": "code",
      "metadata": {
        "id": "PIaQR1frOBlw",
        "colab_type": "code",
        "outputId": "0cd1ed6b-9bf3-44c7-95ad-38ffaf81d5b0",
        "colab": {
          "base_uri": "https://localhost:8080/",
          "height": 282
        }
      },
      "source": [
        "from pylab import *\n",
        "\n",
        "def srednia(x):\n",
        "  xsrednia = mean(x)\n",
        "  return [xi - xsrednia for xi in x]\n",
        "\n",
        "def kowariancja(x, y):\n",
        "  n = len(x)\n",
        "  return dot(srednia(x), srednia(y)) / (n - 1)\n",
        "\n",
        "szybkosc_stron = np.random.normal(3.0, 1.0, 1000)\n",
        "ilosc_zakupow = np.random.normal(50.0, 10.0, 1000)\n",
        "\n",
        "scatter(szybkosc_stron, ilosc_zakupow)\n",
        "\n",
        "kowariancja(szybkosc_stron, ilosc_zakupow)"
      ],
      "execution_count": 21,
      "outputs": [
        {
          "output_type": "execute_result",
          "data": {
            "text/plain": [
              "-0.14459392179349723"
            ]
          },
          "metadata": {
            "tags": []
          },
          "execution_count": 21
        },
        {
          "output_type": "display_data",
          "data": {
            "image/png": "[encoded data removed]",
            "text/plain": [
              "<Figure size 432x288 with 1 Axes>"
            ]
          },
          "metadata": {
            "tags": []
          }
        }
      ]
    },
    {
      "cell_type": "markdown",
      "metadata": {
        "id": "jFEB_vvACvfq",
        "colab_type": "text"
      },
      "source": [
        "Teraz sprawimy, że nasze sfabrykowane kwoty zakupu będą rzeczywistą funkcją szybkości strony, tworząc bardzo realną korelację. Wartość ujemna wskazuje odwrotną zależność; strony, które wyświetlają się w krótszym czasie, powodują więcej wydanych pieniędzy"
      ]
    },
    {
      "cell_type": "code",
      "metadata": {
        "id": "wmdHtKa5CPob",
        "colab_type": "code",
        "outputId": "26439d58-660d-4cf5-c419-21e82efb9713",
        "colab": {
          "base_uri": "https://localhost:8080/",
          "height": 282
        }
      },
      "source": [
        "ilosc_zakupow = np.random.normal(50.0, 10.0, 1000) / szybkosc_stron\n",
        "\n",
        "scatter(szybkosc_stron, ilosc_zakupow)\n",
        "\n",
        "kowariancja(szybkosc_stron, ilosc_zakupow)"
      ],
      "execution_count": 22,
      "outputs": [
        {
          "output_type": "execute_result",
          "data": {
            "text/plain": [
              "-10.11052631400553"
            ]
          },
          "metadata": {
            "tags": []
          },
          "execution_count": 22
        },
        {
          "output_type": "display_data",
          "data": {
            "image/png": "[encoded data removed]",
            "text/plain": [
              "<Figure size 432x288 with 1 Axes>"
            ]
          },
          "metadata": {
            "tags": []
          }
        }
      ]
    },
    {
      "cell_type": "markdown",
      "metadata": {
        "id": "Ju-PiMsoC30T",
        "colab_type": "text"
      },
      "source": [
        "### KORELACJA"
      ]
    },
    {
      "cell_type": "markdown",
      "metadata": {
        "id": "GjgBv-psDDgg",
        "colab_type": "text"
      },
      "source": [
        "Zależność statystyczna zmiennych losowych (korelacja) – związek pomiędzy dwiema zmiennymi losowymi X i Y.\n",
        "\n",
        "Intuicyjnie, zależność dwóch zmiennych oznacza, że znając wartość jednej z nich, dałoby się przynajmniej w niektórych sytuacjach dokładniej przewidzieć wartość drugiej zmiennej, niż bez tej informacji."
      ]
    },
    {
      "cell_type": "code",
      "metadata": {
        "id": "JmTAsdidDK2y",
        "colab_type": "code",
        "outputId": "784e1fd4-dfd7-4612-edfc-422bd78b51b7",
        "colab": {
          "base_uri": "https://localhost:8080/",
          "height": 34
        }
      },
      "source": [
        "def korelacja(x, y):\n",
        "  standard_deviation_x = x.std()\n",
        "  standard_deviation_y = y.std()\n",
        "  return kowariancja(x, y) / standard_deviation_x / standard_deviation_y\n",
        "\n",
        "korelacja(szybkosc_stron, ilosc_zakupow)"
      ],
      "execution_count": 23,
      "outputs": [
        {
          "output_type": "execute_result",
          "data": {
            "text/plain": [
              "-0.5063405798300699"
            ]
          },
          "metadata": {
            "tags": []
          },
          "execution_count": 23
        }
      ]
    },
    {
      "cell_type": "code",
      "metadata": {
        "id": "qC5UFQMAxq-C",
        "colab_type": "code",
        "outputId": "0206e64e-d2cd-485c-c379-6c8c37b398e8",
        "colab": {
          "base_uri": "https://localhost:8080/",
          "height": 50
        }
      },
      "source": [
        "# correlation coefficients\n",
        "# współczynniki korelacji między każdą kombinacją przekazanych tablic\n",
        "\n",
        "np.corrcoef(szybkosc_stron, ilosc_zakupow)"
      ],
      "execution_count": 24,
      "outputs": [
        {
          "output_type": "execute_result",
          "data": {
            "text/plain": [
              "array([[ 1.        , -0.50583424],\n",
              "       [-0.50583424,  1.        ]])"
            ]
          },
          "metadata": {
            "tags": []
          },
          "execution_count": 24
        }
      ]
    },
    {
      "cell_type": "markdown",
      "metadata": {
        "id": "H96T8KjPDzMU",
        "colab_type": "text"
      },
      "source": [
        "Możemy wymusić idealną korelację, tworząc całkowicie liniowy związek"
      ]
    },
    {
      "cell_type": "code",
      "metadata": {
        "id": "yImB2v64B81c",
        "colab_type": "code",
        "outputId": "3a8c215c-92d7-498b-ff2b-8f50cfb0f0a6",
        "colab": {
          "base_uri": "https://localhost:8080/",
          "height": 282
        }
      },
      "source": [
        "ilosc_zakupow = 100 - szybkosc_stron * 3\n",
        "\n",
        "scatter(szybkosc_stron, ilosc_zakupow)\n",
        "\n",
        "korelacja(szybkosc_stron, ilosc_zakupow)"
      ],
      "execution_count": 25,
      "outputs": [
        {
          "output_type": "execute_result",
          "data": {
            "text/plain": [
              "-1.0010010010010009"
            ]
          },
          "metadata": {
            "tags": []
          },
          "execution_count": 25
        },
        {
          "output_type": "display_data",
          "data": {
            "image/png": "[encoded data removed]",
            "text/plain": [
              "<Figure size 432x288 with 1 Axes>"
            ]
          },
          "metadata": {
            "tags": []
          }
        }
      ]
    },
    {
      "cell_type": "code",
      "metadata": {
        "id": "ADou9jDsD9k8",
        "colab_type": "code",
        "outputId": "4edd52f6-9e24-454d-aca4-ba79dee9a300",
        "colab": {
          "base_uri": "https://localhost:8080/",
          "height": 50
        }
      },
      "source": [
        "# I NIEUŻYWANA FUNKCJA Z BIBLIOTEKI NUMPY\n",
        "\n",
        "np.cov(szybkosc_stron, ilosc_zakupow)"
      ],
      "execution_count": 26,
      "outputs": [
        {
          "output_type": "execute_result",
          "data": {
            "text/plain": [
              "array([[ 0.99634673, -2.98904018],\n",
              "       [-2.98904018,  8.96712055]])"
            ]
          },
          "metadata": {
            "tags": []
          },
          "execution_count": 26
        }
      ]
    },
    {
      "cell_type": "markdown",
      "metadata": {
        "id": "BWZQ4cEkEsMK",
        "colab_type": "text"
      },
      "source": [
        "### PRAWDOPODOBIEŃSTWO WARUNKOWE"
      ]
    },
    {
      "cell_type": "code",
      "metadata": {
        "id": "Lic4VLl1ERU7",
        "colab_type": "code",
        "colab": {}
      },
      "source": [
        "# kod generuje 100000 randomowych ludzi i przypisuje ich do 20's, 30's, 40's etc\n",
        "# potem przypisuje niższe prawdopodobieństwo młodszym, że coś kupią\n",
        "\n",
        "from numpy import random\n",
        "\n",
        "random.seed(2)\n",
        "\n",
        "total = {20:0, 30:0, 40:0, 50:0, 60:0, 70:0}\n",
        "zakupy = {20:0, 30:0, 40:0, 50:0, 60:0, 70:0}\n",
        "wszystkie_zakupy = 0\n",
        "\n",
        "for _ in range(100000):\n",
        "  dekada_wiekowa = random.choice([20, 30, 40, 50, 60, 70])\n",
        "  prawdopodobienstwo_zakupu = 0.3\n",
        "  total[dekada_wiekowa] += 1\n",
        "  if random.random() < prawdopodobienstwo_zakupu:\n",
        "    wszystkie_zakupy += 1\n",
        "    zakupy[dekada_wiekowa] +=1\n"
      ],
      "execution_count": 0,
      "outputs": []
    },
    {
      "cell_type": "code",
      "metadata": {
        "id": "FN27A_YzGP00",
        "colab_type": "code",
        "outputId": "eb562e83-c612-45cb-83db-b1e4223d748f",
        "colab": {
          "base_uri": "https://localhost:8080/",
          "height": 34
        }
      },
      "source": [
        "total"
      ],
      "execution_count": 28,
      "outputs": [
        {
          "output_type": "execute_result",
          "data": {
            "text/plain": [
              "{20: 16513, 30: 16717, 40: 16633, 50: 16610, 60: 16653, 70: 16874}"
            ]
          },
          "metadata": {
            "tags": []
          },
          "execution_count": 28
        }
      ]
    },
    {
      "cell_type": "code",
      "metadata": {
        "id": "DDG06lTlGZjy",
        "colab_type": "code",
        "outputId": "6fe0aa9c-369e-40f8-cc86-a7f0ac2242b1",
        "colab": {
          "base_uri": "https://localhost:8080/",
          "height": 34
        }
      },
      "source": [
        "zakupy"
      ],
      "execution_count": 29,
      "outputs": [
        {
          "output_type": "execute_result",
          "data": {
            "text/plain": [
              "{20: 4964, 30: 5055, 40: 4972, 50: 5028, 60: 5042, 70: 5074}"
            ]
          },
          "metadata": {
            "tags": []
          },
          "execution_count": 29
        }
      ]
    },
    {
      "cell_type": "code",
      "metadata": {
        "id": "cc5Mwov3Gb4M",
        "colab_type": "code",
        "outputId": "84670150-e75a-4bfa-fc7a-dbe81da7b65b",
        "colab": {
          "base_uri": "https://localhost:8080/",
          "height": 34
        }
      },
      "source": [
        "wszystkie_zakupy"
      ],
      "execution_count": 30,
      "outputs": [
        {
          "output_type": "execute_result",
          "data": {
            "text/plain": [
              "30135"
            ]
          },
          "metadata": {
            "tags": []
          },
          "execution_count": 30
        }
      ]
    },
    {
      "cell_type": "code",
      "metadata": {
        "id": "NLta65hdGdk6",
        "colab_type": "code",
        "colab": {
          "base_uri": "https://localhost:8080/",
          "height": 34
        },
        "outputId": "a7687451-3ba2-4288-d2a2-ddf09457b794"
      },
      "source": [
        "# PRAWDOPODOBIESTWO WARUNKOWE\n",
        "\n",
        "# P(E/F) - E - zakupy, F - w latach 30\n",
        "\n",
        "PEF = float(zakupy[30]) / float(total[30])\n",
        "print ('P(zakupy | 30): ' + str(PEF))"
      ],
      "execution_count": 32,
      "outputs": [
        {
          "output_type": "stream",
          "text": [
            "P(zakupy | 30): 0.30238679188849676\n"
          ],
          "name": "stdout"
        }
      ]
    },
    {
      "cell_type": "code",
      "metadata": {
        "id": "tp3nPe_ilx4e",
        "colab_type": "code",
        "colab": {
          "base_uri": "https://localhost:8080/",
          "height": 34
        },
        "outputId": "d6b6347f-a08c-4dd1-8741-b2bf3b41344f"
      },
      "source": [
        "# P(F) - prawdopodobienstwo ze masz 30 lat\n",
        "\n",
        "PF = float(total[30]) / 100000.0\n",
        "print(\"P(30s): \" + str(PF))"
      ],
      "execution_count": 40,
      "outputs": [
        {
          "output_type": "stream",
          "text": [
            "P(30s): 0.16717\n"
          ],
          "name": "stdout"
        }
      ]
    },
    {
      "cell_type": "code",
      "metadata": {
        "id": "yggr8XTQmJiV",
        "colab_type": "code",
        "colab": {
          "base_uri": "https://localhost:8080/",
          "height": 34
        },
        "outputId": "062033d6-55a2-4c5d-8c7d-c1add8a69c0f"
      },
      "source": [
        "# P(E) - prawdopodobiestwo kupienia czegokolwiek niezalenie od wieku\n",
        "\n",
        "PE = float(wszystkie_zakupy) / 100000.0\n",
        "print(\"P(zakupy): \" + str(PE))"
      ],
      "execution_count": 41,
      "outputs": [
        {
          "output_type": "stream",
          "text": [
            "P(zakupy): 0.30135\n"
          ],
          "name": "stdout"
        }
      ]
    },
    {
      "cell_type": "markdown",
      "metadata": {
        "id": "RnElWkQ7n2RW",
        "colab_type": "text"
      },
      "source": [
        "### P(E / F) != P(E, F)\n",
        "Pierwsze mówi o prawdopodobieństwie tego, że 30-latek coś kupi\n",
        "Drugie mówi o prawdopodobieństwie, że ktoś ma zarówno 30 lat i coś kupił"
      ]
    },
    {
      "cell_type": "code",
      "metadata": {
        "id": "MWVZ1vQzmpeW",
        "colab_type": "code",
        "colab": {
          "base_uri": "https://localhost:8080/",
          "height": 34
        },
        "outputId": "12968306-5d06-43cb-e575-ab27006f6e7e"
      },
      "source": [
        "# P(E, F) - prawd. posiadania 30 lat i kupienia czegos\n",
        "\n",
        "PEF2 = zakupy[30] / 100000.0\n",
        "\n",
        "print (\"P(30s, zakupy): \" + str(float(PEF2)))"
      ],
      "execution_count": 45,
      "outputs": [
        {
          "output_type": "stream",
          "text": [
            "P(30s, zakupy): 0.05055\n"
          ],
          "name": "stdout"
        }
      ]
    },
    {
      "cell_type": "markdown",
      "metadata": {
        "id": "odYP6PgWoY-N",
        "colab_type": "text"
      },
      "source": [
        "### P(E, F) == P(E)P(F)"
      ]
    },
    {
      "cell_type": "code",
      "metadata": {
        "id": "8NszpXWmnx8s",
        "colab_type": "code",
        "colab": {
          "base_uri": "https://localhost:8080/",
          "height": 50
        },
        "outputId": "75c7d59c-8d3a-4cb3-9aa8-32174a27b41b"
      },
      "source": [
        "print(\"P(E)P(F): \" + str(float(PE * PF)))\n",
        "print(\"P(E, F): \" + str(float(PEF2)))"
      ],
      "execution_count": 60,
      "outputs": [
        {
          "output_type": "stream",
          "text": [
            "P(E)P(F): 0.05037667950000001\n",
            "P(E, F): 0.05055\n"
          ],
          "name": "stdout"
        }
      ]
    },
    {
      "cell_type": "code",
      "metadata": {
        "id": "EsfFj96KpiSR",
        "colab_type": "code",
        "colab": {
          "base_uri": "https://localhost:8080/",
          "height": 50
        },
        "outputId": "c5d4dce6-798f-46eb-93e3-7e0a5815f659"
      },
      "source": [
        "# P(E|F) = P(E, F) / P(F)\n",
        "\n",
        "print(PEF2 / PF)\n",
        "print(PEF)"
      ],
      "execution_count": 58,
      "outputs": [
        {
          "output_type": "stream",
          "text": [
            "0.3023867918884967\n",
            "0.30238679188849676\n"
          ],
          "name": "stdout"
        }
      ]
    },
    {
      "cell_type": "code",
      "metadata": {
        "id": "Nb6KbpxLqeZQ",
        "colab_type": "code",
        "colab": {}
      },
      "source": [
        ""
      ],
      "execution_count": 0,
      "outputs": []
    }
  ]
}