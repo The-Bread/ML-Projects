{
 "cells": [
  {
   "cell_type": "code",
   "execution_count": 1,
   "metadata": {},
   "outputs": [],
   "source": [
    "import textract\n",
    "import pdfplumber\n",
    "import numpy as np\n",
    "import os\n",
    "import pyttsx3\n",
    "import datetime\n",
    "import subprocess\n",
    "import comtypes.client"
   ]
  },
  {
   "cell_type": "code",
   "execution_count": 25,
   "metadata": {},
   "outputs": [
    {
     "name": "stdout",
     "output_type": "stream",
     "text": [
      "Alice's Adventures \n",
      "in Wonderland\n",
      "By Lewis Caroll (1865)\n",
      "Download free eBooks of classic literature, books and \n",
      "novels at Planet eBook. Subscribe to our free eBooks blog \n",
      "and email newsletter.\n"
     ]
    }
   ],
   "source": [
    "pages = []\n",
    "with pdfplumber.open(\"pdf/Alice_Wonderland.pdf\") as pdf:\n",
    "    for page_id in range(len(pdf.pages)):\n",
    "        pages.append(pdf.pages[page_id].extract_text().replace(\"’\", \"'\").replace(\"”\", '\"').replace('‘', \"'\"))\n",
    "print(pages[0])"
   ]
  },
  {
   "cell_type": "code",
   "execution_count": 26,
   "metadata": {},
   "outputs": [
    {
     "data": {
      "text/plain": [
       "\" up on tiptoe, and peeped over the \\nedge of the mushroom, and her eyes immediately met those \\nof a large caterpillar, that was sitting on the top with its arms \\nfolded, quietly smoking a long hookah, and taking not the \\nsmallest notice of her or of anything else.\\n36 Alice's Adventures in Wonderland Chapter V.  \\nAdvice from a Caterpillar\\nThe Caterpillar and Alice looked at each other for some \\ntime in silence: at last the Caterpillar took the hookah \\nout of its mouth, and addressed her in a languid, sleepy \\nvoice.\\n'Who are you?' said the Caterpillar.\\nThis was not an encouraging opening for a conversa-\\ntion. Alice replied, rather shyly, 'I—I hardly know, sir, just \\nat present— at least I know who I WAS when I got up this \\nmorning, but I think I must have been changed several \\ntimes since then.'\\n'What do you mean by that?' said the Caterpillar sternly. \\n'Explain yourself!'\\n'I can't explain myself, I'm afraid, sir' said Alice, 'because \\nI'm not myself, you see.'\\n'I don't see,' said the Cat\""
      ]
     },
     "execution_count": 26,
     "metadata": {},
     "output_type": "execute_result"
    }
   ],
   "source": [
    "page = \" \".join(pages)\n",
    "page[49000:50000]"
   ]
  },
  {
   "cell_type": "code",
   "execution_count": 27,
   "metadata": {},
   "outputs": [],
   "source": [
    "engine = pyttsx3.init('sapi5')\n",
    "voices = engine.getProperty('voices')\n",
    "engine.setProperty('voice', voices[1].id)"
   ]
  },
  {
   "cell_type": "code",
   "execution_count": 42,
   "metadata": {},
   "outputs": [
    {
     "data": {
      "text/plain": [
       "\"ds; \\nand she had never forgotten that, if you drink much from a \\nbottle marked 'poison,' it is almost certain to disagree with \\nyou, sooner or later.\\nHowever, this bottle was not marked 'poison,' so Alice \\nventured to taste it, and finding it very nice, (it had, in fact, \\na sort of mixed flavour of \""
      ]
     },
     "execution_count": 42,
     "metadata": {},
     "output_type": "execute_result"
    }
   ],
   "source": [
    "pag = page[10000:10300]\n",
    "pag"
   ]
  },
  {
   "cell_type": "code",
   "execution_count": 29,
   "metadata": {},
   "outputs": [],
   "source": [
    "def speak(text):\n",
    "    engine.say(text)\n",
    "    engine.runAndWait()"
   ]
  },
  {
   "cell_type": "code",
   "execution_count": 48,
   "metadata": {},
   "outputs": [
    {
     "data": {
      "text/plain": [
       "\"However, this bottle was not marked 'poison,' so Alice \""
      ]
     },
     "execution_count": 48,
     "metadata": {},
     "output_type": "execute_result"
    }
   ],
   "source": [
    "sentences = pag.split(\"\\n\")[:-1]\n",
    "new_sentences = []\n",
    "\n",
    "print(sentences)\n",
    "for sentence_id in zip(sentences, sentences[1:]):\n",
    "    if sentence[0].islower():\n",
    "        last_sentence = sentences[sentences.index(sentence)-1]\n",
    "    sentence = sentences[sentence_id]\n",
    "    new_sentence += sentence\n",
    "    next_sentence = sentences[sentence_id+1]\n",
    "    \n",
    "    if next_sentence[0].islower():\n",
    "        sentence += \" \" + next_sentence\n",
    "        sentence_id += 1\n",
    "    \n",
    "    new_sentence += sentence\n",
    "    sentence_id += 1\n",
    "    \n",
    "print(new_sentence)\n",
    "speak(new_sentence)"
   ]
  },
  {
   "cell_type": "code",
   "execution_count": 47,
   "metadata": {},
   "outputs": [
    {
     "data": {
      "text/plain": [
       "\"ds;  and she had never forgotten that, if you drink much from a  bottle marked 'poison,' it is almost certain to disagree with  you, sooner or later. ventured to taste it, and finding it very nice, (it had, in fact, \""
      ]
     },
     "execution_count": 47,
     "metadata": {},
     "output_type": "execute_result"
    }
   ],
   "source": []
  },
  {
   "cell_type": "code",
   "execution_count": null,
   "metadata": {},
   "outputs": [],
   "source": []
  }
 ],
 "metadata": {
  "kernelspec": {
   "display_name": "Python 3",
   "language": "python",
   "name": "python3"
  },
  "language_info": {
   "codemirror_mode": {
    "name": "ipython",
    "version": 3
   },
   "file_extension": ".py",
   "mimetype": "text/x-python",
   "name": "python",
   "nbconvert_exporter": "python",
   "pygments_lexer": "ipython3",
   "version": "3.7.6"
  }
 },
 "nbformat": 4,
 "nbformat_minor": 4
}
