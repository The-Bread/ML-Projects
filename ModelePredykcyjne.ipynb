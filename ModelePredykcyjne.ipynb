{
  "nbformat": 4,
  "nbformat_minor": 0,
  "metadata": {
    "colab": {
      "name": "ModelePredykcyjne.ipynb",
      "provenance": [],
      "collapsed_sections": [],
      "authorship_tag": "ABX9TyM7NpnfVP4yDUOhuedlqSDe",
      "include_colab_link": true
    },
    "kernelspec": {
      "name": "python3",
      "display_name": "Python 3"
    }
  },
  "cells": [
    {
      "cell_type": "markdown",
      "metadata": {
        "id": "view-in-github",
        "colab_type": "text"
      },
      "source": [
        "<a href=\"https://colab.research.google.com/github/tableClothed/ML-Projects/blob/master/ModelePredykcyjne.ipynb\" target=\"_parent\"><img src=\"https://colab.research.google.com/assets/colab-badge.svg\" alt=\"Open In Colab\"/></a>"
      ]
    },
    {
      "cell_type": "markdown",
      "metadata": {
        "id": "byGjWkfUsJSd",
        "colab_type": "text"
      },
      "source": [
        "### LINEAR REGRESSION - REGRESJA LINIOWA\n",
        "\n",
        "Relacja między szybkością ładowania stron a ilością zakupów:"
      ]
    },
    {
      "cell_type": "code",
      "metadata": {
        "id": "Of6u5wA7sASV",
        "colab_type": "code",
        "outputId": "03ef2b96-d72b-403c-aa5f-d1d294a54b52",
        "colab": {
          "base_uri": "https://localhost:8080/",
          "height": 282
        }
      },
      "source": [
        "import numpy as np\n",
        "from pylab import *\n",
        "\n",
        "szybkosc_stron = np.random.normal(3.0, 2.0, 1000)\n",
        "ilosc_zakupow = 100 - (szybkosc_stron + np.random.normal(0.1, 0.99, 1000)) * 3\n",
        "\n",
        "scatter(szybkosc_stron, ilosc_zakupow)"
      ],
      "execution_count": 1,
      "outputs": [
        {
          "output_type": "execute_result",
          "data": {
            "text/plain": [
              "<matplotlib.collections.PathCollection at 0x7f8469efafd0>"
            ]
          },
          "metadata": {
            "tags": []
          },
          "execution_count": 1
        },
        {
          "output_type": "display_data",
          "data": {
            "image/png": "[encoded data removed]",
            "text/plain": [
              "<Figure size 432x288 with 1 Axes>"
            ]
          },
          "metadata": {
            "tags": []
          }
        }
      ]
    },
    {
      "cell_type": "code",
      "metadata": {
        "id": "yE-tqWRksZIC",
        "colab_type": "code",
        "colab": {}
      },
      "source": [
        "from scipy import stats\n",
        "\n",
        "nachylenie, pkt_przeciecia, r_wartosc, p_wartoc, std_error = stats.linregress(szybkosc_stron, ilosc_zakupow)\n",
        "\n",
        "# r_wartosc - współczynnik korelacji\n",
        "# p_wartosc - Dwustronna wartość p dla testu hipotez, którego hipotezą zerową jest to, że nachylenie wynosi zero,\n",
        "# przy użyciu testu Walda z rozkładem t statystyki testowej.\n",
        "# std_error - Błąd standardowy szacowanego gradientu."
      ],
      "execution_count": 0,
      "outputs": []
    },
    {
      "cell_type": "code",
      "metadata": {
        "id": "NLBkaZo2tHnG",
        "colab_type": "code",
        "outputId": "d7aa5f2e-910c-4fb5-cba9-97e88f8202b2",
        "colab": {
          "base_uri": "https://localhost:8080/",
          "height": 34
        }
      },
      "source": [
        "r_wartosc ** 2"
      ],
      "execution_count": 3,
      "outputs": [
        {
          "output_type": "execute_result",
          "data": {
            "text/plain": [
              "0.8101974064354897"
            ]
          },
          "metadata": {
            "tags": []
          },
          "execution_count": 3
        }
      ]
    },
    {
      "cell_type": "markdown",
      "metadata": {
        "id": "BytT2GA0uF07",
        "colab_type": "text"
      },
      "source": [
        "Wykorzystajmy nachylenie i punkt przecięcia, jaki uzyskaliśmy z regresji, aby wykreślić przewidywane wartości vs. zaobserwowane"
      ]
    },
    {
      "cell_type": "code",
      "metadata": {
        "id": "sq8ZIiRQtQkm",
        "colab_type": "code",
        "outputId": "6d52d25a-be76-4e62-a721-d396670e525c",
        "colab": {
          "base_uri": "https://localhost:8080/",
          "height": 265
        }
      },
      "source": [
        "import matplotlib.pyplot as plt\n",
        "\n",
        "def przewidz(x):\n",
        "  return nachylenie * x + pkt_przeciecia\n",
        "\n",
        "linia = przewidz(szybkosc_stron)\n",
        "\n",
        "plt.scatter(szybkosc_stron, ilosc_zakupow)\n",
        "plt.plot(szybkosc_stron, linia, c='r')\n",
        "plt.show()"
      ],
      "execution_count": 4,
      "outputs": [
        {
          "output_type": "display_data",
          "data": {
            "image/png": "[encoded data removed]",
            "text/plain": [
              "<Figure size 432x288 with 1 Axes>"
            ]
          },
          "metadata": {
            "tags": []
          }
        }
      ]
    },
    {
      "cell_type": "markdown",
      "metadata": {
        "id": "R9FzNrNYvNDZ",
        "colab_type": "text"
      },
      "source": [
        "### POLYNOMIAL REGRESSION - REGRESJA WIELOMIANOWA\n",
        "\n",
        "Co jeśli twoje dane wcale nie wyglądają liniowo? Spójrzmy na bardziej realistycznie wyglądające dane dotyczące prędkości / zakupu strony:"
      ]
    },
    {
      "cell_type": "code",
      "metadata": {
        "id": "b31bVPbitljc",
        "colab_type": "code",
        "outputId": "12c2a0ff-6a7c-4a32-dc4d-cc440a4708a1",
        "colab": {
          "base_uri": "https://localhost:8080/",
          "height": 282
        }
      },
      "source": [
        "np.random.seed(2)\n",
        "\n",
        "szybkosc_stron = np.random.normal(3.0, 1.0, 1000)\n",
        "ilosc_zakupow = np.random.normal(10.0, 10.0, 1000) / szybkosc_stron\n",
        "\n",
        "scatter(szybkosc_stron, ilosc_zakupow)"
      ],
      "execution_count": 5,
      "outputs": [
        {
          "output_type": "execute_result",
          "data": {
            "text/plain": [
              "<matplotlib.collections.PathCollection at 0x7f845d99fa58>"
            ]
          },
          "metadata": {
            "tags": []
          },
          "execution_count": 5
        },
        {
          "output_type": "display_data",
          "data": {
            "image/png": "[encoded data removed]",
            "text/plain": [
              "<Figure size 432x288 with 1 Axes>"
            ]
          },
          "metadata": {
            "tags": []
          }
        }
      ]
    },
    {
      "cell_type": "markdown",
      "metadata": {
        "id": "hrCfU9Axv_b6",
        "colab_type": "text"
      },
      "source": [
        "numpy ma przydatną funkcję polyfit, której możemy użyć, abyśmy mogli zbudować model wielomianowy naszych danych n-tego stopnia, który minimalizuje błąd kwadratu. Spróbujmy z wielomianem czwartego stopnia:"
      ]
    },
    {
      "cell_type": "code",
      "metadata": {
        "id": "2TAoKLoZvwiC",
        "colab_type": "code",
        "colab": {}
      },
      "source": [
        "x = np.array(szybkosc_stron)\n",
        "y = np.array(ilosc_zakupow)\n",
        "\n",
        "p4 = np.poly1d(np.polyfit(x, y, 8))\n",
        "# Klasa wygody, używana do enkapsulacji „naturalnych” operacji na\n",
        "# wielomianach, aby wspomniane operacje mogły przybrać\n",
        "# swoją zwykłą formę w kodzie."
      ],
      "execution_count": 0,
      "outputs": []
    },
    {
      "cell_type": "code",
      "metadata": {
        "id": "NmYMSuzjwJrP",
        "colab_type": "code",
        "outputId": "315256da-225b-4c17-f429-ea9632b8fdc3",
        "colab": {
          "base_uri": "https://localhost:8080/",
          "height": 268
        }
      },
      "source": [
        "xp = np.linspace(0, 6, 10)\n",
        "# linespace - zwraca równomiernie rozmieszczone liczby w określonym przedziale.\n",
        "# 0 - start - wartość początkowa sekwencji\n",
        "# 6 - stop - Wartość końcowa sekwencji, chyba że punkt końcowy jest ustawiony na False\n",
        "# 10 - liczba próbek do wygenerowania. Domyślna wartość to 50. Musi być nieujemna\n",
        "\n",
        "plt.scatter(x, y)\n",
        "plt.plot(xp, p4(xp), c='r')\n",
        "plt.show()"
      ],
      "execution_count": 7,
      "outputs": [
        {
          "output_type": "display_data",
          "data": {
            "image/png": "[encoded data removed]",
            "text/plain": [
              "<Figure size 432x288 with 1 Axes>"
            ]
          },
          "metadata": {
            "tags": []
          }
        }
      ]
    },
    {
      "cell_type": "code",
      "metadata": {
        "id": "RGHfCSYKw5YN",
        "colab_type": "code",
        "outputId": "c43cf86a-dfdf-48d5-ce0f-7d0e0f43ff2c",
        "colab": {
          "base_uri": "https://localhost:8080/",
          "height": 34
        }
      },
      "source": [
        "from sklearn.metrics import r2_score\n",
        "\n",
        "r2 = r2_score(y, p4(x))\n",
        "# R^2 (współczynnik determinacji) funkcja regresji wyniku.\n",
        "# Najlepszy możliwy wynik to 1,0 i może być ujemny (ponieważ model\n",
        "# może być arbitralnie gorszy). Stały model, który zawsze przewiduje\n",
        "# oczekiwaną wartość y, bez względu na cechy wejściowe, uzyskałby\n",
        "# wynik R ^ 2 wynoszący 0,0.\n",
        "\n",
        "print(r2)"
      ],
      "execution_count": 8,
      "outputs": [
        {
          "output_type": "stream",
          "text": [
            "0.3027100392324025\n"
          ],
          "name": "stdout"
        }
      ]
    },
    {
      "cell_type": "markdown",
      "metadata": {
        "id": "UdoUln249Vl3",
        "colab_type": "text"
      },
      "source": [
        "#### REGRESJA WIELOKROTNA - MULTIPLE REGRESSION"
      ]
    },
    {
      "cell_type": "code",
      "metadata": {
        "id": "9tkTpO_IxZ_h",
        "colab_type": "code",
        "colab": {}
      },
      "source": [
        "import pandas as pd\n",
        "\n",
        "df = pd.read_excel('http://cdn.sundog-soft.com/Udemy/DataScience/cars.xls')"
      ],
      "execution_count": 0,
      "outputs": []
    },
    {
      "cell_type": "code",
      "metadata": {
        "id": "BribX2X79xkm",
        "colab_type": "code",
        "colab": {
          "base_uri": "https://localhost:8080/",
          "height": 402
        },
        "outputId": "3dfe78f9-3939-4966-b982-1b40dd051602"
      },
      "source": [
        "data = df[['Mileage', 'Price']]\n",
        "data"
      ],
      "execution_count": 12,
      "outputs": [
        {
          "output_type": "execute_result",
          "data": {
            "text/html": [
              "<div>\n",
              "<style scoped>\n",
              "    .dataframe tbody tr th:only-of-type {\n",
              "        vertical-align: middle;\n",
              "    }\n",
              "\n",
              "    .dataframe tbody tr th {\n",
              "        vertical-align: top;\n",
              "    }\n",
              "\n",
              "    .dataframe thead th {\n",
              "        text-align: right;\n",
              "    }\n",
              "</style>\n",
              "<table border=\"1\" class=\"dataframe\">\n",
              "  <thead>\n",
              "    <tr style=\"text-align: right;\">\n",
              "      <th></th>\n",
              "      <th>Mileage</th>\n",
              "      <th>Price</th>\n",
              "    </tr>\n",
              "  </thead>\n",
              "  <tbody>\n",
              "    <tr>\n",
              "      <th>0</th>\n",
              "      <td>8221</td>\n",
              "      <td>17314.103129</td>\n",
              "    </tr>\n",
              "    <tr>\n",
              "      <th>1</th>\n",
              "      <td>9135</td>\n",
              "      <td>17542.036083</td>\n",
              "    </tr>\n",
              "    <tr>\n",
              "      <th>2</th>\n",
              "      <td>13196</td>\n",
              "      <td>16218.847862</td>\n",
              "    </tr>\n",
              "    <tr>\n",
              "      <th>3</th>\n",
              "      <td>16342</td>\n",
              "      <td>16336.913140</td>\n",
              "    </tr>\n",
              "    <tr>\n",
              "      <th>4</th>\n",
              "      <td>19832</td>\n",
              "      <td>16339.170324</td>\n",
              "    </tr>\n",
              "    <tr>\n",
              "      <th>...</th>\n",
              "      <td>...</td>\n",
              "      <td>...</td>\n",
              "    </tr>\n",
              "    <tr>\n",
              "      <th>799</th>\n",
              "      <td>16229</td>\n",
              "      <td>16507.070267</td>\n",
              "    </tr>\n",
              "    <tr>\n",
              "      <th>800</th>\n",
              "      <td>19095</td>\n",
              "      <td>16175.957604</td>\n",
              "    </tr>\n",
              "    <tr>\n",
              "      <th>801</th>\n",
              "      <td>20484</td>\n",
              "      <td>15731.132897</td>\n",
              "    </tr>\n",
              "    <tr>\n",
              "      <th>802</th>\n",
              "      <td>25979</td>\n",
              "      <td>15118.893228</td>\n",
              "    </tr>\n",
              "    <tr>\n",
              "      <th>803</th>\n",
              "      <td>35662</td>\n",
              "      <td>13585.636802</td>\n",
              "    </tr>\n",
              "  </tbody>\n",
              "</table>\n",
              "<p>804 rows × 2 columns</p>\n",
              "</div>"
            ],
            "text/plain": [
              "     Mileage         Price\n",
              "0       8221  17314.103129\n",
              "1       9135  17542.036083\n",
              "2      13196  16218.847862\n",
              "3      16342  16336.913140\n",
              "4      19832  16339.170324\n",
              "..       ...           ...\n",
              "799    16229  16507.070267\n",
              "800    19095  16175.957604\n",
              "801    20484  15731.132897\n",
              "802    25979  15118.893228\n",
              "803    35662  13585.636802\n",
              "\n",
              "[804 rows x 2 columns]"
            ]
          },
          "metadata": {
            "tags": []
          },
          "execution_count": 12
        }
      ]
    },
    {
      "cell_type": "code",
      "metadata": {
        "id": "Pm9If6KL93Sf",
        "colab_type": "code",
        "colab": {
          "base_uri": "https://localhost:8080/",
          "height": 195
        },
        "outputId": "246067f5-2166-4591-c583-edd4023866f1"
      },
      "source": [
        "pojemniki = np.arange(0, 50000, 10000) # tablica array(0, 10000, 20000, 30000, 40000, 50000)\n",
        "grupy = data.groupby(pd.cut(data['Mileage'], pojemniki)).mean()\n",
        "grupy"
      ],
      "execution_count": 15,
      "outputs": [
        {
          "output_type": "execute_result",
          "data": {
            "text/html": [
              "<div>\n",
              "<style scoped>\n",
              "    .dataframe tbody tr th:only-of-type {\n",
              "        vertical-align: middle;\n",
              "    }\n",
              "\n",
              "    .dataframe tbody tr th {\n",
              "        vertical-align: top;\n",
              "    }\n",
              "\n",
              "    .dataframe thead th {\n",
              "        text-align: right;\n",
              "    }\n",
              "</style>\n",
              "<table border=\"1\" class=\"dataframe\">\n",
              "  <thead>\n",
              "    <tr style=\"text-align: right;\">\n",
              "      <th></th>\n",
              "      <th>Mileage</th>\n",
              "      <th>Price</th>\n",
              "    </tr>\n",
              "    <tr>\n",
              "      <th>Mileage</th>\n",
              "      <th></th>\n",
              "      <th></th>\n",
              "    </tr>\n",
              "  </thead>\n",
              "  <tbody>\n",
              "    <tr>\n",
              "      <th>(0, 10000]</th>\n",
              "      <td>5588.629630</td>\n",
              "      <td>24096.714451</td>\n",
              "    </tr>\n",
              "    <tr>\n",
              "      <th>(10000, 20000]</th>\n",
              "      <td>15898.496183</td>\n",
              "      <td>21955.979607</td>\n",
              "    </tr>\n",
              "    <tr>\n",
              "      <th>(20000, 30000]</th>\n",
              "      <td>24114.407104</td>\n",
              "      <td>20278.606252</td>\n",
              "    </tr>\n",
              "    <tr>\n",
              "      <th>(30000, 40000]</th>\n",
              "      <td>33610.338710</td>\n",
              "      <td>19463.670267</td>\n",
              "    </tr>\n",
              "  </tbody>\n",
              "</table>\n",
              "</div>"
            ],
            "text/plain": [
              "                     Mileage         Price\n",
              "Mileage                                   \n",
              "(0, 10000]       5588.629630  24096.714451\n",
              "(10000, 20000]  15898.496183  21955.979607\n",
              "(20000, 30000]  24114.407104  20278.606252\n",
              "(30000, 40000]  33610.338710  19463.670267"
            ]
          },
          "metadata": {
            "tags": []
          },
          "execution_count": 15
        }
      ]
    },
    {
      "cell_type": "code",
      "metadata": {
        "id": "pV1u4fo--IgL",
        "colab_type": "code",
        "colab": {
          "base_uri": "https://localhost:8080/",
          "height": 296
        },
        "outputId": "07de85a7-94e1-4b48-a561-f407599eea4c"
      },
      "source": [
        "grupy['Price'].plot.line()"
      ],
      "execution_count": 16,
      "outputs": [
        {
          "output_type": "execute_result",
          "data": {
            "text/plain": [
              "<matplotlib.axes._subplots.AxesSubplot at 0x7f845ab76320>"
            ]
          },
          "metadata": {
            "tags": []
          },
          "execution_count": 16
        },
        {
          "output_type": "display_data",
          "data": {
            "image/png": "[encoded data removed]",
            "text/plain": [
              "<Figure size 432x288 with 1 Axes>"
            ]
          },
          "metadata": {
            "tags": []
          }
        }
      ]
    },
    {
      "cell_type": "markdown",
      "metadata": {
        "id": "nIlZ2eh4-xwp",
        "colab_type": "text"
      },
      "source": [
        "Możemy użyć pand, aby podzielić tę macierz na wektory cech, którymi jesteśmy zainteresowani, i wartość, którą próbujemy przewidzieć.\n",
        "\n",
        "Zwróć uwagę, jak unikamy marki i modelu; regresje nie działają dobrze z wartościami porządkowymi, chyba że można je przekonwertować na jakiś porządek liczbowy, który w jakiś sposób ma sens.\n",
        "\n",
        "Skalujmy nasze dane funkcji do tego samego zakresu, abyśmy mogli łatwo porównać współczynniki, z którymi w końcu otrzymamy."
      ]
    },
    {
      "cell_type": "code",
      "metadata": {
        "id": "M_bZ48av-puk",
        "colab_type": "code",
        "colab": {
          "base_uri": "https://localhost:8080/",
          "height": 402
        },
        "outputId": "35364033-447c-4cd0-b9ca-a97655ee9420"
      },
      "source": [
        "import statsmodels.api as sm\n",
        "from sklearn.preprocessing import StandardScaler\n",
        "\n",
        "x = df[['Mileage', 'Cylinder', 'Doors']]\n",
        "y = df['Price']\n",
        "\n",
        "x"
      ],
      "execution_count": 17,
      "outputs": [
        {
          "output_type": "execute_result",
          "data": {
            "text/html": [
              "<div>\n",
              "<style scoped>\n",
              "    .dataframe tbody tr th:only-of-type {\n",
              "        vertical-align: middle;\n",
              "    }\n",
              "\n",
              "    .dataframe tbody tr th {\n",
              "        vertical-align: top;\n",
              "    }\n",
              "\n",
              "    .dataframe thead th {\n",
              "        text-align: right;\n",
              "    }\n",
              "</style>\n",
              "<table border=\"1\" class=\"dataframe\">\n",
              "  <thead>\n",
              "    <tr style=\"text-align: right;\">\n",
              "      <th></th>\n",
              "      <th>Mileage</th>\n",
              "      <th>Cylinder</th>\n",
              "      <th>Doors</th>\n",
              "    </tr>\n",
              "  </thead>\n",
              "  <tbody>\n",
              "    <tr>\n",
              "      <th>0</th>\n",
              "      <td>8221</td>\n",
              "      <td>6</td>\n",
              "      <td>4</td>\n",
              "    </tr>\n",
              "    <tr>\n",
              "      <th>1</th>\n",
              "      <td>9135</td>\n",
              "      <td>6</td>\n",
              "      <td>4</td>\n",
              "    </tr>\n",
              "    <tr>\n",
              "      <th>2</th>\n",
              "      <td>13196</td>\n",
              "      <td>6</td>\n",
              "      <td>4</td>\n",
              "    </tr>\n",
              "    <tr>\n",
              "      <th>3</th>\n",
              "      <td>16342</td>\n",
              "      <td>6</td>\n",
              "      <td>4</td>\n",
              "    </tr>\n",
              "    <tr>\n",
              "      <th>4</th>\n",
              "      <td>19832</td>\n",
              "      <td>6</td>\n",
              "      <td>4</td>\n",
              "    </tr>\n",
              "    <tr>\n",
              "      <th>...</th>\n",
              "      <td>...</td>\n",
              "      <td>...</td>\n",
              "      <td>...</td>\n",
              "    </tr>\n",
              "    <tr>\n",
              "      <th>799</th>\n",
              "      <td>16229</td>\n",
              "      <td>6</td>\n",
              "      <td>4</td>\n",
              "    </tr>\n",
              "    <tr>\n",
              "      <th>800</th>\n",
              "      <td>19095</td>\n",
              "      <td>6</td>\n",
              "      <td>4</td>\n",
              "    </tr>\n",
              "    <tr>\n",
              "      <th>801</th>\n",
              "      <td>20484</td>\n",
              "      <td>6</td>\n",
              "      <td>4</td>\n",
              "    </tr>\n",
              "    <tr>\n",
              "      <th>802</th>\n",
              "      <td>25979</td>\n",
              "      <td>6</td>\n",
              "      <td>4</td>\n",
              "    </tr>\n",
              "    <tr>\n",
              "      <th>803</th>\n",
              "      <td>35662</td>\n",
              "      <td>6</td>\n",
              "      <td>4</td>\n",
              "    </tr>\n",
              "  </tbody>\n",
              "</table>\n",
              "<p>804 rows × 3 columns</p>\n",
              "</div>"
            ],
            "text/plain": [
              "     Mileage  Cylinder  Doors\n",
              "0       8221         6      4\n",
              "1       9135         6      4\n",
              "2      13196         6      4\n",
              "3      16342         6      4\n",
              "4      19832         6      4\n",
              "..       ...       ...    ...\n",
              "799    16229         6      4\n",
              "800    19095         6      4\n",
              "801    20484         6      4\n",
              "802    25979         6      4\n",
              "803    35662         6      4\n",
              "\n",
              "[804 rows x 3 columns]"
            ]
          },
          "metadata": {
            "tags": []
          },
          "execution_count": 17
        }
      ]
    },
    {
      "cell_type": "code",
      "metadata": {
        "id": "_bQaqEop_ChJ",
        "colab_type": "code",
        "colab": {
          "base_uri": "https://localhost:8080/",
          "height": 574
        },
        "outputId": "4f3a34b7-ee7e-4586-e327-c5b01e996904"
      },
      "source": [
        "skala = StandardScaler()\n",
        "\n",
        "x[['Mileage', 'Cylinder', 'Doors']] = skala.fit_transform(x[['Mileage', 'Cylinder', 'Doors']].as_matrix())\n",
        "\n",
        "print(x)\n"
      ],
      "execution_count": 26,
      "outputs": [
        {
          "output_type": "stream",
          "text": [
            "      Mileage  Cylinder     Doors\n",
            "0   -1.417485   0.52741  0.556279\n",
            "1   -1.305902   0.52741  0.556279\n",
            "2   -0.810128   0.52741  0.556279\n",
            "3   -0.426058   0.52741  0.556279\n",
            "4    0.000008   0.52741  0.556279\n",
            "..        ...       ...       ...\n",
            "799 -0.439853   0.52741  0.556279\n",
            "800 -0.089966   0.52741  0.556279\n",
            "801  0.079605   0.52741  0.556279\n",
            "802  0.750446   0.52741  0.556279\n",
            "803  1.932565   0.52741  0.556279\n",
            "\n",
            "[804 rows x 3 columns]\n"
          ],
          "name": "stdout"
        },
        {
          "output_type": "stream",
          "text": [
            "/usr/local/lib/python3.6/dist-packages/ipykernel_launcher.py:3: FutureWarning: Method .as_matrix will be removed in a future version. Use .values instead.\n",
            "  This is separate from the ipykernel package so we can avoid doing imports until\n",
            "/usr/local/lib/python3.6/dist-packages/ipykernel_launcher.py:3: SettingWithCopyWarning: \n",
            "A value is trying to be set on a copy of a slice from a DataFrame.\n",
            "Try using .loc[row_indexer,col_indexer] = value instead\n",
            "\n",
            "See the caveats in the documentation: http://pandas.pydata.org/pandas-docs/stable/user_guide/indexing.html#returning-a-view-versus-a-copy\n",
            "  This is separate from the ipykernel package so we can avoid doing imports until\n",
            "/usr/local/lib/python3.6/dist-packages/pandas/core/frame.py:3513: SettingWithCopyWarning: \n",
            "A value is trying to be set on a copy of a slice from a DataFrame\n",
            "\n",
            "See the caveats in the documentation: http://pandas.pydata.org/pandas-docs/stable/user_guide/indexing.html#returning-a-view-versus-a-copy\n",
            "  self.loc._setitem_with_indexer((slice(None), indexer), value)\n",
            "/usr/local/lib/python3.6/dist-packages/pandas/core/frame.py:3484: SettingWithCopyWarning: \n",
            "A value is trying to be set on a copy of a slice from a DataFrame\n",
            "\n",
            "See the caveats in the documentation: http://pandas.pydata.org/pandas-docs/stable/user_guide/indexing.html#returning-a-view-versus-a-copy\n",
            "  self._setitem_array(key, value)\n"
          ],
          "name": "stderr"
        }
      ]
    },
    {
      "cell_type": "code",
      "metadata": {
        "id": "LvRKIIQo_e5H",
        "colab_type": "code",
        "colab": {
          "base_uri": "https://localhost:8080/",
          "height": 446
        },
        "outputId": "9daa949f-30f1-48f3-9d1a-add7e6d5c379"
      },
      "source": [
        "est = sm.OLS(y, x).fit()\n",
        "# OSL - Ordinary Least Squares\n",
        "# Zwykłe najmniejsze kwadraty\n",
        "\n",
        "est.summary()\n"
      ],
      "execution_count": 27,
      "outputs": [
        {
          "output_type": "execute_result",
          "data": {
            "text/html": [
              "<table class=\"simpletable\">\n",
              "<caption>OLS Regression Results</caption>\n",
              "<tr>\n",
              "  <th>Dep. Variable:</th>          <td>Price</td>      <th>  R-squared (uncentered):</th>      <td>   0.064</td> \n",
              "</tr>\n",
              "<tr>\n",
              "  <th>Model:</th>                   <td>OLS</td>       <th>  Adj. R-squared (uncentered):</th> <td>   0.060</td> \n",
              "</tr>\n",
              "<tr>\n",
              "  <th>Method:</th>             <td>Least Squares</td>  <th>  F-statistic:       </th>          <td>   18.11</td> \n",
              "</tr>\n",
              "<tr>\n",
              "  <th>Date:</th>             <td>Sun, 12 Jan 2020</td> <th>  Prob (F-statistic):</th>          <td>2.23e-11</td> \n",
              "</tr>\n",
              "<tr>\n",
              "  <th>Time:</th>                 <td>18:27:46</td>     <th>  Log-Likelihood:    </th>          <td> -9207.1</td> \n",
              "</tr>\n",
              "<tr>\n",
              "  <th>No. Observations:</th>      <td>   804</td>      <th>  AIC:               </th>          <td>1.842e+04</td>\n",
              "</tr>\n",
              "<tr>\n",
              "  <th>Df Residuals:</th>          <td>   801</td>      <th>  BIC:               </th>          <td>1.843e+04</td>\n",
              "</tr>\n",
              "<tr>\n",
              "  <th>Df Model:</th>              <td>     3</td>      <th>                     </th>              <td> </td>    \n",
              "</tr>\n",
              "<tr>\n",
              "  <th>Covariance Type:</th>      <td>nonrobust</td>    <th>                     </th>              <td> </td>    \n",
              "</tr>\n",
              "</table>\n",
              "<table class=\"simpletable\">\n",
              "<tr>\n",
              "      <td></td>        <th>coef</th>     <th>std err</th>      <th>t</th>      <th>P>|t|</th>  <th>[0.025</th>    <th>0.975]</th>  \n",
              "</tr>\n",
              "<tr>\n",
              "  <th>Mileage</th>  <td>-1272.3412</td> <td>  804.623</td> <td>   -1.581</td> <td> 0.114</td> <td>-2851.759</td> <td>  307.077</td>\n",
              "</tr>\n",
              "<tr>\n",
              "  <th>Cylinder</th> <td> 5587.4472</td> <td>  804.509</td> <td>    6.945</td> <td> 0.000</td> <td> 4008.252</td> <td> 7166.642</td>\n",
              "</tr>\n",
              "<tr>\n",
              "  <th>Doors</th>    <td>-1404.5513</td> <td>  804.275</td> <td>   -1.746</td> <td> 0.081</td> <td>-2983.288</td> <td>  174.185</td>\n",
              "</tr>\n",
              "</table>\n",
              "<table class=\"simpletable\">\n",
              "<tr>\n",
              "  <th>Omnibus:</th>       <td>157.913</td> <th>  Durbin-Watson:     </th> <td>   0.008</td>\n",
              "</tr>\n",
              "<tr>\n",
              "  <th>Prob(Omnibus):</th> <td> 0.000</td>  <th>  Jarque-Bera (JB):  </th> <td> 257.529</td>\n",
              "</tr>\n",
              "<tr>\n",
              "  <th>Skew:</th>          <td> 1.278</td>  <th>  Prob(JB):          </th> <td>1.20e-56</td>\n",
              "</tr>\n",
              "<tr>\n",
              "  <th>Kurtosis:</th>      <td> 4.074</td>  <th>  Cond. No.          </th> <td>    1.03</td>\n",
              "</tr>\n",
              "</table><br/><br/>Warnings:<br/>[1] Standard Errors assume that the covariance matrix of the errors is correctly specified."
            ],
            "text/plain": [
              "<class 'statsmodels.iolib.summary.Summary'>\n",
              "\"\"\"\n",
              "                                 OLS Regression Results                                \n",
              "=======================================================================================\n",
              "Dep. Variable:                  Price   R-squared (uncentered):                   0.064\n",
              "Model:                            OLS   Adj. R-squared (uncentered):              0.060\n",
              "Method:                 Least Squares   F-statistic:                              18.11\n",
              "Date:                Sun, 12 Jan 2020   Prob (F-statistic):                    2.23e-11\n",
              "Time:                        18:27:46   Log-Likelihood:                         -9207.1\n",
              "No. Observations:                 804   AIC:                                  1.842e+04\n",
              "Df Residuals:                     801   BIC:                                  1.843e+04\n",
              "Df Model:                           3                                                  \n",
              "Covariance Type:            nonrobust                                                  \n",
              "==============================================================================\n",
              "                 coef    std err          t      P>|t|      [0.025      0.975]\n",
              "------------------------------------------------------------------------------\n",
              "Mileage    -1272.3412    804.623     -1.581      0.114   -2851.759     307.077\n",
              "Cylinder    5587.4472    804.509      6.945      0.000    4008.252    7166.642\n",
              "Doors      -1404.5513    804.275     -1.746      0.081   -2983.288     174.185\n",
              "==============================================================================\n",
              "Omnibus:                      157.913   Durbin-Watson:                   0.008\n",
              "Prob(Omnibus):                  0.000   Jarque-Bera (JB):              257.529\n",
              "Skew:                           1.278   Prob(JB):                     1.20e-56\n",
              "Kurtosis:                       4.074   Cond. No.                         1.03\n",
              "==============================================================================\n",
              "\n",
              "Warnings:\n",
              "[1] Standard Errors assume that the covariance matrix of the errors is correctly specified.\n",
              "\"\"\""
            ]
          },
          "metadata": {
            "tags": []
          },
          "execution_count": 27
        }
      ]
    },
    {
      "cell_type": "markdown",
      "metadata": {
        "id": "BO1FnohHBnxL",
        "colab_type": "text"
      },
      "source": [
        "Tabela współczynników powyżej podaje wartości, które należy podłączyć do równania formy: B0 + B1 * Przebieg (Mileage) + B2 * cylindry + B3 * drzwi\n",
        "\n",
        "W tym przykładzie jest całkiem jasne, że liczba cylindrów jest ważniejsza niż cokolwiek innego na podstawie współczynników.\n",
        "\n",
        "Czy moglibyśmy to wcześniej odkryć?"
      ]
    },
    {
      "cell_type": "code",
      "metadata": {
        "id": "KOsZfRQNBnSO",
        "colab_type": "code",
        "colab": {
          "base_uri": "https://localhost:8080/",
          "height": 84
        },
        "outputId": "bc5c30e1-f71e-4832-a14a-5ed0ef18b8b1"
      },
      "source": [
        "y.groupby(df.Doors).mean()"
      ],
      "execution_count": 28,
      "outputs": [
        {
          "output_type": "execute_result",
          "data": {
            "text/plain": [
              "Doors\n",
              "2    23807.135520\n",
              "4    20580.670749\n",
              "Name: Price, dtype: float64"
            ]
          },
          "metadata": {
            "tags": []
          },
          "execution_count": 28
        }
      ]
    },
    {
      "cell_type": "markdown",
      "metadata": {
        "id": "MCXVHEOcEIIu",
        "colab_type": "text"
      },
      "source": [
        "Co zaskakujące, więcej drzwi nie oznacza wyższej ceny! (Być może w niektórych przypadkach oznacza to samochód sportowy?) Nic więc dziwnego, że jest dość bezużyteczny jako predyktor. Jest to jednak bardzo mały zestaw danych, więc tak naprawdę nie możemy odczytać w nim dużego znaczenia.\n",
        "\n",
        "Jak wykorzystałbyś to, aby dokonać rzeczywistej prognozy? Zacznij od skalowania wielu zmiennych funkcji do tej samej skali, w której trenujesz model, a następnie po prostu wywołaj est.predict() na skalowanych operacjach:"
      ]
    },
    {
      "cell_type": "code",
      "metadata": {
        "id": "Q7geyH5CAv3C",
        "colab_type": "code",
        "colab": {
          "base_uri": "https://localhost:8080/",
          "height": 50
        },
        "outputId": "c7438890-bac5-49a1-abc7-fe955dffbc13"
      },
      "source": [
        "skalowane = skala.transform([[450, 100, 4000]])\n",
        "print(skalowane)\n",
        "\n",
        "przewidywane = est.predict(skalowane[0])\n",
        "print(przewidywane)"
      ],
      "execution_count": 30,
      "outputs": [
        {
          "output_type": "stream",
          "text": [
            "[[ 450.  100. 4000.]]\n",
            "[-5632014.20405638]\n"
          ],
          "name": "stdout"
        }
      ]
    },
    {
      "cell_type": "code",
      "metadata": {
        "id": "oFqQAkywEfFf",
        "colab_type": "code",
        "colab": {}
      },
      "source": [
        ""
      ],
      "execution_count": 0,
      "outputs": []
    }
  ]
}