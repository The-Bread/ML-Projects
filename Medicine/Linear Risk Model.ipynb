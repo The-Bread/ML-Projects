{
 "cells": [
  {
   "cell_type": "markdown",
   "metadata": {},
   "source": [
    "## Build and Evaluate a Linear Risk model"
   ]
  },
  {
   "cell_type": "code",
   "execution_count": 3,
   "metadata": {},
   "outputs": [],
   "source": [
    "import numpy as np\n",
    "import pandas as pd\n",
    "import os\n",
    "import matplotlib.pyplot as plt"
   ]
  },
  {
   "cell_type": "code",
   "execution_count": 4,
   "metadata": {},
   "outputs": [],
   "source": [
    "from assignments.C2_W1 import utils\n",
    "\n",
    "DATA_DIR = \"assignments/C2_W1/\"\n",
    "X = pd.read_csv(DATA_DIR + \"X_data.csv\", index_col=0)\n",
    "y = pd.read_csv(DATA_DIR + \"y_data.csv\", index_col=0)\n",
    "y = y['y']"
   ]
  },
  {
   "cell_type": "markdown",
   "metadata": {},
   "source": [
    "### Exploring the Dataset"
   ]
  },
  {
   "cell_type": "markdown",
   "metadata": {},
   "source": [
    "`X` includes:\n",
    "- Age: (years)\n",
    "- Systolic_BP: Systolic blood pressure (mmHg)\n",
    "- Diastolic_BP: Diastolic blood pressure (mmHg)\n",
    "- Cholesterol: (mg/DL)"
   ]
  },
  {
   "cell_type": "code",
   "execution_count": 5,
   "metadata": {},
   "outputs": [
    {
     "data": {
      "text/html": [
       "<div>\n",
       "<style scoped>\n",
       "    .dataframe tbody tr th:only-of-type {\n",
       "        vertical-align: middle;\n",
       "    }\n",
       "\n",
       "    .dataframe tbody tr th {\n",
       "        vertical-align: top;\n",
       "    }\n",
       "\n",
       "    .dataframe thead th {\n",
       "        text-align: right;\n",
       "    }\n",
       "</style>\n",
       "<table border=\"1\" class=\"dataframe\">\n",
       "  <thead>\n",
       "    <tr style=\"text-align: right;\">\n",
       "      <th></th>\n",
       "      <th>Age</th>\n",
       "      <th>Systolic_BP</th>\n",
       "      <th>Diastolic_BP</th>\n",
       "      <th>Cholesterol</th>\n",
       "    </tr>\n",
       "  </thead>\n",
       "  <tbody>\n",
       "    <tr>\n",
       "      <th>0</th>\n",
       "      <td>77.196340</td>\n",
       "      <td>85.288742</td>\n",
       "      <td>80.021878</td>\n",
       "      <td>79.957109</td>\n",
       "    </tr>\n",
       "    <tr>\n",
       "      <th>1</th>\n",
       "      <td>63.529850</td>\n",
       "      <td>99.379736</td>\n",
       "      <td>84.852361</td>\n",
       "      <td>110.382411</td>\n",
       "    </tr>\n",
       "    <tr>\n",
       "      <th>2</th>\n",
       "      <td>69.003986</td>\n",
       "      <td>111.349455</td>\n",
       "      <td>109.850616</td>\n",
       "      <td>100.828246</td>\n",
       "    </tr>\n",
       "    <tr>\n",
       "      <th>3</th>\n",
       "      <td>82.638210</td>\n",
       "      <td>95.056128</td>\n",
       "      <td>79.666851</td>\n",
       "      <td>87.066303</td>\n",
       "    </tr>\n",
       "    <tr>\n",
       "      <th>4</th>\n",
       "      <td>78.346286</td>\n",
       "      <td>109.154591</td>\n",
       "      <td>90.713220</td>\n",
       "      <td>92.511770</td>\n",
       "    </tr>\n",
       "  </tbody>\n",
       "</table>\n",
       "</div>"
      ],
      "text/plain": [
       "         Age  Systolic_BP  Diastolic_BP  Cholesterol\n",
       "0  77.196340    85.288742     80.021878    79.957109\n",
       "1  63.529850    99.379736     84.852361   110.382411\n",
       "2  69.003986   111.349455    109.850616   100.828246\n",
       "3  82.638210    95.056128     79.666851    87.066303\n",
       "4  78.346286   109.154591     90.713220    92.511770"
      ]
     },
     "execution_count": 5,
     "metadata": {},
     "output_type": "execute_result"
    }
   ],
   "source": [
    "X.head()"
   ]
  },
  {
   "cell_type": "markdown",
   "metadata": {},
   "source": [
    "The target `y` indicates whether or not the patient developed retinopathy:\n",
    "- y = 1 : patient has retinopathy.\n",
    "- y = 0 : patient does not have retinopathy."
   ]
  },
  {
   "cell_type": "code",
   "execution_count": 6,
   "metadata": {},
   "outputs": [
    {
     "data": {
      "text/plain": [
       "0    1.0\n",
       "1    1.0\n",
       "2    1.0\n",
       "3    1.0\n",
       "4    1.0\n",
       "Name: y, dtype: float64"
      ]
     },
     "execution_count": 6,
     "metadata": {},
     "output_type": "execute_result"
    }
   ],
   "source": [
    "y.head()"
   ]
  },
  {
   "cell_type": "code",
   "execution_count": 7,
   "metadata": {},
   "outputs": [],
   "source": [
    "from sklearn.model_selection import train_test_split\n",
    "\n",
    "X_train_raw, X_test_raw, y_train, y_test = train_test_split(X, y, train_size=0.75)"
   ]
  },
  {
   "cell_type": "code",
   "execution_count": 8,
   "metadata": {},
   "outputs": [
    {
     "data": {
      "image/png": "[encoded data removed]",
      "text/plain": [
       "<Figure size 432x288 with 1 Axes>"
      ]
     },
     "metadata": {
      "needs_background": "light"
     },
     "output_type": "display_data"
    },
    {
     "data": {
      "image/png": "[encoded data removed]",
      "text/plain": [
       "<Figure size 432x288 with 1 Axes>"
      ]
     },
     "metadata": {
      "needs_background": "light"
     },
     "output_type": "display_data"
    },
    {
     "data": {
      "image/png": "[encoded data removed]",
      "text/plain": [
       "<Figure size 432x288 with 1 Axes>"
      ]
     },
     "metadata": {
      "needs_background": "light"
     },
     "output_type": "display_data"
    },
    {
     "data": {
      "image/png": "[encoded data removed]",
      "text/plain": [
       "<Figure size 432x288 with 1 Axes>"
      ]
     },
     "metadata": {
      "needs_background": "light"
     },
     "output_type": "display_data"
    }
   ],
   "source": [
    "for col in X.columns:\n",
    "    X_train_raw.loc[:, col].hist()\n",
    "    plt.title(col)\n",
    "    plt.show()"
   ]
  },
  {
   "cell_type": "markdown",
   "metadata": {},
   "source": [
    "As seen above, the distributions have a generally bell shaped distribution, but with slight rightward skew.\n",
    "\n",
    "Many statistical models assume that data is normally distributed, forming a symmetric Gaussian bell shape (no skew), more like the example below."
   ]
  },
  {
   "cell_type": "code",
   "execution_count": 9,
   "metadata": {},
   "outputs": [
    {
     "data": {
      "image/png": "[encoded data removed]",
      "text/plain": [
       "<Figure size 432x288 with 1 Axes>"
      ]
     },
     "metadata": {
      "needs_background": "light"
     },
     "output_type": "display_data"
    }
   ],
   "source": [
    "from scipy.stats import norm\n",
    "\n",
    "data = np.random.normal(50, 12, 5000)\n",
    "fitting_params = norm.fit(data)\n",
    "norm_dist_fitted = norm(*fitting_params)\n",
    "t = np.linspace(0, 100, 100)\n",
    "plt.hist(data, bins=60, density=True)\n",
    "plt.plot(t, norm_dist_fitted.pdf(t))\n",
    "plt.title(\"Example of Normally Distributed Data\")\n",
    "plt.show()"
   ]
  },
  {
   "cell_type": "markdown",
   "metadata": {},
   "source": [
    "Now removing the skew and transform the data to be closer to a normal distribution.\n",
    "\n",
    "One way to remove the skew is by applying the log function to the data."
   ]
  },
  {
   "cell_type": "code",
   "execution_count": 10,
   "metadata": {},
   "outputs": [
    {
     "data": {
      "image/png": "[encoded data removed]",
      "text/plain": [
       "<Figure size 432x288 with 1 Axes>"
      ]
     },
     "metadata": {
      "needs_background": "light"
     },
     "output_type": "display_data"
    },
    {
     "data": {
      "image/png": "[encoded data removed]",
      "text/plain": [
       "<Figure size 432x288 with 1 Axes>"
      ]
     },
     "metadata": {
      "needs_background": "light"
     },
     "output_type": "display_data"
    },
    {
     "data": {
      "image/png": "[encoded data removed]",
      "text/plain": [
       "<Figure size 432x288 with 1 Axes>"
      ]
     },
     "metadata": {
      "needs_background": "light"
     },
     "output_type": "display_data"
    },
    {
     "data": {
      "image/png": "[encoded data removed]",
      "text/plain": [
       "<Figure size 432x288 with 1 Axes>"
      ]
     },
     "metadata": {
      "needs_background": "light"
     },
     "output_type": "display_data"
    }
   ],
   "source": [
    "for col in X_train_raw.columns:\n",
    "    np.log(X_train_raw.loc[:, col]).hist()\n",
    "    plt.title(col)\n",
    "    plt.show()"
   ]
  },
  {
   "cell_type": "markdown",
   "metadata": {},
   "source": [
    "The data seems to be more symmetric after taking the log."
   ]
  },
  {
   "cell_type": "markdown",
   "metadata": {},
   "source": [
    "### Mean Normalizing the Data"
   ]
  },
  {
   "cell_type": "markdown",
   "metadata": {},
   "source": [
    "Transforming the data so that the distributions are closer to standard normal distributions.\n",
    "\n",
    "First I'll remove some of the skew from the distribution by using the log transformation.\n",
    "\n",
    "Then we'll standarize the distribution so that it has a mean o 0 and standard"
   ]
  },
  {
   "cell_type": "code",
   "execution_count": 11,
   "metadata": {},
   "outputs": [],
   "source": [
    "def make_standard_normal(df_train, df_test):\n",
    "    df_train_unskewed = np.log(df_train)\n",
    "    df_test_unskewed = np.log(df_test)\n",
    "\n",
    "    mean = df_train_unskewed.mean()\n",
    "    stdev = df_train_unskewed.std(ddof=1)\n",
    "    \n",
    "    df_train_standarized = (df_train_unskewed - mean) / stdev\n",
    "    \n",
    "    df_test_standarized = (df_test_unskewed - mean) / stdev\n",
    "    \n",
    "    return df_train_standarized, df_test_standarized "
   ]
  },
  {
   "cell_type": "code",
   "execution_count": 12,
   "metadata": {},
   "outputs": [],
   "source": [
    "X_train, X_test = make_standard_normal(X_train_raw, X_test_raw)"
   ]
  },
  {
   "cell_type": "code",
   "execution_count": 13,
   "metadata": {},
   "outputs": [
    {
     "data": {
      "image/png": "[encoded data removed]",
      "text/plain": [
       "<Figure size 432x288 with 1 Axes>"
      ]
     },
     "metadata": {
      "needs_background": "light"
     },
     "output_type": "display_data"
    },
    {
     "data": {
      "image/png": "[encoded data removed]",
      "text/plain": [
       "<Figure size 432x288 with 1 Axes>"
      ]
     },
     "metadata": {
      "needs_background": "light"
     },
     "output_type": "display_data"
    },
    {
     "data": {
      "image/png": "[encoded data removed]",
      "text/plain": [
       "<Figure size 432x288 with 1 Axes>"
      ]
     },
     "metadata": {
      "needs_background": "light"
     },
     "output_type": "display_data"
    },
    {
     "data": {
      "image/png": "[encoded data removed]",
      "text/plain": [
       "<Figure size 432x288 with 1 Axes>"
      ]
     },
     "metadata": {
      "needs_background": "light"
     },
     "output_type": "display_data"
    }
   ],
   "source": [
    "for col in X_train.columns:\n",
    "    X_train[col].hist()\n",
    "    plt.title(col)\n",
    "    plt.show()"
   ]
  },
  {
   "cell_type": "markdown",
   "metadata": {},
   "source": [
    "### Building the Model"
   ]
  },
  {
   "cell_type": "code",
   "execution_count": 14,
   "metadata": {},
   "outputs": [],
   "source": [
    "def lr_model(X_train, y_train):\n",
    "    from sklearn.linear_model import LogisticRegression\n",
    "    \n",
    "    model = LogisticRegression()\n",
    "    \n",
    "    model.fit(X_train, y_train)\n",
    "    \n",
    "    return model"
   ]
  },
  {
   "cell_type": "code",
   "execution_count": 15,
   "metadata": {},
   "outputs": [],
   "source": [
    "model_X = lr_model(X_train, y_train)"
   ]
  },
  {
   "cell_type": "markdown",
   "metadata": {},
   "source": [
    "### Evaluating using the C-index"
   ]
  },
  {
   "cell_type": "markdown",
   "metadata": {},
   "source": [
    "- the c-index measures the discriminatory power of a risk score\n",
    "- a higher c-index indicates that the model's prediction is in agreement with the actual outcomes of a pair of patients\n",
    "- the formula for the c-index is:\n",
    "\n",
    "$$ \\mbox{cindex} = \\frac{\\mbox{concordant} + 0.5 \\times \\mbox{ties}}{\\mbox{permissible}} $$\n",
    "\n"
   ]
  },
  {
   "cell_type": "markdown",
   "metadata": {},
   "source": [
    "- a **permissible pair** is a pair of patients who have different outcomes\n",
    "- a **concordant pair** is a pair in which the patient with the higher risk score also has the worse outcome\n",
    "- a **tie** is a permissible pair, where the patients have the same risk score"
   ]
  },
  {
   "cell_type": "code",
   "execution_count": 17,
   "metadata": {},
   "outputs": [],
   "source": [
    "def cindex(y_true, scores):\n",
    "    n = len(y_true)\n",
    "    assert len(scores) == n\n",
    "    \n",
    "    concordant = 0\n",
    "    permissible = 0\n",
    "    ties = 0\n",
    "    \n",
    "    for i in range(n):\n",
    "        for j in range(i+1, n):\n",
    "            # is permissible?\n",
    "            if y_true[i] != y_true[j]:\n",
    "                permissible += 1\n",
    "                \n",
    "                if scores[i] == scores[j]:\n",
    "                    ties += 1\n",
    "                    continue\n",
    "                    \n",
    "            # case 1: patient i doesn't get the disease, pateint j does\n",
    "            if y_true[i] == 0 and y_true[j] == 1:\n",
    "                if scores[i] < scores[j]:\n",
    "                    concordant += 1\n",
    "                    \n",
    "            # case 2: patient i does get the disease, pateint j does not\n",
    "            if y_true[i] == 1 and y_true[j] == 0:\n",
    "                if scores[i] > scores[j]:\n",
    "                    concordant += 1\n",
    "                    \n",
    "    c_index = (concordant + 0.5*ties) / permissible\n",
    "    \n",
    "    return c_index"
   ]
  },
  {
   "cell_type": "markdown",
   "metadata": {},
   "source": [
    "### Evaluating the Model on the Test Set"
   ]
  },
  {
   "cell_type": "markdown",
   "metadata": {},
   "source": [
    "The `predict_proba` method will return the result from the model before it is converted to a binary 0 or 1.\n",
    "\n",
    "For each input case, it returns an array of two values which represent the probabilities for both the negative case and positive case."
   ]
  },
  {
   "cell_type": "code",
   "execution_count": 20,
   "metadata": {},
   "outputs": [
    {
     "name": "stdout",
     "output_type": "stream",
     "text": [
      "0.80701136357571\n"
     ]
    }
   ],
   "source": [
    "scores = model_X.predict_proba(X_test)[:, 1]\n",
    "c_index_X_test = cindex(y_test.values, scores)\n",
    "print(c_index_X_test)"
   ]
  },
  {
   "cell_type": "code",
   "execution_count": 21,
   "metadata": {},
   "outputs": [
    {
     "data": {
      "text/plain": [
       "<matplotlib.axes._subplots.AxesSubplot at 0x27545cc9308>"
      ]
     },
     "execution_count": 21,
     "metadata": {},
     "output_type": "execute_result"
    },
    {
     "data": {
      "image/png": "[encoded data removed]",
      "text/plain": [
       "<Figure size 432x288 with 1 Axes>"
      ]
     },
     "metadata": {
      "needs_background": "light"
     },
     "output_type": "display_data"
    }
   ],
   "source": [
    "coeffs = pd.DataFrame(data=model_X.coef_, columns=X_train.columns)\n",
    "coeffs.T.plot.bar(legend=None)"
   ]
  },
  {
   "cell_type": "markdown",
   "metadata": {},
   "source": [
    "### Improving the Model"
   ]
  },
  {
   "cell_type": "markdown",
   "metadata": {},
   "source": [
    "The model can be improved by including interaction terms.\n",
    "**Interaction term is the product of two variables.**\n",
    "\n",
    "* For example, if we have data \n",
    "    $$ x = [x_1, x_2]$$\n",
    "* We could add the product so that:\n",
    "    $$ \\hat{x} = [x_1, x_2, x_1*x_2]$$"
   ]
  },
  {
   "cell_type": "code",
   "execution_count": 22,
   "metadata": {},
   "outputs": [],
   "source": [
    "def add_interactions(X):\n",
    "    features = X.columns\n",
    "    m = len(features)\n",
    "    X_int = X.copy(deep=True)\n",
    "    \n",
    "    for i in range(m):\n",
    "        feature_i_name = features[i]\n",
    "        feature_i_data = X[feature_i_name]\n",
    "        \n",
    "        for j in range(i+1, m):\n",
    "            feature_j_name = features[j]\n",
    "            feature_j_data = X[feature_j_name]\n",
    "            \n",
    "            feature_i_j_name = f\"{feature_i_name}_x_{feature_j_name}\"\n",
    "            \n",
    "            X_int[feature_i_j_name] = feature_i_data * feature_j_data \n",
    "            \n",
    "    return X_int"
   ]
  },
  {
   "cell_type": "code",
   "execution_count": 23,
   "metadata": {},
   "outputs": [],
   "source": [
    "X_train_int = add_interactions(X_train)\n",
    "X_test_int = add_interactions(X_test)"
   ]
  },
  {
   "cell_type": "markdown",
   "metadata": {},
   "source": [
    "### Evaluate the Improved Model"
   ]
  },
  {
   "cell_type": "code",
   "execution_count": 24,
   "metadata": {},
   "outputs": [],
   "source": [
    "model_X_int = lr_model(X_train_int, y_train)"
   ]
  },
  {
   "cell_type": "code",
   "execution_count": 25,
   "metadata": {},
   "outputs": [
    {
     "name": "stdout",
     "output_type": "stream",
     "text": [
      "0.80701136357571\n",
      "0.8135338105074378\n"
     ]
    }
   ],
   "source": [
    "scores_X = model_X.predict_proba(X_test)[:, 1]\n",
    "c_index_X_int_test = cindex(y_test.values, scores_X)\n",
    "\n",
    "scores_X_int = model_X_int.predict_proba(X_test_int)[:, 1]\n",
    "c_index_X_int_test = cindex(y_test.values, scores_X_int)\n",
    "\n",
    "print(c_index_X_test)\n",
    "print(c_index_X_int_test)"
   ]
  },
  {
   "cell_type": "code",
   "execution_count": 26,
   "metadata": {},
   "outputs": [
    {
     "data": {
      "text/plain": [
       "<matplotlib.axes._subplots.AxesSubplot at 0x27545bd8408>"
      ]
     },
     "execution_count": 26,
     "metadata": {},
     "output_type": "execute_result"
    },
    {
     "data": {
      "image/png": "[encoded data removed]",
      "text/plain": [
       "<Figure size 432x288 with 1 Axes>"
      ]
     },
     "metadata": {
      "needs_background": "light"
     },
     "output_type": "display_data"
    }
   ],
   "source": [
    "int_coeffs = pd.DataFrame(data=model_X_int.coef_, columns=X_train_int.columns)\n",
    "int_coeffs.T.plot.bar()"
   ]
  },
  {
   "cell_type": "markdown",
   "metadata": {},
   "source": [
    "Age, Systolic_BP and Cholesterol have a positive coefficient.\n",
    "\n",
    "This means that a higher value in these three features leads to a higher prediction probability for the disease.\n",
    "\n",
    "Interaction of Age x Cholesterol has a negative coefficient/ This means that a higher value for the Age x Cholesterol product reduces the prediction probability for the disease. "
   ]
  },
  {
   "cell_type": "markdown",
   "metadata": {},
   "source": [
    "To better understand the effect of interaction terms, should we compare the output of the model that has been trained on sample cases with and without the interaction."
   ]
  },
  {
   "cell_type": "code",
   "execution_count": 27,
   "metadata": {},
   "outputs": [
    {
     "name": "stdout",
     "output_type": "stream",
     "text": [
      "Age                          -0.698779\n",
      "Systolic_BP                  -0.532250\n",
      "Diastolic_BP                 -0.048946\n",
      "Cholesterol                  -1.245706\n",
      "Age_x_Systolic_BP             0.371925\n",
      "Age_x_Diastolic_BP            0.034202\n",
      "Age_x_Cholesterol             0.870473\n",
      "Systolic_BP_x_Diastolic_BP    0.026051\n",
      "Systolic_BP_x_Cholesterol     0.663027\n",
      "Diastolic_BP_x_Cholesterol    0.060972\n",
      "Name: 4266, dtype: float64\n"
     ]
    }
   ],
   "source": [
    "index = 1234\n",
    "case = X_train_int.iloc[index, :]\n",
    "print(case)"
   ]
  },
  {
   "cell_type": "markdown",
   "metadata": {},
   "source": [
    "Age and Cholesterol is above average. What our original model would have output by zero-ing out the for Cholesterol and Age."
   ]
  },
  {
   "cell_type": "code",
   "execution_count": 28,
   "metadata": {},
   "outputs": [
    {
     "data": {
      "text/plain": [
       "Age                          -0.698779\n",
       "Systolic_BP                  -0.532250\n",
       "Diastolic_BP                 -0.048946\n",
       "Cholesterol                  -1.245706\n",
       "Age_x_Systolic_BP             0.371925\n",
       "Age_x_Diastolic_BP            0.034202\n",
       "Age_x_Cholesterol             0.000000\n",
       "Systolic_BP_x_Diastolic_BP    0.026051\n",
       "Systolic_BP_x_Cholesterol     0.663027\n",
       "Diastolic_BP_x_Cholesterol    0.060972\n",
       "Name: 4266, dtype: float64"
      ]
     },
     "execution_count": 28,
     "metadata": {},
     "output_type": "execute_result"
    }
   ],
   "source": [
    "new_case = case.copy(deep=True)\n",
    "new_case.loc[\"Age_x_Cholesterol\"] = 0\n",
    "new_case"
   ]
  },
  {
   "cell_type": "code",
   "execution_count": 33,
   "metadata": {},
   "outputs": [
    {
     "name": "stdout",
     "output_type": "stream",
     "text": [
      "Output with interaction:  0.06474257376773881\n",
      "Output without interaction:  0.10359267082261066\n"
     ]
    }
   ],
   "source": [
    "print(\"Output with interaction: \", model_X_int.predict_proba([case.values])[:, 1][0])\n",
    "print(\"Output without interaction: \", model_X_int.predict_proba([new_case.values])[:, 1][0])"
   ]
  },
  {
   "cell_type": "code",
   "execution_count": null,
   "metadata": {},
   "outputs": [],
   "source": []
  }
 ],
 "metadata": {
  "kernelspec": {
   "display_name": "Python 3",
   "language": "python",
   "name": "python3"
  },
  "language_info": {
   "codemirror_mode": {
    "name": "ipython",
    "version": 3
   },
   "file_extension": ".py",
   "mimetype": "text/x-python",
   "name": "python",
   "nbconvert_exporter": "python",
   "pygments_lexer": "ipython3",
   "version": "3.7.6"
  }
 },
 "nbformat": 4,
 "nbformat_minor": 4
}
