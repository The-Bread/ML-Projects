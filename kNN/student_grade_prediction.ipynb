{
 "cells": [
  {
   "cell_type": "code",
   "execution_count": 1,
   "metadata": {},
   "outputs": [],
   "source": [
    "import sklearn\n",
    "import pandas as pd\n",
    "import numpy as np\n",
    "from sklearn.utils import shuffle\n",
    "from sklearn import linear_model\n",
    "import pickle\n",
    "import matplotlib.pyplot as plt\n",
    "from matplotlib import style"
   ]
  },
  {
   "cell_type": "code",
   "execution_count": 2,
   "metadata": {},
   "outputs": [],
   "source": [
    "data = pd.read_csv('student_mat.csv', sep=\";\")\n",
    "\n",
    "data = data[[\"G1\", \"G2\", \"G3\", \"studytime\", \"failures\", \"absences\"]]\n",
    "data= shuffle(data)"
   ]
  },
  {
   "cell_type": "code",
   "execution_count": 3,
   "metadata": {},
   "outputs": [
    {
     "name": "stdout",
     "output_type": "stream",
     "text": [
      "     G1  G2  G3  studytime  failures  absences\n",
      "122  13  13  13          2         0         2\n",
      "272  11  11  11          2         0         2\n",
      "173   8   7   0          2         3         0\n",
      "29   10  12  11          2         0        16\n",
      "190  11  12  13          2         0        10\n"
     ]
    }
   ],
   "source": [
    "print(data.head())"
   ]
  },
  {
   "cell_type": "code",
   "execution_count": 4,
   "metadata": {},
   "outputs": [],
   "source": [
    "predict = \"G3\""
   ]
  },
  {
   "cell_type": "code",
   "execution_count": 5,
   "metadata": {},
   "outputs": [],
   "source": [
    "X = np.array(data.drop([predict], 1))\n",
    "y = np.array(data[predict])\n",
    "\n",
    "x_train, x_test, y_train, y_test = sklearn.model_selection.train_test_split(X, y, test_size=0.1)"
   ]
  },
  {
   "cell_type": "code",
   "execution_count": 6,
   "metadata": {},
   "outputs": [],
   "source": [
    "# linear = linear_model.LinearRegression()\n",
    "# linear.fit(x_train, y_train)\n",
    "# acc = linear.score(x_test, y_test)\n",
    "#\n",
    "# print(acc)\n",
    "# print(\"Coefficient: \", linear.coef_) # współczynnik - wartość każdego nachylenia\n",
    "# print(\"Intercepr:\", linear.intercept_) # przechwyt\n",
    "#\n",
    "# predictions = linear.predict(x_test) # a list of all predicitons\n",
    "# for i in range(len(predictions)):\n",
    "#     print(predictions[i], x_test[i], y_test[i])\n",
    "#\n",
    "# with open(\"student_grades.pickle\", \"wb\") as f:\n",
    "#     pickle.dump(linear, f)\n"
   ]
  },
  {
   "cell_type": "code",
   "execution_count": 7,
   "metadata": {},
   "outputs": [
    {
     "name": "stdout",
     "output_type": "stream",
     "text": [
      "Accuracy:  0.7935866593535106\n",
      "Accuracy:  0.7675221022841536\n",
      "Accuracy:  0.8647584671575421\n",
      "Accuracy:  0.7653787553549537\n",
      "Accuracy:  0.8429537536783005\n",
      "Accuracy:  0.7674919418541204\n",
      "Accuracy:  0.7795674103761097\n",
      "Accuracy:  0.9128716729543752\n",
      "Accuracy:  0.8503879875263367\n",
      "Accuracy:  0.7456460539402057\n",
      "Accuracy:  0.8147133547943739\n",
      "Accuracy:  0.9219604786171933\n",
      "Accuracy:  0.603019418488605\n",
      "Accuracy:  0.801495881447662\n",
      "Accuracy:  0.7317205683000045\n",
      "Accuracy:  0.7840858538773849\n",
      "Accuracy:  0.7334487595121737\n",
      "Accuracy:  0.921639432827126\n",
      "Accuracy:  0.875393252193888\n",
      "Accuracy:  0.8611443121068647\n"
     ]
    }
   ],
   "source": [
    "best = 0\n",
    "for i in range(20):\n",
    "    x_train, x_test, y_train, y_test = sklearn.model_selection.train_test_split(X, y, test_size=0.1)\n",
    "\n",
    "    linear = linear_model.LinearRegression()\n",
    "\n",
    "    linear.fit(x_train, y_train)\n",
    "    acc = linear.score(x_test, y_test)\n",
    "    print(\"Accuracy: \", str(acc))\n",
    "\n",
    "    if acc > best:\n",
    "        best = acc\n",
    "        with open(\"studentgrades.pickle\", \"wb\") as f:\n",
    "            pickle.dump(linear, f)"
   ]
  },
  {
   "cell_type": "code",
   "execution_count": 8,
   "metadata": {},
   "outputs": [
    {
     "name": "stdout",
     "output_type": "stream",
     "text": [
      "7.843142639794813 [7 9 3 0 0] 8\n",
      "13.126539085666368 [14 13  2  0  2] 13\n",
      "3.4555584145103433 [3 5 2 1 8] 5\n",
      "9.743080121582508 [11 10  2  1 12] 10\n",
      "11.755054767097054 [14 12  2  1  0] 12\n",
      "8.271854993353307 [8 9 2 0 2] 10\n",
      "10.62996913940284 [11 11  2  0  0] 10\n",
      "12.247524671763241 [12 12  2  0 14] 12\n",
      "10.418561315968523 [10 11  4  0 10] 11\n",
      "6.423653052816121 [ 7  8  2  3 10] 10\n",
      "12.697826732107874 [13 13  3  0  0] 14\n",
      "9.404815224964727 [ 9 10  2  0  2] 10\n",
      "3.626270275299305 [7 5 3 1 0] 0\n",
      "9.635464708005415 [10 10  2  0  4] 11\n",
      "5.267396486537093 [8 7 2 3 0] 0\n",
      "-0.7550328232054887 [12  0  3  2  0] 0\n",
      "11.045336540044824 [11 11  2  0 12] 11\n",
      "-0.8352972270537371 [7 0 1 1 0] 0\n",
      "11.63409440060345 [12 12  3  0  2] 11\n",
      "16.492833167977746 [16 16  1  0  0] 15\n",
      "12.431912037416625 [14 12  2  0 10] 11\n",
      "15.069616383021831 [14 15  2  0  2] 15\n",
      "6.506225905839628 [8 8 1 3 2] 10\n",
      "15.507949566383505 [15 15  2  0 10] 15\n",
      "11.18444360185588 [ 9 12  3  0  3] 11\n",
      "14.065491121821218 [13 14  1  0  0] 13\n",
      "8.465863188809877 [10  9  3  0  4] 9\n",
      "14.940781412611017 [14 15  3  0  4] 16\n",
      "5.034395881452735 [6 6 2 0 2] 6\n",
      "9.312621542138036 [ 8 10  2  0  4] 10\n",
      "16.36399819756694 [16 16  2  0  2] 16\n",
      "8.467569816691345 [ 8  8  1  0 30] 8\n",
      "6.8061032889873125 [9 8 1 3 6] 10\n",
      "10.952812305270218 [13 11  2  0  0] 10\n",
      "11.662861084270363 [13 12  2  1  2] 12\n",
      "4.993934665012649 [7 6 1 1 0] 0\n",
      "12.965117502732676 [13 13  2  0  2] 11\n",
      "-0.7026423277869593 [7 0 2 0 0] 0\n",
      "20.076431780413305 [18 19  1  0 10] 19\n",
      "9.635464708005415 [10 10  2  0  4] 10\n"
     ]
    }
   ],
   "source": [
    "prediction = linear.predict(x_test)\n",
    "for i in range(len(prediction)):\n",
    "    print(prediction[i], x_test[i], y_test[i])"
   ]
  },
  {
   "cell_type": "code",
   "execution_count": 10,
   "metadata": {},
   "outputs": [
    {
     "data": {
      "image/png": "[encoded data removed]",
      "text/plain": [
       "<Figure size 432x288 with 1 Axes>"
      ]
     },
     "metadata": {
      "needs_background": "light"
     },
     "output_type": "display_data"
    }
   ],
   "source": [
    "plot = \"failures\"\n",
    "plt.scatter(data[plot], data['G3'])\n",
    "plt.xlabel(\"failures\")\n",
    "plt.ylabel(\"Final grade\")\n",
    "plt.show()"
   ]
  },
  {
   "cell_type": "code",
   "execution_count": null,
   "metadata": {},
   "outputs": [],
   "source": []
  }
 ],
 "metadata": {
  "kernelspec": {
   "display_name": "Python 3",
   "language": "python",
   "name": "python3"
  },
  "language_info": {
   "codemirror_mode": {
    "name": "ipython",
    "version": 3
   },
   "file_extension": ".py",
   "mimetype": "text/x-python",
   "name": "python",
   "nbconvert_exporter": "python",
   "pygments_lexer": "ipython3",
   "version": "3.7.4"
  }
 },
 "nbformat": 4,
 "nbformat_minor": 2
}
